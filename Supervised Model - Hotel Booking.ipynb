{
 "cells": [
  {
   "cell_type": "markdown",
   "id": "57aa7332",
   "metadata": {},
   "source": [
    "<font size=\"6\">Hotel Booking Cancellation Prediction</font>"
   ]
  },
  {
   "cell_type": "markdown",
   "id": "03eee317",
   "metadata": {},
   "source": [
    "This notebook serves as supervised classification machine learning model exercise."
   ]
  },
  {
   "cell_type": "markdown",
   "id": "4def0b0c",
   "metadata": {},
   "source": [
    "# Load Dataset\n",
    "\n",
    "Dataset used in this project was acquired from: [Kaggle](https://www.kaggle.com/datasets/jessemostipak/hotel-booking-demand)  \n",
    "Antonio, N., de Almedia, A. & Nunes, L. 2019. Hotel Booking Demand Datasets. *Data in Brief* (22):41-49."
   ]
  },
  {
   "cell_type": "code",
   "execution_count": 89,
   "id": "0f41f27e",
   "metadata": {
    "ExecuteTime": {
     "end_time": "2022-03-30T07:46:13.523048Z",
     "start_time": "2022-03-30T07:46:13.516232Z"
    }
   },
   "outputs": [],
   "source": [
    "import pandas as pd\n",
    "import numpy as np\n",
    "import statistics"
   ]
  },
  {
   "cell_type": "code",
   "execution_count": 90,
   "id": "78096c14",
   "metadata": {
    "ExecuteTime": {
     "end_time": "2022-03-30T07:46:14.606655Z",
     "start_time": "2022-03-30T07:46:14.008055Z"
    }
   },
   "outputs": [
    {
     "data": {
      "text/html": [
       "<div>\n",
       "<style scoped>\n",
       "    .dataframe tbody tr th:only-of-type {\n",
       "        vertical-align: middle;\n",
       "    }\n",
       "\n",
       "    .dataframe tbody tr th {\n",
       "        vertical-align: top;\n",
       "    }\n",
       "\n",
       "    .dataframe thead th {\n",
       "        text-align: right;\n",
       "    }\n",
       "</style>\n",
       "<table border=\"1\" class=\"dataframe\">\n",
       "  <thead>\n",
       "    <tr style=\"text-align: right;\">\n",
       "      <th></th>\n",
       "      <th>hotel</th>\n",
       "      <th>is_canceled</th>\n",
       "      <th>adults</th>\n",
       "      <th>children</th>\n",
       "      <th>babies</th>\n",
       "      <th>meal</th>\n",
       "      <th>country</th>\n",
       "      <th>market_segment</th>\n",
       "      <th>distribution_channel</th>\n",
       "      <th>reserved_room_type</th>\n",
       "      <th>booking_changes</th>\n",
       "      <th>deposit_type</th>\n",
       "      <th>days_in_waiting_list</th>\n",
       "      <th>customer_type</th>\n",
       "      <th>required_car_parking_spaces</th>\n",
       "      <th>total_of_special_requests</th>\n",
       "    </tr>\n",
       "  </thead>\n",
       "  <tbody>\n",
       "    <tr>\n",
       "      <th>0</th>\n",
       "      <td>Resort Hotel</td>\n",
       "      <td>0</td>\n",
       "      <td>2</td>\n",
       "      <td>0.0</td>\n",
       "      <td>0</td>\n",
       "      <td>BB</td>\n",
       "      <td>PRT</td>\n",
       "      <td>Direct</td>\n",
       "      <td>Direct</td>\n",
       "      <td>C</td>\n",
       "      <td>3</td>\n",
       "      <td>No Deposit</td>\n",
       "      <td>0</td>\n",
       "      <td>Transient</td>\n",
       "      <td>0</td>\n",
       "      <td>0</td>\n",
       "    </tr>\n",
       "    <tr>\n",
       "      <th>1</th>\n",
       "      <td>Resort Hotel</td>\n",
       "      <td>0</td>\n",
       "      <td>2</td>\n",
       "      <td>0.0</td>\n",
       "      <td>0</td>\n",
       "      <td>BB</td>\n",
       "      <td>PRT</td>\n",
       "      <td>Direct</td>\n",
       "      <td>Direct</td>\n",
       "      <td>C</td>\n",
       "      <td>4</td>\n",
       "      <td>No Deposit</td>\n",
       "      <td>0</td>\n",
       "      <td>Transient</td>\n",
       "      <td>0</td>\n",
       "      <td>0</td>\n",
       "    </tr>\n",
       "    <tr>\n",
       "      <th>2</th>\n",
       "      <td>Resort Hotel</td>\n",
       "      <td>0</td>\n",
       "      <td>1</td>\n",
       "      <td>0.0</td>\n",
       "      <td>0</td>\n",
       "      <td>BB</td>\n",
       "      <td>GBR</td>\n",
       "      <td>Direct</td>\n",
       "      <td>Direct</td>\n",
       "      <td>A</td>\n",
       "      <td>0</td>\n",
       "      <td>No Deposit</td>\n",
       "      <td>0</td>\n",
       "      <td>Transient</td>\n",
       "      <td>0</td>\n",
       "      <td>0</td>\n",
       "    </tr>\n",
       "    <tr>\n",
       "      <th>3</th>\n",
       "      <td>Resort Hotel</td>\n",
       "      <td>0</td>\n",
       "      <td>1</td>\n",
       "      <td>0.0</td>\n",
       "      <td>0</td>\n",
       "      <td>BB</td>\n",
       "      <td>GBR</td>\n",
       "      <td>Corporate</td>\n",
       "      <td>Corporate</td>\n",
       "      <td>A</td>\n",
       "      <td>0</td>\n",
       "      <td>No Deposit</td>\n",
       "      <td>0</td>\n",
       "      <td>Transient</td>\n",
       "      <td>0</td>\n",
       "      <td>0</td>\n",
       "    </tr>\n",
       "    <tr>\n",
       "      <th>4</th>\n",
       "      <td>Resort Hotel</td>\n",
       "      <td>0</td>\n",
       "      <td>2</td>\n",
       "      <td>0.0</td>\n",
       "      <td>0</td>\n",
       "      <td>BB</td>\n",
       "      <td>GBR</td>\n",
       "      <td>Online TA</td>\n",
       "      <td>TA/TO</td>\n",
       "      <td>A</td>\n",
       "      <td>0</td>\n",
       "      <td>No Deposit</td>\n",
       "      <td>0</td>\n",
       "      <td>Transient</td>\n",
       "      <td>0</td>\n",
       "      <td>1</td>\n",
       "    </tr>\n",
       "    <tr>\n",
       "      <th>...</th>\n",
       "      <td>...</td>\n",
       "      <td>...</td>\n",
       "      <td>...</td>\n",
       "      <td>...</td>\n",
       "      <td>...</td>\n",
       "      <td>...</td>\n",
       "      <td>...</td>\n",
       "      <td>...</td>\n",
       "      <td>...</td>\n",
       "      <td>...</td>\n",
       "      <td>...</td>\n",
       "      <td>...</td>\n",
       "      <td>...</td>\n",
       "      <td>...</td>\n",
       "      <td>...</td>\n",
       "      <td>...</td>\n",
       "    </tr>\n",
       "    <tr>\n",
       "      <th>4995</th>\n",
       "      <td>Resort Hotel</td>\n",
       "      <td>1</td>\n",
       "      <td>2</td>\n",
       "      <td>0.0</td>\n",
       "      <td>0</td>\n",
       "      <td>HB</td>\n",
       "      <td>PRT</td>\n",
       "      <td>Groups</td>\n",
       "      <td>Direct</td>\n",
       "      <td>D</td>\n",
       "      <td>0</td>\n",
       "      <td>Non Refund</td>\n",
       "      <td>0</td>\n",
       "      <td>Transient</td>\n",
       "      <td>0</td>\n",
       "      <td>0</td>\n",
       "    </tr>\n",
       "    <tr>\n",
       "      <th>4996</th>\n",
       "      <td>Resort Hotel</td>\n",
       "      <td>1</td>\n",
       "      <td>2</td>\n",
       "      <td>0.0</td>\n",
       "      <td>0</td>\n",
       "      <td>HB</td>\n",
       "      <td>PRT</td>\n",
       "      <td>Groups</td>\n",
       "      <td>Direct</td>\n",
       "      <td>D</td>\n",
       "      <td>0</td>\n",
       "      <td>Non Refund</td>\n",
       "      <td>0</td>\n",
       "      <td>Transient</td>\n",
       "      <td>0</td>\n",
       "      <td>0</td>\n",
       "    </tr>\n",
       "    <tr>\n",
       "      <th>4997</th>\n",
       "      <td>Resort Hotel</td>\n",
       "      <td>1</td>\n",
       "      <td>2</td>\n",
       "      <td>0.0</td>\n",
       "      <td>0</td>\n",
       "      <td>HB</td>\n",
       "      <td>PRT</td>\n",
       "      <td>Groups</td>\n",
       "      <td>Direct</td>\n",
       "      <td>A</td>\n",
       "      <td>0</td>\n",
       "      <td>Non Refund</td>\n",
       "      <td>0</td>\n",
       "      <td>Transient</td>\n",
       "      <td>0</td>\n",
       "      <td>0</td>\n",
       "    </tr>\n",
       "    <tr>\n",
       "      <th>4998</th>\n",
       "      <td>Resort Hotel</td>\n",
       "      <td>1</td>\n",
       "      <td>2</td>\n",
       "      <td>0.0</td>\n",
       "      <td>0</td>\n",
       "      <td>HB</td>\n",
       "      <td>PRT</td>\n",
       "      <td>Groups</td>\n",
       "      <td>Direct</td>\n",
       "      <td>A</td>\n",
       "      <td>0</td>\n",
       "      <td>Non Refund</td>\n",
       "      <td>0</td>\n",
       "      <td>Transient</td>\n",
       "      <td>0</td>\n",
       "      <td>0</td>\n",
       "    </tr>\n",
       "    <tr>\n",
       "      <th>4999</th>\n",
       "      <td>Resort Hotel</td>\n",
       "      <td>1</td>\n",
       "      <td>2</td>\n",
       "      <td>0.0</td>\n",
       "      <td>0</td>\n",
       "      <td>HB</td>\n",
       "      <td>PRT</td>\n",
       "      <td>Groups</td>\n",
       "      <td>Direct</td>\n",
       "      <td>D</td>\n",
       "      <td>0</td>\n",
       "      <td>Non Refund</td>\n",
       "      <td>0</td>\n",
       "      <td>Transient</td>\n",
       "      <td>0</td>\n",
       "      <td>0</td>\n",
       "    </tr>\n",
       "  </tbody>\n",
       "</table>\n",
       "<p>5000 rows × 16 columns</p>\n",
       "</div>"
      ],
      "text/plain": [
       "             hotel  is_canceled  adults  children  babies meal country  \\\n",
       "0     Resort Hotel            0       2       0.0       0   BB     PRT   \n",
       "1     Resort Hotel            0       2       0.0       0   BB     PRT   \n",
       "2     Resort Hotel            0       1       0.0       0   BB     GBR   \n",
       "3     Resort Hotel            0       1       0.0       0   BB     GBR   \n",
       "4     Resort Hotel            0       2       0.0       0   BB     GBR   \n",
       "...            ...          ...     ...       ...     ...  ...     ...   \n",
       "4995  Resort Hotel            1       2       0.0       0   HB     PRT   \n",
       "4996  Resort Hotel            1       2       0.0       0   HB     PRT   \n",
       "4997  Resort Hotel            1       2       0.0       0   HB     PRT   \n",
       "4998  Resort Hotel            1       2       0.0       0   HB     PRT   \n",
       "4999  Resort Hotel            1       2       0.0       0   HB     PRT   \n",
       "\n",
       "     market_segment distribution_channel reserved_room_type  booking_changes  \\\n",
       "0            Direct               Direct                  C                3   \n",
       "1            Direct               Direct                  C                4   \n",
       "2            Direct               Direct                  A                0   \n",
       "3         Corporate            Corporate                  A                0   \n",
       "4         Online TA                TA/TO                  A                0   \n",
       "...             ...                  ...                ...              ...   \n",
       "4995         Groups               Direct                  D                0   \n",
       "4996         Groups               Direct                  D                0   \n",
       "4997         Groups               Direct                  A                0   \n",
       "4998         Groups               Direct                  A                0   \n",
       "4999         Groups               Direct                  D                0   \n",
       "\n",
       "     deposit_type  days_in_waiting_list customer_type  \\\n",
       "0      No Deposit                     0     Transient   \n",
       "1      No Deposit                     0     Transient   \n",
       "2      No Deposit                     0     Transient   \n",
       "3      No Deposit                     0     Transient   \n",
       "4      No Deposit                     0     Transient   \n",
       "...           ...                   ...           ...   \n",
       "4995   Non Refund                     0     Transient   \n",
       "4996   Non Refund                     0     Transient   \n",
       "4997   Non Refund                     0     Transient   \n",
       "4998   Non Refund                     0     Transient   \n",
       "4999   Non Refund                     0     Transient   \n",
       "\n",
       "      required_car_parking_spaces  total_of_special_requests  \n",
       "0                               0                          0  \n",
       "1                               0                          0  \n",
       "2                               0                          0  \n",
       "3                               0                          0  \n",
       "4                               0                          1  \n",
       "...                           ...                        ...  \n",
       "4995                            0                          0  \n",
       "4996                            0                          0  \n",
       "4997                            0                          0  \n",
       "4998                            0                          0  \n",
       "4999                            0                          0  \n",
       "\n",
       "[5000 rows x 16 columns]"
      ]
     },
     "execution_count": 90,
     "metadata": {},
     "output_type": "execute_result"
    }
   ],
   "source": [
    "hotel= pd.read_csv('hotel_bookings.csv')\n",
    "hotel= hotel.iloc[:5000][['hotel', 'is_canceled', 'adults', 'children', 'babies', 'meal', \n",
    "                          'country', 'market_segment', 'distribution_channel', 'reserved_room_type', \n",
    "                          'booking_changes', 'deposit_type', 'days_in_waiting_list', 'customer_type', \n",
    "                          'required_car_parking_spaces', 'total_of_special_requests']]\n",
    "hotel"
   ]
  },
  {
   "cell_type": "markdown",
   "id": "47359a61",
   "metadata": {},
   "source": [
    "## Data - Columns Description\n",
    "\n",
    "Data were obtained from 2 hotels which are located in Portugal: Resort Hotel at the resort region of Algarve and City Hotel at the city of Lisbon. In this analysis, only the **first 5000 data** were used, which **only consist of Resort Hotel**, and also **only using these columns below** for analysis:\n",
    "\n",
    "* is_canceled: *Value indicating if the booking was canceled (1) or not (0).*\n",
    "* adults: *Number of adults.*\n",
    "* children: *Number of children.*\n",
    "* babies: *Number of babies.*\n",
    "* meal: *Type of meal booked. Categories are presented in standard hospitality meal packages:* \n",
    "    * *Undefined/SC – no meal package;*\n",
    "    * *BB – Bed & Breakfast;*\n",
    "    * *HB – Half board (breakfast and one other meal – usually dinner);*\n",
    "    * *FB – Full board (breakfast, lunch and dinner).*\n",
    "* country: *Country of origin.*\n",
    "* market_segment: *Market segment designation.* \n",
    "    * *In categories, the term “TA” means “Travel Agents” and “TO” means “Tour Operators”.*\n",
    "* distribution_channel:  Booking distribution channel. \n",
    "    * *The term “TA” means “Travel Agents” and “TO” means “Tour Operators”.*\n",
    "* reserved_room_type:  *Code of room type reserved. Code is presented instead of designation for anonymity reasons.*\n",
    "* booking_changes:  *Number of changes/amendments made to the booking from the moment the booking was entered on the PMS until the moment of check-in or cancellation.*\n",
    "* deposit_type: *Indication on if the customer made a deposit to guarantee the booking.*\n",
    "    * *No Deposit – no deposit was made;*\n",
    "    * *Non Refund – a deposit was made in the value of the total stay cost;*\n",
    "    * *Refundable – a deposit was made with a value under the total cost of stay.*\n",
    "* days_in_waiting_list: *Number of days the booking was in the waiting list before it was confirmed to the customer.*\n",
    "* customer_type: *Type of booking, assuming one of four categories:*\n",
    "    * *Contract - when the booking has an allotment or other type of contract associated to it;*\n",
    "    * *Group – when the booking is associated to a group;*\n",
    "    * *Transient – when the booking is not part of a group or contract, and is not associated to other transient booking;*\n",
    "    * *Transient-party – when the booking is transient, but is associated to at least other transient booking.*\n",
    "* required_car_parking_spaces: *Number of car parking spaces required by the customer.*\n",
    "* total_of_special_requests: *Number of special requests made by the customer (e.g. twin bed or high floor).*"
   ]
  },
  {
   "cell_type": "markdown",
   "id": "01845fa5",
   "metadata": {},
   "source": [
    "# Data Cleaning"
   ]
  },
  {
   "cell_type": "markdown",
   "id": "036e1460",
   "metadata": {
    "ExecuteTime": {
     "end_time": "2022-01-30T13:24:13.192484Z",
     "start_time": "2022-01-30T13:24:13.160483Z"
    }
   },
   "source": [
    "## Quick Exploratory Data Analysis (EDA)"
   ]
  },
  {
   "cell_type": "code",
   "execution_count": 91,
   "id": "bcad78c1",
   "metadata": {
    "ExecuteTime": {
     "end_time": "2022-03-30T07:46:14.808132Z",
     "start_time": "2022-03-30T07:46:14.759468Z"
    }
   },
   "outputs": [
    {
     "data": {
      "text/html": [
       "<div>\n",
       "<style scoped>\n",
       "    .dataframe tbody tr th:only-of-type {\n",
       "        vertical-align: middle;\n",
       "    }\n",
       "\n",
       "    .dataframe tbody tr th {\n",
       "        vertical-align: top;\n",
       "    }\n",
       "\n",
       "    .dataframe thead th {\n",
       "        text-align: right;\n",
       "    }\n",
       "</style>\n",
       "<table border=\"1\" class=\"dataframe\">\n",
       "  <thead>\n",
       "    <tr style=\"text-align: right;\">\n",
       "      <th></th>\n",
       "      <th>is_canceled</th>\n",
       "      <th>adults</th>\n",
       "      <th>children</th>\n",
       "      <th>babies</th>\n",
       "      <th>booking_changes</th>\n",
       "      <th>days_in_waiting_list</th>\n",
       "      <th>required_car_parking_spaces</th>\n",
       "      <th>total_of_special_requests</th>\n",
       "    </tr>\n",
       "  </thead>\n",
       "  <tbody>\n",
       "    <tr>\n",
       "      <th>count</th>\n",
       "      <td>5000.000000</td>\n",
       "      <td>5000.000000</td>\n",
       "      <td>5000.000000</td>\n",
       "      <td>5000.000000</td>\n",
       "      <td>5000.000000</td>\n",
       "      <td>5000.000000</td>\n",
       "      <td>5000.000000</td>\n",
       "      <td>5000.000000</td>\n",
       "    </tr>\n",
       "    <tr>\n",
       "      <th>mean</th>\n",
       "      <td>0.459600</td>\n",
       "      <td>1.969800</td>\n",
       "      <td>0.115600</td>\n",
       "      <td>0.014800</td>\n",
       "      <td>0.207200</td>\n",
       "      <td>1.772000</td>\n",
       "      <td>0.093800</td>\n",
       "      <td>0.602000</td>\n",
       "    </tr>\n",
       "    <tr>\n",
       "      <th>std</th>\n",
       "      <td>0.498415</td>\n",
       "      <td>1.566326</td>\n",
       "      <td>0.444833</td>\n",
       "      <td>0.122409</td>\n",
       "      <td>0.612489</td>\n",
       "      <td>13.545358</td>\n",
       "      <td>0.292948</td>\n",
       "      <td>0.823245</td>\n",
       "    </tr>\n",
       "    <tr>\n",
       "      <th>min</th>\n",
       "      <td>0.000000</td>\n",
       "      <td>0.000000</td>\n",
       "      <td>0.000000</td>\n",
       "      <td>0.000000</td>\n",
       "      <td>0.000000</td>\n",
       "      <td>0.000000</td>\n",
       "      <td>0.000000</td>\n",
       "      <td>0.000000</td>\n",
       "    </tr>\n",
       "    <tr>\n",
       "      <th>25%</th>\n",
       "      <td>0.000000</td>\n",
       "      <td>2.000000</td>\n",
       "      <td>0.000000</td>\n",
       "      <td>0.000000</td>\n",
       "      <td>0.000000</td>\n",
       "      <td>0.000000</td>\n",
       "      <td>0.000000</td>\n",
       "      <td>0.000000</td>\n",
       "    </tr>\n",
       "    <tr>\n",
       "      <th>50%</th>\n",
       "      <td>0.000000</td>\n",
       "      <td>2.000000</td>\n",
       "      <td>0.000000</td>\n",
       "      <td>0.000000</td>\n",
       "      <td>0.000000</td>\n",
       "      <td>0.000000</td>\n",
       "      <td>0.000000</td>\n",
       "      <td>0.000000</td>\n",
       "    </tr>\n",
       "    <tr>\n",
       "      <th>75%</th>\n",
       "      <td>1.000000</td>\n",
       "      <td>2.000000</td>\n",
       "      <td>0.000000</td>\n",
       "      <td>0.000000</td>\n",
       "      <td>0.000000</td>\n",
       "      <td>0.000000</td>\n",
       "      <td>0.000000</td>\n",
       "      <td>1.000000</td>\n",
       "    </tr>\n",
       "    <tr>\n",
       "      <th>max</th>\n",
       "      <td>1.000000</td>\n",
       "      <td>55.000000</td>\n",
       "      <td>10.000000</td>\n",
       "      <td>2.000000</td>\n",
       "      <td>17.000000</td>\n",
       "      <td>122.000000</td>\n",
       "      <td>2.000000</td>\n",
       "      <td>4.000000</td>\n",
       "    </tr>\n",
       "  </tbody>\n",
       "</table>\n",
       "</div>"
      ],
      "text/plain": [
       "       is_canceled       adults     children       babies  booking_changes  \\\n",
       "count  5000.000000  5000.000000  5000.000000  5000.000000      5000.000000   \n",
       "mean      0.459600     1.969800     0.115600     0.014800         0.207200   \n",
       "std       0.498415     1.566326     0.444833     0.122409         0.612489   \n",
       "min       0.000000     0.000000     0.000000     0.000000         0.000000   \n",
       "25%       0.000000     2.000000     0.000000     0.000000         0.000000   \n",
       "50%       0.000000     2.000000     0.000000     0.000000         0.000000   \n",
       "75%       1.000000     2.000000     0.000000     0.000000         0.000000   \n",
       "max       1.000000    55.000000    10.000000     2.000000        17.000000   \n",
       "\n",
       "       days_in_waiting_list  required_car_parking_spaces  \\\n",
       "count           5000.000000                  5000.000000   \n",
       "mean               1.772000                     0.093800   \n",
       "std               13.545358                     0.292948   \n",
       "min                0.000000                     0.000000   \n",
       "25%                0.000000                     0.000000   \n",
       "50%                0.000000                     0.000000   \n",
       "75%                0.000000                     0.000000   \n",
       "max              122.000000                     2.000000   \n",
       "\n",
       "       total_of_special_requests  \n",
       "count                5000.000000  \n",
       "mean                    0.602000  \n",
       "std                     0.823245  \n",
       "min                     0.000000  \n",
       "25%                     0.000000  \n",
       "50%                     0.000000  \n",
       "75%                     1.000000  \n",
       "max                     4.000000  "
      ]
     },
     "execution_count": 91,
     "metadata": {},
     "output_type": "execute_result"
    }
   ],
   "source": [
    "hotel.describe() # There were unusual max value in adults, children, days_in_waiting_list columns."
   ]
  },
  {
   "cell_type": "code",
   "execution_count": 92,
   "id": "3b7ce7b2",
   "metadata": {
    "ExecuteTime": {
     "end_time": "2022-03-30T07:46:15.018371Z",
     "start_time": "2022-03-30T07:46:14.973601Z"
    }
   },
   "outputs": [
    {
     "data": {
      "text/html": [
       "<div>\n",
       "<style scoped>\n",
       "    .dataframe tbody tr th:only-of-type {\n",
       "        vertical-align: middle;\n",
       "    }\n",
       "\n",
       "    .dataframe tbody tr th {\n",
       "        vertical-align: top;\n",
       "    }\n",
       "\n",
       "    .dataframe thead th {\n",
       "        text-align: right;\n",
       "    }\n",
       "</style>\n",
       "<table border=\"1\" class=\"dataframe\">\n",
       "  <thead>\n",
       "    <tr style=\"text-align: right;\">\n",
       "      <th></th>\n",
       "      <th>hotel</th>\n",
       "      <th>meal</th>\n",
       "      <th>country</th>\n",
       "      <th>market_segment</th>\n",
       "      <th>distribution_channel</th>\n",
       "      <th>reserved_room_type</th>\n",
       "      <th>deposit_type</th>\n",
       "      <th>customer_type</th>\n",
       "    </tr>\n",
       "  </thead>\n",
       "  <tbody>\n",
       "    <tr>\n",
       "      <th>count</th>\n",
       "      <td>5000</td>\n",
       "      <td>5000</td>\n",
       "      <td>4998</td>\n",
       "      <td>5000</td>\n",
       "      <td>5000</td>\n",
       "      <td>5000</td>\n",
       "      <td>5000</td>\n",
       "      <td>5000</td>\n",
       "    </tr>\n",
       "    <tr>\n",
       "      <th>unique</th>\n",
       "      <td>1</td>\n",
       "      <td>5</td>\n",
       "      <td>56</td>\n",
       "      <td>6</td>\n",
       "      <td>3</td>\n",
       "      <td>9</td>\n",
       "      <td>3</td>\n",
       "      <td>4</td>\n",
       "    </tr>\n",
       "    <tr>\n",
       "      <th>top</th>\n",
       "      <td>Resort Hotel</td>\n",
       "      <td>BB</td>\n",
       "      <td>PRT</td>\n",
       "      <td>Online TA</td>\n",
       "      <td>TA/TO</td>\n",
       "      <td>A</td>\n",
       "      <td>No Deposit</td>\n",
       "      <td>Transient</td>\n",
       "    </tr>\n",
       "    <tr>\n",
       "      <th>freq</th>\n",
       "      <td>5000</td>\n",
       "      <td>3418</td>\n",
       "      <td>3174</td>\n",
       "      <td>2156</td>\n",
       "      <td>3657</td>\n",
       "      <td>3167</td>\n",
       "      <td>4461</td>\n",
       "      <td>3699</td>\n",
       "    </tr>\n",
       "  </tbody>\n",
       "</table>\n",
       "</div>"
      ],
      "text/plain": [
       "               hotel  meal country market_segment distribution_channel  \\\n",
       "count           5000  5000    4998           5000                 5000   \n",
       "unique             1     5      56              6                    3   \n",
       "top     Resort Hotel    BB     PRT      Online TA                TA/TO   \n",
       "freq            5000  3418    3174           2156                 3657   \n",
       "\n",
       "       reserved_room_type deposit_type customer_type  \n",
       "count                5000         5000          5000  \n",
       "unique                  9            3             4  \n",
       "top                     A   No Deposit     Transient  \n",
       "freq                 3167         4461          3699  "
      ]
     },
     "execution_count": 92,
     "metadata": {},
     "output_type": "execute_result"
    }
   ],
   "source": [
    "hotel.describe(include='object') # There were 2 missing value in country column."
   ]
  },
  {
   "cell_type": "markdown",
   "id": "2d1e8d1b",
   "metadata": {},
   "source": [
    "Making sure that the categorical data's unique values are the same with the paper description:"
   ]
  },
  {
   "cell_type": "markdown",
   "id": "9d9e4674",
   "metadata": {},
   "source": [
    "### Meal"
   ]
  },
  {
   "cell_type": "code",
   "execution_count": 93,
   "id": "282e5b61",
   "metadata": {
    "ExecuteTime": {
     "end_time": "2022-03-30T07:46:15.494333Z",
     "start_time": "2022-03-30T07:46:15.486548Z"
    }
   },
   "outputs": [
    {
     "data": {
      "text/plain": [
       "array(['BB', 'FB', 'HB', 'SC', 'Undefined'], dtype=object)"
      ]
     },
     "execution_count": 93,
     "metadata": {},
     "output_type": "execute_result"
    }
   ],
   "source": [
    "hotel['meal'].unique() # Based on the research paper, SC and Undefined supposed to be in the same group - no meal package."
   ]
  },
  {
   "cell_type": "markdown",
   "id": "3769da0a",
   "metadata": {},
   "source": [
    "### Country"
   ]
  },
  {
   "cell_type": "code",
   "execution_count": 94,
   "id": "ba3804ca",
   "metadata": {
    "ExecuteTime": {
     "end_time": "2022-03-30T07:46:15.931357Z",
     "start_time": "2022-03-30T07:46:15.921625Z"
    }
   },
   "outputs": [
    {
     "data": {
      "text/plain": [
       "array(['PRT', 'GBR', 'USA', 'ESP', 'IRL', 'FRA', nan, 'ROU', 'NOR', 'OMN',\n",
       "       'ARG', 'POL', 'DEU', 'BEL', 'CHE', 'CN', 'GRC', 'ITA', 'NLD',\n",
       "       'DNK', 'RUS', 'SWE', 'AUS', 'EST', 'CZE', 'BRA', 'FIN', 'MOZ',\n",
       "       'BWA', 'LUX', 'SVN', 'ALB', 'IND', 'CHN', 'MEX', 'MAR', 'UKR',\n",
       "       'SMR', 'LVA', 'PRI', 'SRB', 'CHL', 'AUT', 'BLR', 'LTU', 'TUR',\n",
       "       'ZAF', 'AGO', 'ISR', 'CYM', 'ZMB', 'CPV', 'ZWE', 'DZA', 'KOR',\n",
       "       'CRI', 'HUN'], dtype=object)"
      ]
     },
     "execution_count": 94,
     "metadata": {},
     "output_type": "execute_result"
    }
   ],
   "source": [
    "hotel['country'].unique()"
   ]
  },
  {
   "cell_type": "markdown",
   "id": "cec5abf3",
   "metadata": {},
   "source": [
    "### Market Segment"
   ]
  },
  {
   "cell_type": "code",
   "execution_count": 95,
   "id": "2e394bf1",
   "metadata": {
    "ExecuteTime": {
     "end_time": "2022-03-30T07:46:16.294414Z",
     "start_time": "2022-03-30T07:46:16.285654Z"
    },
    "scrolled": true
   },
   "outputs": [
    {
     "data": {
      "text/plain": [
       "array(['Direct', 'Corporate', 'Online TA', 'Offline TA/TO',\n",
       "       'Complementary', 'Groups'], dtype=object)"
      ]
     },
     "execution_count": 95,
     "metadata": {},
     "output_type": "execute_result"
    }
   ],
   "source": [
    "hotel['market_segment'].unique()"
   ]
  },
  {
   "cell_type": "markdown",
   "id": "a5dda1cd",
   "metadata": {},
   "source": [
    "### Distribution Channel"
   ]
  },
  {
   "cell_type": "code",
   "execution_count": 96,
   "id": "6288186f",
   "metadata": {
    "ExecuteTime": {
     "end_time": "2022-03-30T07:46:16.670200Z",
     "start_time": "2022-03-30T07:46:16.662331Z"
    }
   },
   "outputs": [
    {
     "data": {
      "text/plain": [
       "array(['Direct', 'Corporate', 'TA/TO'], dtype=object)"
      ]
     },
     "execution_count": 96,
     "metadata": {},
     "output_type": "execute_result"
    }
   ],
   "source": [
    "hotel['distribution_channel'].unique()"
   ]
  },
  {
   "cell_type": "markdown",
   "id": "e4eb8330",
   "metadata": {},
   "source": [
    "### Deposit Type"
   ]
  },
  {
   "cell_type": "code",
   "execution_count": 97,
   "id": "40d568a3",
   "metadata": {
    "ExecuteTime": {
     "end_time": "2022-03-30T07:46:17.010131Z",
     "start_time": "2022-03-30T07:46:17.001369Z"
    }
   },
   "outputs": [
    {
     "data": {
      "text/plain": [
       "array(['No Deposit', 'Refundable', 'Non Refund'], dtype=object)"
      ]
     },
     "execution_count": 97,
     "metadata": {},
     "output_type": "execute_result"
    }
   ],
   "source": [
    "hotel['deposit_type'].unique()"
   ]
  },
  {
   "cell_type": "markdown",
   "id": "0d3809e6",
   "metadata": {},
   "source": [
    "### Customer Type"
   ]
  },
  {
   "cell_type": "code",
   "execution_count": 98,
   "id": "94557a83",
   "metadata": {
    "ExecuteTime": {
     "end_time": "2022-03-30T07:46:17.341068Z",
     "start_time": "2022-03-30T07:46:17.331332Z"
    }
   },
   "outputs": [
    {
     "data": {
      "text/plain": [
       "array(['Transient', 'Contract', 'Transient-Party', 'Group'], dtype=object)"
      ]
     },
     "execution_count": 98,
     "metadata": {},
     "output_type": "execute_result"
    }
   ],
   "source": [
    "hotel['customer_type'].unique()"
   ]
  },
  {
   "cell_type": "markdown",
   "id": "b0bb9047",
   "metadata": {},
   "source": [
    "## Extreme Values in adults, children, and days_in_waiting_list"
   ]
  },
  {
   "cell_type": "code",
   "execution_count": 99,
   "id": "a01ac9e6",
   "metadata": {
    "ExecuteTime": {
     "end_time": "2022-03-30T07:46:17.754732Z",
     "start_time": "2022-03-30T07:46:17.721637Z"
    }
   },
   "outputs": [
    {
     "data": {
      "text/html": [
       "<div>\n",
       "<style scoped>\n",
       "    .dataframe tbody tr th:only-of-type {\n",
       "        vertical-align: middle;\n",
       "    }\n",
       "\n",
       "    .dataframe tbody tr th {\n",
       "        vertical-align: top;\n",
       "    }\n",
       "\n",
       "    .dataframe thead th {\n",
       "        text-align: right;\n",
       "    }\n",
       "</style>\n",
       "<table border=\"1\" class=\"dataframe\">\n",
       "  <thead>\n",
       "    <tr style=\"text-align: right;\">\n",
       "      <th></th>\n",
       "      <th>hotel</th>\n",
       "      <th>is_canceled</th>\n",
       "      <th>adults</th>\n",
       "      <th>children</th>\n",
       "      <th>babies</th>\n",
       "      <th>meal</th>\n",
       "      <th>country</th>\n",
       "      <th>market_segment</th>\n",
       "      <th>distribution_channel</th>\n",
       "      <th>reserved_room_type</th>\n",
       "      <th>booking_changes</th>\n",
       "      <th>deposit_type</th>\n",
       "      <th>days_in_waiting_list</th>\n",
       "      <th>customer_type</th>\n",
       "      <th>required_car_parking_spaces</th>\n",
       "      <th>total_of_special_requests</th>\n",
       "    </tr>\n",
       "  </thead>\n",
       "  <tbody>\n",
       "    <tr>\n",
       "      <th>125</th>\n",
       "      <td>Resort Hotel</td>\n",
       "      <td>0</td>\n",
       "      <td>4</td>\n",
       "      <td>0.0</td>\n",
       "      <td>0</td>\n",
       "      <td>FB</td>\n",
       "      <td>PRT</td>\n",
       "      <td>Complementary</td>\n",
       "      <td>Direct</td>\n",
       "      <td>H</td>\n",
       "      <td>2</td>\n",
       "      <td>No Deposit</td>\n",
       "      <td>0</td>\n",
       "      <td>Transient</td>\n",
       "      <td>0</td>\n",
       "      <td>1</td>\n",
       "    </tr>\n",
       "    <tr>\n",
       "      <th>354</th>\n",
       "      <td>Resort Hotel</td>\n",
       "      <td>0</td>\n",
       "      <td>4</td>\n",
       "      <td>0.0</td>\n",
       "      <td>0</td>\n",
       "      <td>BB</td>\n",
       "      <td>PRT</td>\n",
       "      <td>Direct</td>\n",
       "      <td>Direct</td>\n",
       "      <td>L</td>\n",
       "      <td>0</td>\n",
       "      <td>No Deposit</td>\n",
       "      <td>0</td>\n",
       "      <td>Transient</td>\n",
       "      <td>0</td>\n",
       "      <td>0</td>\n",
       "    </tr>\n",
       "    <tr>\n",
       "      <th>1023</th>\n",
       "      <td>Resort Hotel</td>\n",
       "      <td>1</td>\n",
       "      <td>4</td>\n",
       "      <td>0.0</td>\n",
       "      <td>0</td>\n",
       "      <td>BB</td>\n",
       "      <td>PRT</td>\n",
       "      <td>Direct</td>\n",
       "      <td>Direct</td>\n",
       "      <td>H</td>\n",
       "      <td>0</td>\n",
       "      <td>No Deposit</td>\n",
       "      <td>0</td>\n",
       "      <td>Transient</td>\n",
       "      <td>0</td>\n",
       "      <td>0</td>\n",
       "    </tr>\n",
       "    <tr>\n",
       "      <th>1539</th>\n",
       "      <td>Resort Hotel</td>\n",
       "      <td>1</td>\n",
       "      <td>40</td>\n",
       "      <td>0.0</td>\n",
       "      <td>0</td>\n",
       "      <td>BB</td>\n",
       "      <td>PRT</td>\n",
       "      <td>Direct</td>\n",
       "      <td>Direct</td>\n",
       "      <td>A</td>\n",
       "      <td>0</td>\n",
       "      <td>No Deposit</td>\n",
       "      <td>0</td>\n",
       "      <td>Group</td>\n",
       "      <td>0</td>\n",
       "      <td>0</td>\n",
       "    </tr>\n",
       "    <tr>\n",
       "      <th>1587</th>\n",
       "      <td>Resort Hotel</td>\n",
       "      <td>1</td>\n",
       "      <td>26</td>\n",
       "      <td>0.0</td>\n",
       "      <td>0</td>\n",
       "      <td>BB</td>\n",
       "      <td>PRT</td>\n",
       "      <td>Offline TA/TO</td>\n",
       "      <td>TA/TO</td>\n",
       "      <td>A</td>\n",
       "      <td>0</td>\n",
       "      <td>No Deposit</td>\n",
       "      <td>0</td>\n",
       "      <td>Group</td>\n",
       "      <td>0</td>\n",
       "      <td>0</td>\n",
       "    </tr>\n",
       "    <tr>\n",
       "      <th>1643</th>\n",
       "      <td>Resort Hotel</td>\n",
       "      <td>1</td>\n",
       "      <td>50</td>\n",
       "      <td>0.0</td>\n",
       "      <td>0</td>\n",
       "      <td>BB</td>\n",
       "      <td>PRT</td>\n",
       "      <td>Direct</td>\n",
       "      <td>Direct</td>\n",
       "      <td>A</td>\n",
       "      <td>0</td>\n",
       "      <td>No Deposit</td>\n",
       "      <td>0</td>\n",
       "      <td>Group</td>\n",
       "      <td>0</td>\n",
       "      <td>0</td>\n",
       "    </tr>\n",
       "    <tr>\n",
       "      <th>1752</th>\n",
       "      <td>Resort Hotel</td>\n",
       "      <td>1</td>\n",
       "      <td>26</td>\n",
       "      <td>0.0</td>\n",
       "      <td>0</td>\n",
       "      <td>BB</td>\n",
       "      <td>PRT</td>\n",
       "      <td>Offline TA/TO</td>\n",
       "      <td>TA/TO</td>\n",
       "      <td>A</td>\n",
       "      <td>0</td>\n",
       "      <td>No Deposit</td>\n",
       "      <td>0</td>\n",
       "      <td>Group</td>\n",
       "      <td>0</td>\n",
       "      <td>0</td>\n",
       "    </tr>\n",
       "    <tr>\n",
       "      <th>1884</th>\n",
       "      <td>Resort Hotel</td>\n",
       "      <td>1</td>\n",
       "      <td>26</td>\n",
       "      <td>0.0</td>\n",
       "      <td>0</td>\n",
       "      <td>BB</td>\n",
       "      <td>PRT</td>\n",
       "      <td>Offline TA/TO</td>\n",
       "      <td>TA/TO</td>\n",
       "      <td>A</td>\n",
       "      <td>0</td>\n",
       "      <td>No Deposit</td>\n",
       "      <td>0</td>\n",
       "      <td>Group</td>\n",
       "      <td>0</td>\n",
       "      <td>0</td>\n",
       "    </tr>\n",
       "    <tr>\n",
       "      <th>1917</th>\n",
       "      <td>Resort Hotel</td>\n",
       "      <td>1</td>\n",
       "      <td>27</td>\n",
       "      <td>0.0</td>\n",
       "      <td>0</td>\n",
       "      <td>HB</td>\n",
       "      <td>PRT</td>\n",
       "      <td>Direct</td>\n",
       "      <td>Direct</td>\n",
       "      <td>A</td>\n",
       "      <td>0</td>\n",
       "      <td>No Deposit</td>\n",
       "      <td>0</td>\n",
       "      <td>Group</td>\n",
       "      <td>0</td>\n",
       "      <td>0</td>\n",
       "    </tr>\n",
       "    <tr>\n",
       "      <th>1962</th>\n",
       "      <td>Resort Hotel</td>\n",
       "      <td>1</td>\n",
       "      <td>27</td>\n",
       "      <td>0.0</td>\n",
       "      <td>0</td>\n",
       "      <td>HB</td>\n",
       "      <td>PRT</td>\n",
       "      <td>Direct</td>\n",
       "      <td>Direct</td>\n",
       "      <td>A</td>\n",
       "      <td>0</td>\n",
       "      <td>No Deposit</td>\n",
       "      <td>0</td>\n",
       "      <td>Group</td>\n",
       "      <td>0</td>\n",
       "      <td>0</td>\n",
       "    </tr>\n",
       "    <tr>\n",
       "      <th>2003</th>\n",
       "      <td>Resort Hotel</td>\n",
       "      <td>1</td>\n",
       "      <td>26</td>\n",
       "      <td>0.0</td>\n",
       "      <td>0</td>\n",
       "      <td>BB</td>\n",
       "      <td>PRT</td>\n",
       "      <td>Offline TA/TO</td>\n",
       "      <td>TA/TO</td>\n",
       "      <td>A</td>\n",
       "      <td>0</td>\n",
       "      <td>No Deposit</td>\n",
       "      <td>0</td>\n",
       "      <td>Group</td>\n",
       "      <td>0</td>\n",
       "      <td>0</td>\n",
       "    </tr>\n",
       "    <tr>\n",
       "      <th>2164</th>\n",
       "      <td>Resort Hotel</td>\n",
       "      <td>1</td>\n",
       "      <td>26</td>\n",
       "      <td>0.0</td>\n",
       "      <td>0</td>\n",
       "      <td>BB</td>\n",
       "      <td>PRT</td>\n",
       "      <td>Offline TA/TO</td>\n",
       "      <td>TA/TO</td>\n",
       "      <td>A</td>\n",
       "      <td>0</td>\n",
       "      <td>No Deposit</td>\n",
       "      <td>0</td>\n",
       "      <td>Group</td>\n",
       "      <td>0</td>\n",
       "      <td>0</td>\n",
       "    </tr>\n",
       "    <tr>\n",
       "      <th>2173</th>\n",
       "      <td>Resort Hotel</td>\n",
       "      <td>1</td>\n",
       "      <td>55</td>\n",
       "      <td>0.0</td>\n",
       "      <td>0</td>\n",
       "      <td>HB</td>\n",
       "      <td>PRT</td>\n",
       "      <td>Direct</td>\n",
       "      <td>Direct</td>\n",
       "      <td>A</td>\n",
       "      <td>0</td>\n",
       "      <td>No Deposit</td>\n",
       "      <td>0</td>\n",
       "      <td>Group</td>\n",
       "      <td>0</td>\n",
       "      <td>0</td>\n",
       "    </tr>\n",
       "    <tr>\n",
       "      <th>2228</th>\n",
       "      <td>Resort Hotel</td>\n",
       "      <td>1</td>\n",
       "      <td>20</td>\n",
       "      <td>0.0</td>\n",
       "      <td>0</td>\n",
       "      <td>BB</td>\n",
       "      <td>PRT</td>\n",
       "      <td>Direct</td>\n",
       "      <td>Direct</td>\n",
       "      <td>D</td>\n",
       "      <td>1</td>\n",
       "      <td>No Deposit</td>\n",
       "      <td>0</td>\n",
       "      <td>Group</td>\n",
       "      <td>0</td>\n",
       "      <td>0</td>\n",
       "    </tr>\n",
       "    <tr>\n",
       "      <th>2229</th>\n",
       "      <td>Resort Hotel</td>\n",
       "      <td>1</td>\n",
       "      <td>6</td>\n",
       "      <td>0.0</td>\n",
       "      <td>0</td>\n",
       "      <td>BB</td>\n",
       "      <td>PRT</td>\n",
       "      <td>Direct</td>\n",
       "      <td>Direct</td>\n",
       "      <td>E</td>\n",
       "      <td>0</td>\n",
       "      <td>No Deposit</td>\n",
       "      <td>0</td>\n",
       "      <td>Group</td>\n",
       "      <td>0</td>\n",
       "      <td>0</td>\n",
       "    </tr>\n",
       "    <tr>\n",
       "      <th>2231</th>\n",
       "      <td>Resort Hotel</td>\n",
       "      <td>1</td>\n",
       "      <td>5</td>\n",
       "      <td>0.0</td>\n",
       "      <td>0</td>\n",
       "      <td>BB</td>\n",
       "      <td>PRT</td>\n",
       "      <td>Direct</td>\n",
       "      <td>Direct</td>\n",
       "      <td>A</td>\n",
       "      <td>0</td>\n",
       "      <td>No Deposit</td>\n",
       "      <td>0</td>\n",
       "      <td>Group</td>\n",
       "      <td>0</td>\n",
       "      <td>0</td>\n",
       "    </tr>\n",
       "    <tr>\n",
       "      <th>2417</th>\n",
       "      <td>Resort Hotel</td>\n",
       "      <td>1</td>\n",
       "      <td>10</td>\n",
       "      <td>0.0</td>\n",
       "      <td>0</td>\n",
       "      <td>BB</td>\n",
       "      <td>PRT</td>\n",
       "      <td>Direct</td>\n",
       "      <td>Direct</td>\n",
       "      <td>E</td>\n",
       "      <td>0</td>\n",
       "      <td>No Deposit</td>\n",
       "      <td>0</td>\n",
       "      <td>Group</td>\n",
       "      <td>0</td>\n",
       "      <td>0</td>\n",
       "    </tr>\n",
       "    <tr>\n",
       "      <th>2418</th>\n",
       "      <td>Resort Hotel</td>\n",
       "      <td>1</td>\n",
       "      <td>20</td>\n",
       "      <td>0.0</td>\n",
       "      <td>0</td>\n",
       "      <td>BB</td>\n",
       "      <td>PRT</td>\n",
       "      <td>Direct</td>\n",
       "      <td>Direct</td>\n",
       "      <td>D</td>\n",
       "      <td>0</td>\n",
       "      <td>No Deposit</td>\n",
       "      <td>0</td>\n",
       "      <td>Group</td>\n",
       "      <td>0</td>\n",
       "      <td>0</td>\n",
       "    </tr>\n",
       "    <tr>\n",
       "      <th>2419</th>\n",
       "      <td>Resort Hotel</td>\n",
       "      <td>1</td>\n",
       "      <td>5</td>\n",
       "      <td>0.0</td>\n",
       "      <td>0</td>\n",
       "      <td>BB</td>\n",
       "      <td>PRT</td>\n",
       "      <td>Direct</td>\n",
       "      <td>Direct</td>\n",
       "      <td>A</td>\n",
       "      <td>0</td>\n",
       "      <td>No Deposit</td>\n",
       "      <td>0</td>\n",
       "      <td>Group</td>\n",
       "      <td>0</td>\n",
       "      <td>0</td>\n",
       "    </tr>\n",
       "  </tbody>\n",
       "</table>\n",
       "</div>"
      ],
      "text/plain": [
       "             hotel  is_canceled  adults  children  babies meal country  \\\n",
       "125   Resort Hotel            0       4       0.0       0   FB     PRT   \n",
       "354   Resort Hotel            0       4       0.0       0   BB     PRT   \n",
       "1023  Resort Hotel            1       4       0.0       0   BB     PRT   \n",
       "1539  Resort Hotel            1      40       0.0       0   BB     PRT   \n",
       "1587  Resort Hotel            1      26       0.0       0   BB     PRT   \n",
       "1643  Resort Hotel            1      50       0.0       0   BB     PRT   \n",
       "1752  Resort Hotel            1      26       0.0       0   BB     PRT   \n",
       "1884  Resort Hotel            1      26       0.0       0   BB     PRT   \n",
       "1917  Resort Hotel            1      27       0.0       0   HB     PRT   \n",
       "1962  Resort Hotel            1      27       0.0       0   HB     PRT   \n",
       "2003  Resort Hotel            1      26       0.0       0   BB     PRT   \n",
       "2164  Resort Hotel            1      26       0.0       0   BB     PRT   \n",
       "2173  Resort Hotel            1      55       0.0       0   HB     PRT   \n",
       "2228  Resort Hotel            1      20       0.0       0   BB     PRT   \n",
       "2229  Resort Hotel            1       6       0.0       0   BB     PRT   \n",
       "2231  Resort Hotel            1       5       0.0       0   BB     PRT   \n",
       "2417  Resort Hotel            1      10       0.0       0   BB     PRT   \n",
       "2418  Resort Hotel            1      20       0.0       0   BB     PRT   \n",
       "2419  Resort Hotel            1       5       0.0       0   BB     PRT   \n",
       "\n",
       "     market_segment distribution_channel reserved_room_type  booking_changes  \\\n",
       "125   Complementary               Direct                  H                2   \n",
       "354          Direct               Direct                  L                0   \n",
       "1023         Direct               Direct                  H                0   \n",
       "1539         Direct               Direct                  A                0   \n",
       "1587  Offline TA/TO                TA/TO                  A                0   \n",
       "1643         Direct               Direct                  A                0   \n",
       "1752  Offline TA/TO                TA/TO                  A                0   \n",
       "1884  Offline TA/TO                TA/TO                  A                0   \n",
       "1917         Direct               Direct                  A                0   \n",
       "1962         Direct               Direct                  A                0   \n",
       "2003  Offline TA/TO                TA/TO                  A                0   \n",
       "2164  Offline TA/TO                TA/TO                  A                0   \n",
       "2173         Direct               Direct                  A                0   \n",
       "2228         Direct               Direct                  D                1   \n",
       "2229         Direct               Direct                  E                0   \n",
       "2231         Direct               Direct                  A                0   \n",
       "2417         Direct               Direct                  E                0   \n",
       "2418         Direct               Direct                  D                0   \n",
       "2419         Direct               Direct                  A                0   \n",
       "\n",
       "     deposit_type  days_in_waiting_list customer_type  \\\n",
       "125    No Deposit                     0     Transient   \n",
       "354    No Deposit                     0     Transient   \n",
       "1023   No Deposit                     0     Transient   \n",
       "1539   No Deposit                     0         Group   \n",
       "1587   No Deposit                     0         Group   \n",
       "1643   No Deposit                     0         Group   \n",
       "1752   No Deposit                     0         Group   \n",
       "1884   No Deposit                     0         Group   \n",
       "1917   No Deposit                     0         Group   \n",
       "1962   No Deposit                     0         Group   \n",
       "2003   No Deposit                     0         Group   \n",
       "2164   No Deposit                     0         Group   \n",
       "2173   No Deposit                     0         Group   \n",
       "2228   No Deposit                     0         Group   \n",
       "2229   No Deposit                     0         Group   \n",
       "2231   No Deposit                     0         Group   \n",
       "2417   No Deposit                     0         Group   \n",
       "2418   No Deposit                     0         Group   \n",
       "2419   No Deposit                     0         Group   \n",
       "\n",
       "      required_car_parking_spaces  total_of_special_requests  \n",
       "125                             0                          1  \n",
       "354                             0                          0  \n",
       "1023                            0                          0  \n",
       "1539                            0                          0  \n",
       "1587                            0                          0  \n",
       "1643                            0                          0  \n",
       "1752                            0                          0  \n",
       "1884                            0                          0  \n",
       "1917                            0                          0  \n",
       "1962                            0                          0  \n",
       "2003                            0                          0  \n",
       "2164                            0                          0  \n",
       "2173                            0                          0  \n",
       "2228                            0                          0  \n",
       "2229                            0                          0  \n",
       "2231                            0                          0  \n",
       "2417                            0                          0  \n",
       "2418                            0                          0  \n",
       "2419                            0                          0  "
      ]
     },
     "execution_count": 99,
     "metadata": {},
     "output_type": "execute_result"
    }
   ],
   "source": [
    "hotel[hotel['adults']>3]"
   ]
  },
  {
   "cell_type": "code",
   "execution_count": 100,
   "id": "aed760c3",
   "metadata": {
    "ExecuteTime": {
     "end_time": "2022-03-30T07:46:17.807292Z",
     "start_time": "2022-03-30T07:46:17.784905Z"
    }
   },
   "outputs": [
    {
     "data": {
      "text/html": [
       "<div>\n",
       "<style scoped>\n",
       "    .dataframe tbody tr th:only-of-type {\n",
       "        vertical-align: middle;\n",
       "    }\n",
       "\n",
       "    .dataframe tbody tr th {\n",
       "        vertical-align: top;\n",
       "    }\n",
       "\n",
       "    .dataframe thead th {\n",
       "        text-align: right;\n",
       "    }\n",
       "</style>\n",
       "<table border=\"1\" class=\"dataframe\">\n",
       "  <thead>\n",
       "    <tr style=\"text-align: right;\">\n",
       "      <th></th>\n",
       "      <th>hotel</th>\n",
       "      <th>is_canceled</th>\n",
       "      <th>adults</th>\n",
       "      <th>children</th>\n",
       "      <th>babies</th>\n",
       "      <th>meal</th>\n",
       "      <th>country</th>\n",
       "      <th>market_segment</th>\n",
       "      <th>distribution_channel</th>\n",
       "      <th>reserved_room_type</th>\n",
       "      <th>booking_changes</th>\n",
       "      <th>deposit_type</th>\n",
       "      <th>days_in_waiting_list</th>\n",
       "      <th>customer_type</th>\n",
       "      <th>required_car_parking_spaces</th>\n",
       "      <th>total_of_special_requests</th>\n",
       "    </tr>\n",
       "  </thead>\n",
       "  <tbody>\n",
       "    <tr>\n",
       "      <th>328</th>\n",
       "      <td>Resort Hotel</td>\n",
       "      <td>1</td>\n",
       "      <td>2</td>\n",
       "      <td>10.0</td>\n",
       "      <td>0</td>\n",
       "      <td>BB</td>\n",
       "      <td>PRT</td>\n",
       "      <td>Offline TA/TO</td>\n",
       "      <td>TA/TO</td>\n",
       "      <td>D</td>\n",
       "      <td>2</td>\n",
       "      <td>No Deposit</td>\n",
       "      <td>0</td>\n",
       "      <td>Contract</td>\n",
       "      <td>0</td>\n",
       "      <td>1</td>\n",
       "    </tr>\n",
       "  </tbody>\n",
       "</table>\n",
       "</div>"
      ],
      "text/plain": [
       "            hotel  is_canceled  adults  children  babies meal country  \\\n",
       "328  Resort Hotel            1       2      10.0       0   BB     PRT   \n",
       "\n",
       "    market_segment distribution_channel reserved_room_type  booking_changes  \\\n",
       "328  Offline TA/TO                TA/TO                  D                2   \n",
       "\n",
       "    deposit_type  days_in_waiting_list customer_type  \\\n",
       "328   No Deposit                     0      Contract   \n",
       "\n",
       "     required_car_parking_spaces  total_of_special_requests  \n",
       "328                            0                          1  "
      ]
     },
     "execution_count": 100,
     "metadata": {},
     "output_type": "execute_result"
    }
   ],
   "source": [
    "hotel[hotel['children']>3]"
   ]
  },
  {
   "cell_type": "code",
   "execution_count": 101,
   "id": "77390403",
   "metadata": {
    "ExecuteTime": {
     "end_time": "2022-03-30T07:46:18.000987Z",
     "start_time": "2022-03-30T07:46:17.963025Z"
    }
   },
   "outputs": [
    {
     "data": {
      "text/html": [
       "<div>\n",
       "<style scoped>\n",
       "    .dataframe tbody tr th:only-of-type {\n",
       "        vertical-align: middle;\n",
       "    }\n",
       "\n",
       "    .dataframe tbody tr th {\n",
       "        vertical-align: top;\n",
       "    }\n",
       "\n",
       "    .dataframe thead th {\n",
       "        text-align: right;\n",
       "    }\n",
       "</style>\n",
       "<table border=\"1\" class=\"dataframe\">\n",
       "  <thead>\n",
       "    <tr style=\"text-align: right;\">\n",
       "      <th></th>\n",
       "      <th>hotel</th>\n",
       "      <th>is_canceled</th>\n",
       "      <th>adults</th>\n",
       "      <th>children</th>\n",
       "      <th>babies</th>\n",
       "      <th>meal</th>\n",
       "      <th>country</th>\n",
       "      <th>market_segment</th>\n",
       "      <th>distribution_channel</th>\n",
       "      <th>reserved_room_type</th>\n",
       "      <th>booking_changes</th>\n",
       "      <th>deposit_type</th>\n",
       "      <th>days_in_waiting_list</th>\n",
       "      <th>customer_type</th>\n",
       "      <th>required_car_parking_spaces</th>\n",
       "      <th>total_of_special_requests</th>\n",
       "    </tr>\n",
       "  </thead>\n",
       "  <tbody>\n",
       "    <tr>\n",
       "      <th>2272</th>\n",
       "      <td>Resort Hotel</td>\n",
       "      <td>0</td>\n",
       "      <td>2</td>\n",
       "      <td>0.0</td>\n",
       "      <td>0</td>\n",
       "      <td>BB</td>\n",
       "      <td>PRT</td>\n",
       "      <td>Corporate</td>\n",
       "      <td>Corporate</td>\n",
       "      <td>A</td>\n",
       "      <td>0</td>\n",
       "      <td>No Deposit</td>\n",
       "      <td>50</td>\n",
       "      <td>Contract</td>\n",
       "      <td>0</td>\n",
       "      <td>0</td>\n",
       "    </tr>\n",
       "    <tr>\n",
       "      <th>2486</th>\n",
       "      <td>Resort Hotel</td>\n",
       "      <td>0</td>\n",
       "      <td>2</td>\n",
       "      <td>0.0</td>\n",
       "      <td>0</td>\n",
       "      <td>HB</td>\n",
       "      <td>ESP</td>\n",
       "      <td>Groups</td>\n",
       "      <td>Direct</td>\n",
       "      <td>A</td>\n",
       "      <td>0</td>\n",
       "      <td>No Deposit</td>\n",
       "      <td>47</td>\n",
       "      <td>Transient-Party</td>\n",
       "      <td>0</td>\n",
       "      <td>0</td>\n",
       "    </tr>\n",
       "    <tr>\n",
       "      <th>2487</th>\n",
       "      <td>Resort Hotel</td>\n",
       "      <td>0</td>\n",
       "      <td>2</td>\n",
       "      <td>0.0</td>\n",
       "      <td>0</td>\n",
       "      <td>HB</td>\n",
       "      <td>ESP</td>\n",
       "      <td>Groups</td>\n",
       "      <td>Direct</td>\n",
       "      <td>A</td>\n",
       "      <td>0</td>\n",
       "      <td>No Deposit</td>\n",
       "      <td>47</td>\n",
       "      <td>Transient-Party</td>\n",
       "      <td>0</td>\n",
       "      <td>0</td>\n",
       "    </tr>\n",
       "    <tr>\n",
       "      <th>2488</th>\n",
       "      <td>Resort Hotel</td>\n",
       "      <td>0</td>\n",
       "      <td>2</td>\n",
       "      <td>0.0</td>\n",
       "      <td>0</td>\n",
       "      <td>HB</td>\n",
       "      <td>ESP</td>\n",
       "      <td>Groups</td>\n",
       "      <td>Direct</td>\n",
       "      <td>A</td>\n",
       "      <td>0</td>\n",
       "      <td>No Deposit</td>\n",
       "      <td>47</td>\n",
       "      <td>Transient-Party</td>\n",
       "      <td>0</td>\n",
       "      <td>0</td>\n",
       "    </tr>\n",
       "    <tr>\n",
       "      <th>2490</th>\n",
       "      <td>Resort Hotel</td>\n",
       "      <td>0</td>\n",
       "      <td>2</td>\n",
       "      <td>0.0</td>\n",
       "      <td>0</td>\n",
       "      <td>HB</td>\n",
       "      <td>ESP</td>\n",
       "      <td>Groups</td>\n",
       "      <td>Direct</td>\n",
       "      <td>A</td>\n",
       "      <td>0</td>\n",
       "      <td>No Deposit</td>\n",
       "      <td>47</td>\n",
       "      <td>Transient-Party</td>\n",
       "      <td>0</td>\n",
       "      <td>0</td>\n",
       "    </tr>\n",
       "    <tr>\n",
       "      <th>...</th>\n",
       "      <td>...</td>\n",
       "      <td>...</td>\n",
       "      <td>...</td>\n",
       "      <td>...</td>\n",
       "      <td>...</td>\n",
       "      <td>...</td>\n",
       "      <td>...</td>\n",
       "      <td>...</td>\n",
       "      <td>...</td>\n",
       "      <td>...</td>\n",
       "      <td>...</td>\n",
       "      <td>...</td>\n",
       "      <td>...</td>\n",
       "      <td>...</td>\n",
       "      <td>...</td>\n",
       "      <td>...</td>\n",
       "    </tr>\n",
       "    <tr>\n",
       "      <th>3703</th>\n",
       "      <td>Resort Hotel</td>\n",
       "      <td>0</td>\n",
       "      <td>2</td>\n",
       "      <td>0.0</td>\n",
       "      <td>0</td>\n",
       "      <td>Undefined</td>\n",
       "      <td>PRT</td>\n",
       "      <td>Groups</td>\n",
       "      <td>TA/TO</td>\n",
       "      <td>A</td>\n",
       "      <td>0</td>\n",
       "      <td>No Deposit</td>\n",
       "      <td>122</td>\n",
       "      <td>Transient</td>\n",
       "      <td>0</td>\n",
       "      <td>0</td>\n",
       "    </tr>\n",
       "    <tr>\n",
       "      <th>3704</th>\n",
       "      <td>Resort Hotel</td>\n",
       "      <td>0</td>\n",
       "      <td>2</td>\n",
       "      <td>0.0</td>\n",
       "      <td>0</td>\n",
       "      <td>Undefined</td>\n",
       "      <td>PRT</td>\n",
       "      <td>Groups</td>\n",
       "      <td>TA/TO</td>\n",
       "      <td>A</td>\n",
       "      <td>0</td>\n",
       "      <td>No Deposit</td>\n",
       "      <td>122</td>\n",
       "      <td>Transient-Party</td>\n",
       "      <td>0</td>\n",
       "      <td>0</td>\n",
       "    </tr>\n",
       "    <tr>\n",
       "      <th>3705</th>\n",
       "      <td>Resort Hotel</td>\n",
       "      <td>0</td>\n",
       "      <td>1</td>\n",
       "      <td>0.0</td>\n",
       "      <td>0</td>\n",
       "      <td>HB</td>\n",
       "      <td>PRT</td>\n",
       "      <td>Groups</td>\n",
       "      <td>TA/TO</td>\n",
       "      <td>A</td>\n",
       "      <td>5</td>\n",
       "      <td>No Deposit</td>\n",
       "      <td>122</td>\n",
       "      <td>Transient-Party</td>\n",
       "      <td>0</td>\n",
       "      <td>0</td>\n",
       "    </tr>\n",
       "    <tr>\n",
       "      <th>3706</th>\n",
       "      <td>Resort Hotel</td>\n",
       "      <td>0</td>\n",
       "      <td>1</td>\n",
       "      <td>0.0</td>\n",
       "      <td>0</td>\n",
       "      <td>HB</td>\n",
       "      <td>PRT</td>\n",
       "      <td>Groups</td>\n",
       "      <td>TA/TO</td>\n",
       "      <td>A</td>\n",
       "      <td>1</td>\n",
       "      <td>No Deposit</td>\n",
       "      <td>122</td>\n",
       "      <td>Transient-Party</td>\n",
       "      <td>0</td>\n",
       "      <td>0</td>\n",
       "    </tr>\n",
       "    <tr>\n",
       "      <th>3708</th>\n",
       "      <td>Resort Hotel</td>\n",
       "      <td>0</td>\n",
       "      <td>0</td>\n",
       "      <td>0.0</td>\n",
       "      <td>0</td>\n",
       "      <td>SC</td>\n",
       "      <td>PRT</td>\n",
       "      <td>Groups</td>\n",
       "      <td>TA/TO</td>\n",
       "      <td>A</td>\n",
       "      <td>1</td>\n",
       "      <td>No Deposit</td>\n",
       "      <td>122</td>\n",
       "      <td>Transient-Party</td>\n",
       "      <td>0</td>\n",
       "      <td>0</td>\n",
       "    </tr>\n",
       "  </tbody>\n",
       "</table>\n",
       "<p>95 rows × 16 columns</p>\n",
       "</div>"
      ],
      "text/plain": [
       "             hotel  is_canceled  adults  children  babies       meal country  \\\n",
       "2272  Resort Hotel            0       2       0.0       0         BB     PRT   \n",
       "2486  Resort Hotel            0       2       0.0       0         HB     ESP   \n",
       "2487  Resort Hotel            0       2       0.0       0         HB     ESP   \n",
       "2488  Resort Hotel            0       2       0.0       0         HB     ESP   \n",
       "2490  Resort Hotel            0       2       0.0       0         HB     ESP   \n",
       "...            ...          ...     ...       ...     ...        ...     ...   \n",
       "3703  Resort Hotel            0       2       0.0       0  Undefined     PRT   \n",
       "3704  Resort Hotel            0       2       0.0       0  Undefined     PRT   \n",
       "3705  Resort Hotel            0       1       0.0       0         HB     PRT   \n",
       "3706  Resort Hotel            0       1       0.0       0         HB     PRT   \n",
       "3708  Resort Hotel            0       0       0.0       0         SC     PRT   \n",
       "\n",
       "     market_segment distribution_channel reserved_room_type  booking_changes  \\\n",
       "2272      Corporate            Corporate                  A                0   \n",
       "2486         Groups               Direct                  A                0   \n",
       "2487         Groups               Direct                  A                0   \n",
       "2488         Groups               Direct                  A                0   \n",
       "2490         Groups               Direct                  A                0   \n",
       "...             ...                  ...                ...              ...   \n",
       "3703         Groups                TA/TO                  A                0   \n",
       "3704         Groups                TA/TO                  A                0   \n",
       "3705         Groups                TA/TO                  A                5   \n",
       "3706         Groups                TA/TO                  A                1   \n",
       "3708         Groups                TA/TO                  A                1   \n",
       "\n",
       "     deposit_type  days_in_waiting_list    customer_type  \\\n",
       "2272   No Deposit                    50         Contract   \n",
       "2486   No Deposit                    47  Transient-Party   \n",
       "2487   No Deposit                    47  Transient-Party   \n",
       "2488   No Deposit                    47  Transient-Party   \n",
       "2490   No Deposit                    47  Transient-Party   \n",
       "...           ...                   ...              ...   \n",
       "3703   No Deposit                   122        Transient   \n",
       "3704   No Deposit                   122  Transient-Party   \n",
       "3705   No Deposit                   122  Transient-Party   \n",
       "3706   No Deposit                   122  Transient-Party   \n",
       "3708   No Deposit                   122  Transient-Party   \n",
       "\n",
       "      required_car_parking_spaces  total_of_special_requests  \n",
       "2272                            0                          0  \n",
       "2486                            0                          0  \n",
       "2487                            0                          0  \n",
       "2488                            0                          0  \n",
       "2490                            0                          0  \n",
       "...                           ...                        ...  \n",
       "3703                            0                          0  \n",
       "3704                            0                          0  \n",
       "3705                            0                          0  \n",
       "3706                            0                          0  \n",
       "3708                            0                          0  \n",
       "\n",
       "[95 rows x 16 columns]"
      ]
     },
     "execution_count": 101,
     "metadata": {},
     "output_type": "execute_result"
    }
   ],
   "source": [
    "hotel[hotel['days_in_waiting_list']>3]"
   ]
  },
  {
   "cell_type": "markdown",
   "id": "67fa513c",
   "metadata": {},
   "source": [
    "Regarding the extreme values in these columns, we can see that:\n",
    "* All hotel booking with extreme values in adults and children columns were cancelled.\n",
    "* Max value of days_in_waiting_list (122) were resulting in check-in. So it is valid, not a data collecting error.\n",
    "\n",
    "Thus, we don't need to remove or alter these values, because they can help us to determine the cancellation of hotel booking."
   ]
  },
  {
   "cell_type": "markdown",
   "id": "5a88bfa8",
   "metadata": {},
   "source": [
    "## Missing Values of country"
   ]
  },
  {
   "cell_type": "code",
   "execution_count": 102,
   "id": "e0676b63",
   "metadata": {
    "ExecuteTime": {
     "end_time": "2022-03-30T07:46:18.534371Z",
     "start_time": "2022-03-30T07:46:18.511012Z"
    }
   },
   "outputs": [
    {
     "data": {
      "text/html": [
       "<div>\n",
       "<style scoped>\n",
       "    .dataframe tbody tr th:only-of-type {\n",
       "        vertical-align: middle;\n",
       "    }\n",
       "\n",
       "    .dataframe tbody tr th {\n",
       "        vertical-align: top;\n",
       "    }\n",
       "\n",
       "    .dataframe thead th {\n",
       "        text-align: right;\n",
       "    }\n",
       "</style>\n",
       "<table border=\"1\" class=\"dataframe\">\n",
       "  <thead>\n",
       "    <tr style=\"text-align: right;\">\n",
       "      <th></th>\n",
       "      <th>hotel</th>\n",
       "      <th>is_canceled</th>\n",
       "      <th>adults</th>\n",
       "      <th>children</th>\n",
       "      <th>babies</th>\n",
       "      <th>meal</th>\n",
       "      <th>country</th>\n",
       "      <th>market_segment</th>\n",
       "      <th>distribution_channel</th>\n",
       "      <th>reserved_room_type</th>\n",
       "      <th>booking_changes</th>\n",
       "      <th>deposit_type</th>\n",
       "      <th>days_in_waiting_list</th>\n",
       "      <th>customer_type</th>\n",
       "      <th>required_car_parking_spaces</th>\n",
       "      <th>total_of_special_requests</th>\n",
       "    </tr>\n",
       "  </thead>\n",
       "  <tbody>\n",
       "    <tr>\n",
       "      <th>30</th>\n",
       "      <td>Resort Hotel</td>\n",
       "      <td>0</td>\n",
       "      <td>1</td>\n",
       "      <td>0.0</td>\n",
       "      <td>0</td>\n",
       "      <td>BB</td>\n",
       "      <td>NaN</td>\n",
       "      <td>Direct</td>\n",
       "      <td>Direct</td>\n",
       "      <td>A</td>\n",
       "      <td>2</td>\n",
       "      <td>No Deposit</td>\n",
       "      <td>0</td>\n",
       "      <td>Transient</td>\n",
       "      <td>0</td>\n",
       "      <td>2</td>\n",
       "    </tr>\n",
       "    <tr>\n",
       "      <th>4127</th>\n",
       "      <td>Resort Hotel</td>\n",
       "      <td>1</td>\n",
       "      <td>0</td>\n",
       "      <td>0.0</td>\n",
       "      <td>0</td>\n",
       "      <td>SC</td>\n",
       "      <td>NaN</td>\n",
       "      <td>Offline TA/TO</td>\n",
       "      <td>TA/TO</td>\n",
       "      <td>P</td>\n",
       "      <td>0</td>\n",
       "      <td>No Deposit</td>\n",
       "      <td>0</td>\n",
       "      <td>Transient</td>\n",
       "      <td>0</td>\n",
       "      <td>0</td>\n",
       "    </tr>\n",
       "  </tbody>\n",
       "</table>\n",
       "</div>"
      ],
      "text/plain": [
       "             hotel  is_canceled  adults  children  babies meal country  \\\n",
       "30    Resort Hotel            0       1       0.0       0   BB     NaN   \n",
       "4127  Resort Hotel            1       0       0.0       0   SC     NaN   \n",
       "\n",
       "     market_segment distribution_channel reserved_room_type  booking_changes  \\\n",
       "30           Direct               Direct                  A                2   \n",
       "4127  Offline TA/TO                TA/TO                  P                0   \n",
       "\n",
       "     deposit_type  days_in_waiting_list customer_type  \\\n",
       "30     No Deposit                     0     Transient   \n",
       "4127   No Deposit                     0     Transient   \n",
       "\n",
       "      required_car_parking_spaces  total_of_special_requests  \n",
       "30                              0                          2  \n",
       "4127                            0                          0  "
      ]
     },
     "execution_count": 102,
     "metadata": {},
     "output_type": "execute_result"
    }
   ],
   "source": [
    "hotel[hotel['country'].isna()]"
   ]
  },
  {
   "cell_type": "markdown",
   "id": "1835923c",
   "metadata": {},
   "source": [
    "There is no way to determine the missing value of the country, so we can either drop these rows or fill it with the mode of country column. Since data are valuable, and with the consideration of there were only 2 missing value, it's safe to fill the missing value with mode."
   ]
  },
  {
   "cell_type": "code",
   "execution_count": 103,
   "id": "fa9dcd4f",
   "metadata": {
    "ExecuteTime": {
     "end_time": "2022-03-30T07:46:18.754343Z",
     "start_time": "2022-03-30T07:46:18.743638Z"
    }
   },
   "outputs": [
    {
     "data": {
      "text/plain": [
       "0    PRT\n",
       "dtype: object"
      ]
     },
     "execution_count": 103,
     "metadata": {},
     "output_type": "execute_result"
    }
   ],
   "source": [
    "hotel['country'].mode()"
   ]
  },
  {
   "cell_type": "code",
   "execution_count": 104,
   "id": "9ff2f5d6",
   "metadata": {
    "ExecuteTime": {
     "end_time": "2022-03-30T07:46:18.909104Z",
     "start_time": "2022-03-30T07:46:18.901314Z"
    }
   },
   "outputs": [],
   "source": [
    "hotel['country'].fillna(hotel['country'].mode()[0], inplace=True)"
   ]
  },
  {
   "cell_type": "code",
   "execution_count": 105,
   "id": "519fff98",
   "metadata": {
    "ExecuteTime": {
     "end_time": "2022-03-30T07:46:19.105718Z",
     "start_time": "2022-03-30T07:46:19.089172Z"
    }
   },
   "outputs": [
    {
     "data": {
      "text/plain": [
       "hotel                          0\n",
       "is_canceled                    0\n",
       "adults                         0\n",
       "children                       0\n",
       "babies                         0\n",
       "meal                           0\n",
       "country                        0\n",
       "market_segment                 0\n",
       "distribution_channel           0\n",
       "reserved_room_type             0\n",
       "booking_changes                0\n",
       "deposit_type                   0\n",
       "days_in_waiting_list           0\n",
       "customer_type                  0\n",
       "required_car_parking_spaces    0\n",
       "total_of_special_requests      0\n",
       "dtype: int64"
      ]
     },
     "execution_count": 105,
     "metadata": {},
     "output_type": "execute_result"
    }
   ],
   "source": [
    "hotel.isna().sum()"
   ]
  },
  {
   "cell_type": "markdown",
   "id": "0872cb74",
   "metadata": {},
   "source": [
    "## Mean of Adults in Groups - Customer Type"
   ]
  },
  {
   "cell_type": "code",
   "execution_count": 106,
   "id": "a435b297",
   "metadata": {
    "ExecuteTime": {
     "end_time": "2022-03-30T07:46:19.471691Z",
     "start_time": "2022-03-30T07:46:19.462929Z"
    },
    "scrolled": true
   },
   "outputs": [
    {
     "data": {
      "text/plain": [
       "16.52"
      ]
     },
     "execution_count": 106,
     "metadata": {},
     "output_type": "execute_result"
    }
   ],
   "source": [
    "hotel[hotel['customer_type']=='Group']['adults'].mean()"
   ]
  },
  {
   "cell_type": "code",
   "execution_count": 107,
   "id": "3f0fcd81",
   "metadata": {
    "ExecuteTime": {
     "end_time": "2022-03-30T07:46:19.590437Z",
     "start_time": "2022-03-30T07:46:19.579731Z"
    }
   },
   "outputs": [
    {
     "data": {
      "text/plain": [
       "55"
      ]
     },
     "execution_count": 107,
     "metadata": {},
     "output_type": "execute_result"
    }
   ],
   "source": [
    "hotel[hotel['customer_type']=='Group']['adults'].max()"
   ]
  },
  {
   "cell_type": "code",
   "execution_count": 108,
   "id": "5a0c53a4",
   "metadata": {
    "ExecuteTime": {
     "end_time": "2022-03-30T07:46:19.857130Z",
     "start_time": "2022-03-30T07:46:19.827932Z"
    },
    "scrolled": true
   },
   "outputs": [
    {
     "data": {
      "text/html": [
       "<div>\n",
       "<style scoped>\n",
       "    .dataframe tbody tr th:only-of-type {\n",
       "        vertical-align: middle;\n",
       "    }\n",
       "\n",
       "    .dataframe tbody tr th {\n",
       "        vertical-align: top;\n",
       "    }\n",
       "\n",
       "    .dataframe thead th {\n",
       "        text-align: right;\n",
       "    }\n",
       "</style>\n",
       "<table border=\"1\" class=\"dataframe\">\n",
       "  <thead>\n",
       "    <tr style=\"text-align: right;\">\n",
       "      <th></th>\n",
       "      <th>hotel</th>\n",
       "      <th>is_canceled</th>\n",
       "      <th>adults</th>\n",
       "      <th>children</th>\n",
       "      <th>babies</th>\n",
       "      <th>meal</th>\n",
       "      <th>country</th>\n",
       "      <th>market_segment</th>\n",
       "      <th>distribution_channel</th>\n",
       "      <th>reserved_room_type</th>\n",
       "      <th>booking_changes</th>\n",
       "      <th>deposit_type</th>\n",
       "      <th>days_in_waiting_list</th>\n",
       "      <th>customer_type</th>\n",
       "      <th>required_car_parking_spaces</th>\n",
       "      <th>total_of_special_requests</th>\n",
       "    </tr>\n",
       "  </thead>\n",
       "  <tbody>\n",
       "    <tr>\n",
       "      <th>539</th>\n",
       "      <td>Resort Hotel</td>\n",
       "      <td>0</td>\n",
       "      <td>2</td>\n",
       "      <td>0.0</td>\n",
       "      <td>0</td>\n",
       "      <td>BB</td>\n",
       "      <td>PRT</td>\n",
       "      <td>Online TA</td>\n",
       "      <td>TA/TO</td>\n",
       "      <td>A</td>\n",
       "      <td>0</td>\n",
       "      <td>No Deposit</td>\n",
       "      <td>0</td>\n",
       "      <td>Group</td>\n",
       "      <td>1</td>\n",
       "      <td>0</td>\n",
       "    </tr>\n",
       "    <tr>\n",
       "      <th>541</th>\n",
       "      <td>Resort Hotel</td>\n",
       "      <td>0</td>\n",
       "      <td>2</td>\n",
       "      <td>0.0</td>\n",
       "      <td>0</td>\n",
       "      <td>BB</td>\n",
       "      <td>PRT</td>\n",
       "      <td>Online TA</td>\n",
       "      <td>TA/TO</td>\n",
       "      <td>A</td>\n",
       "      <td>0</td>\n",
       "      <td>No Deposit</td>\n",
       "      <td>0</td>\n",
       "      <td>Group</td>\n",
       "      <td>0</td>\n",
       "      <td>0</td>\n",
       "    </tr>\n",
       "    <tr>\n",
       "      <th>1156</th>\n",
       "      <td>Resort Hotel</td>\n",
       "      <td>0</td>\n",
       "      <td>2</td>\n",
       "      <td>0.0</td>\n",
       "      <td>0</td>\n",
       "      <td>BB</td>\n",
       "      <td>GBR</td>\n",
       "      <td>Online TA</td>\n",
       "      <td>TA/TO</td>\n",
       "      <td>A</td>\n",
       "      <td>0</td>\n",
       "      <td>No Deposit</td>\n",
       "      <td>0</td>\n",
       "      <td>Group</td>\n",
       "      <td>0</td>\n",
       "      <td>0</td>\n",
       "    </tr>\n",
       "    <tr>\n",
       "      <th>1707</th>\n",
       "      <td>Resort Hotel</td>\n",
       "      <td>1</td>\n",
       "      <td>2</td>\n",
       "      <td>0.0</td>\n",
       "      <td>0</td>\n",
       "      <td>BB</td>\n",
       "      <td>PRT</td>\n",
       "      <td>Online TA</td>\n",
       "      <td>TA/TO</td>\n",
       "      <td>A</td>\n",
       "      <td>0</td>\n",
       "      <td>No Deposit</td>\n",
       "      <td>0</td>\n",
       "      <td>Group</td>\n",
       "      <td>0</td>\n",
       "      <td>2</td>\n",
       "    </tr>\n",
       "    <tr>\n",
       "      <th>1733</th>\n",
       "      <td>Resort Hotel</td>\n",
       "      <td>0</td>\n",
       "      <td>2</td>\n",
       "      <td>2.0</td>\n",
       "      <td>0</td>\n",
       "      <td>BB</td>\n",
       "      <td>BRA</td>\n",
       "      <td>Online TA</td>\n",
       "      <td>TA/TO</td>\n",
       "      <td>H</td>\n",
       "      <td>0</td>\n",
       "      <td>No Deposit</td>\n",
       "      <td>0</td>\n",
       "      <td>Group</td>\n",
       "      <td>1</td>\n",
       "      <td>0</td>\n",
       "    </tr>\n",
       "    <tr>\n",
       "      <th>1772</th>\n",
       "      <td>Resort Hotel</td>\n",
       "      <td>0</td>\n",
       "      <td>2</td>\n",
       "      <td>0.0</td>\n",
       "      <td>0</td>\n",
       "      <td>BB</td>\n",
       "      <td>IRL</td>\n",
       "      <td>Offline TA/TO</td>\n",
       "      <td>TA/TO</td>\n",
       "      <td>A</td>\n",
       "      <td>0</td>\n",
       "      <td>No Deposit</td>\n",
       "      <td>0</td>\n",
       "      <td>Group</td>\n",
       "      <td>0</td>\n",
       "      <td>2</td>\n",
       "    </tr>\n",
       "    <tr>\n",
       "      <th>1970</th>\n",
       "      <td>Resort Hotel</td>\n",
       "      <td>0</td>\n",
       "      <td>2</td>\n",
       "      <td>0.0</td>\n",
       "      <td>0</td>\n",
       "      <td>BB</td>\n",
       "      <td>PRT</td>\n",
       "      <td>Online TA</td>\n",
       "      <td>TA/TO</td>\n",
       "      <td>A</td>\n",
       "      <td>0</td>\n",
       "      <td>No Deposit</td>\n",
       "      <td>0</td>\n",
       "      <td>Group</td>\n",
       "      <td>0</td>\n",
       "      <td>0</td>\n",
       "    </tr>\n",
       "    <tr>\n",
       "      <th>2200</th>\n",
       "      <td>Resort Hotel</td>\n",
       "      <td>0</td>\n",
       "      <td>2</td>\n",
       "      <td>0.0</td>\n",
       "      <td>0</td>\n",
       "      <td>BB</td>\n",
       "      <td>BEL</td>\n",
       "      <td>Online TA</td>\n",
       "      <td>TA/TO</td>\n",
       "      <td>A</td>\n",
       "      <td>0</td>\n",
       "      <td>No Deposit</td>\n",
       "      <td>0</td>\n",
       "      <td>Group</td>\n",
       "      <td>0</td>\n",
       "      <td>1</td>\n",
       "    </tr>\n",
       "    <tr>\n",
       "      <th>2229</th>\n",
       "      <td>Resort Hotel</td>\n",
       "      <td>1</td>\n",
       "      <td>6</td>\n",
       "      <td>0.0</td>\n",
       "      <td>0</td>\n",
       "      <td>BB</td>\n",
       "      <td>PRT</td>\n",
       "      <td>Direct</td>\n",
       "      <td>Direct</td>\n",
       "      <td>E</td>\n",
       "      <td>0</td>\n",
       "      <td>No Deposit</td>\n",
       "      <td>0</td>\n",
       "      <td>Group</td>\n",
       "      <td>0</td>\n",
       "      <td>0</td>\n",
       "    </tr>\n",
       "    <tr>\n",
       "      <th>2231</th>\n",
       "      <td>Resort Hotel</td>\n",
       "      <td>1</td>\n",
       "      <td>5</td>\n",
       "      <td>0.0</td>\n",
       "      <td>0</td>\n",
       "      <td>BB</td>\n",
       "      <td>PRT</td>\n",
       "      <td>Direct</td>\n",
       "      <td>Direct</td>\n",
       "      <td>A</td>\n",
       "      <td>0</td>\n",
       "      <td>No Deposit</td>\n",
       "      <td>0</td>\n",
       "      <td>Group</td>\n",
       "      <td>0</td>\n",
       "      <td>0</td>\n",
       "    </tr>\n",
       "    <tr>\n",
       "      <th>2417</th>\n",
       "      <td>Resort Hotel</td>\n",
       "      <td>1</td>\n",
       "      <td>10</td>\n",
       "      <td>0.0</td>\n",
       "      <td>0</td>\n",
       "      <td>BB</td>\n",
       "      <td>PRT</td>\n",
       "      <td>Direct</td>\n",
       "      <td>Direct</td>\n",
       "      <td>E</td>\n",
       "      <td>0</td>\n",
       "      <td>No Deposit</td>\n",
       "      <td>0</td>\n",
       "      <td>Group</td>\n",
       "      <td>0</td>\n",
       "      <td>0</td>\n",
       "    </tr>\n",
       "    <tr>\n",
       "      <th>2419</th>\n",
       "      <td>Resort Hotel</td>\n",
       "      <td>1</td>\n",
       "      <td>5</td>\n",
       "      <td>0.0</td>\n",
       "      <td>0</td>\n",
       "      <td>BB</td>\n",
       "      <td>PRT</td>\n",
       "      <td>Direct</td>\n",
       "      <td>Direct</td>\n",
       "      <td>A</td>\n",
       "      <td>0</td>\n",
       "      <td>No Deposit</td>\n",
       "      <td>0</td>\n",
       "      <td>Group</td>\n",
       "      <td>0</td>\n",
       "      <td>0</td>\n",
       "    </tr>\n",
       "    <tr>\n",
       "      <th>2979</th>\n",
       "      <td>Resort Hotel</td>\n",
       "      <td>0</td>\n",
       "      <td>2</td>\n",
       "      <td>0.0</td>\n",
       "      <td>0</td>\n",
       "      <td>BB</td>\n",
       "      <td>PRT</td>\n",
       "      <td>Direct</td>\n",
       "      <td>Direct</td>\n",
       "      <td>A</td>\n",
       "      <td>1</td>\n",
       "      <td>No Deposit</td>\n",
       "      <td>0</td>\n",
       "      <td>Group</td>\n",
       "      <td>0</td>\n",
       "      <td>0</td>\n",
       "    </tr>\n",
       "  </tbody>\n",
       "</table>\n",
       "</div>"
      ],
      "text/plain": [
       "             hotel  is_canceled  adults  children  babies meal country  \\\n",
       "539   Resort Hotel            0       2       0.0       0   BB     PRT   \n",
       "541   Resort Hotel            0       2       0.0       0   BB     PRT   \n",
       "1156  Resort Hotel            0       2       0.0       0   BB     GBR   \n",
       "1707  Resort Hotel            1       2       0.0       0   BB     PRT   \n",
       "1733  Resort Hotel            0       2       2.0       0   BB     BRA   \n",
       "1772  Resort Hotel            0       2       0.0       0   BB     IRL   \n",
       "1970  Resort Hotel            0       2       0.0       0   BB     PRT   \n",
       "2200  Resort Hotel            0       2       0.0       0   BB     BEL   \n",
       "2229  Resort Hotel            1       6       0.0       0   BB     PRT   \n",
       "2231  Resort Hotel            1       5       0.0       0   BB     PRT   \n",
       "2417  Resort Hotel            1      10       0.0       0   BB     PRT   \n",
       "2419  Resort Hotel            1       5       0.0       0   BB     PRT   \n",
       "2979  Resort Hotel            0       2       0.0       0   BB     PRT   \n",
       "\n",
       "     market_segment distribution_channel reserved_room_type  booking_changes  \\\n",
       "539       Online TA                TA/TO                  A                0   \n",
       "541       Online TA                TA/TO                  A                0   \n",
       "1156      Online TA                TA/TO                  A                0   \n",
       "1707      Online TA                TA/TO                  A                0   \n",
       "1733      Online TA                TA/TO                  H                0   \n",
       "1772  Offline TA/TO                TA/TO                  A                0   \n",
       "1970      Online TA                TA/TO                  A                0   \n",
       "2200      Online TA                TA/TO                  A                0   \n",
       "2229         Direct               Direct                  E                0   \n",
       "2231         Direct               Direct                  A                0   \n",
       "2417         Direct               Direct                  E                0   \n",
       "2419         Direct               Direct                  A                0   \n",
       "2979         Direct               Direct                  A                1   \n",
       "\n",
       "     deposit_type  days_in_waiting_list customer_type  \\\n",
       "539    No Deposit                     0         Group   \n",
       "541    No Deposit                     0         Group   \n",
       "1156   No Deposit                     0         Group   \n",
       "1707   No Deposit                     0         Group   \n",
       "1733   No Deposit                     0         Group   \n",
       "1772   No Deposit                     0         Group   \n",
       "1970   No Deposit                     0         Group   \n",
       "2200   No Deposit                     0         Group   \n",
       "2229   No Deposit                     0         Group   \n",
       "2231   No Deposit                     0         Group   \n",
       "2417   No Deposit                     0         Group   \n",
       "2419   No Deposit                     0         Group   \n",
       "2979   No Deposit                     0         Group   \n",
       "\n",
       "      required_car_parking_spaces  total_of_special_requests  \n",
       "539                             1                          0  \n",
       "541                             0                          0  \n",
       "1156                            0                          0  \n",
       "1707                            0                          2  \n",
       "1733                            1                          0  \n",
       "1772                            0                          2  \n",
       "1970                            0                          0  \n",
       "2200                            0                          1  \n",
       "2229                            0                          0  \n",
       "2231                            0                          0  \n",
       "2417                            0                          0  \n",
       "2419                            0                          0  \n",
       "2979                            0                          0  "
      ]
     },
     "execution_count": 108,
     "metadata": {},
     "output_type": "execute_result"
    }
   ],
   "source": [
    "hotel[(hotel['customer_type']=='Group')&(hotel['adults']<16)]"
   ]
  },
  {
   "cell_type": "markdown",
   "id": "d05f1699",
   "metadata": {},
   "source": [
    "There were orders with only 2 adults but classified into Group in Customer Type. Were these wrong data input?"
   ]
  },
  {
   "cell_type": "markdown",
   "id": "2fc24991",
   "metadata": {},
   "source": [
    "### Transient Profile"
   ]
  },
  {
   "cell_type": "code",
   "execution_count": 109,
   "id": "fb609e80",
   "metadata": {
    "ExecuteTime": {
     "end_time": "2022-03-30T07:46:20.526786Z",
     "start_time": "2022-03-30T07:46:20.516073Z"
    }
   },
   "outputs": [
    {
     "data": {
      "text/plain": [
       "1.9299810759664775"
      ]
     },
     "execution_count": 109,
     "metadata": {},
     "output_type": "execute_result"
    }
   ],
   "source": [
    "hotel[hotel['customer_type']=='Transient']['adults'].mean()"
   ]
  },
  {
   "cell_type": "code",
   "execution_count": 110,
   "id": "557075c8",
   "metadata": {
    "ExecuteTime": {
     "end_time": "2022-03-30T07:46:20.540412Z",
     "start_time": "2022-03-30T07:46:20.529703Z"
    }
   },
   "outputs": [
    {
     "data": {
      "text/plain": [
       "4"
      ]
     },
     "execution_count": 110,
     "metadata": {},
     "output_type": "execute_result"
    }
   ],
   "source": [
    "hotel[(hotel['customer_type']=='Transient')&(hotel['adults']>2)]['adults'].max()"
   ]
  },
  {
   "cell_type": "markdown",
   "id": "0641a890",
   "metadata": {},
   "source": [
    "### Contract Profile"
   ]
  },
  {
   "cell_type": "code",
   "execution_count": 111,
   "id": "4210936b",
   "metadata": {
    "ExecuteTime": {
     "end_time": "2022-03-30T07:46:20.878156Z",
     "start_time": "2022-03-30T07:46:20.868421Z"
    }
   },
   "outputs": [
    {
     "data": {
      "text/plain": [
       "1.904109589041096"
      ]
     },
     "execution_count": 111,
     "metadata": {},
     "output_type": "execute_result"
    }
   ],
   "source": [
    "hotel[hotel['customer_type']=='Contract']['adults'].mean()"
   ]
  },
  {
   "cell_type": "code",
   "execution_count": 112,
   "id": "93e8b814",
   "metadata": {
    "ExecuteTime": {
     "end_time": "2022-03-30T07:46:20.956024Z",
     "start_time": "2022-03-30T07:46:20.943370Z"
    }
   },
   "outputs": [
    {
     "data": {
      "text/plain": [
       "3"
      ]
     },
     "execution_count": 112,
     "metadata": {},
     "output_type": "execute_result"
    }
   ],
   "source": [
    "hotel[(hotel['customer_type']=='Contract')&(hotel['adults']>2)]['adults'].max()"
   ]
  },
  {
   "cell_type": "markdown",
   "id": "6eec8c8c",
   "metadata": {},
   "source": [
    "### Transient-Party Profile"
   ]
  },
  {
   "cell_type": "code",
   "execution_count": 113,
   "id": "450b2dc0",
   "metadata": {
    "ExecuteTime": {
     "end_time": "2022-03-30T07:46:21.484543Z",
     "start_time": "2022-03-30T07:46:21.473836Z"
    }
   },
   "outputs": [
    {
     "data": {
      "text/plain": [
       "1.7786187322611164"
      ]
     },
     "execution_count": 113,
     "metadata": {},
     "output_type": "execute_result"
    }
   ],
   "source": [
    "hotel[hotel['customer_type']=='Transient-Party']['adults'].mean()"
   ]
  },
  {
   "cell_type": "code",
   "execution_count": 114,
   "id": "6ba65fbd",
   "metadata": {
    "ExecuteTime": {
     "end_time": "2022-03-30T07:46:21.505955Z",
     "start_time": "2022-03-30T07:46:21.495251Z"
    },
    "scrolled": true
   },
   "outputs": [
    {
     "data": {
      "text/plain": [
       "3"
      ]
     },
     "execution_count": 114,
     "metadata": {},
     "output_type": "execute_result"
    }
   ],
   "source": [
    "hotel[(hotel['customer_type']=='Transient-Party')&(hotel['adults']>2)]['adults'].max()"
   ]
  },
  {
   "cell_type": "markdown",
   "id": "5541d164",
   "metadata": {},
   "source": [
    "Since the means of Transient, Contract, and Transient-Party are almost the same, the mode of customer_type (Transient) will be used to fill the suspectedly wrong data input in Groups customer_type."
   ]
  },
  {
   "cell_type": "code",
   "execution_count": 115,
   "id": "64bf924f",
   "metadata": {
    "ExecuteTime": {
     "end_time": "2022-03-30T07:46:21.903077Z",
     "start_time": "2022-03-30T07:46:21.893343Z"
    }
   },
   "outputs": [
    {
     "data": {
      "text/plain": [
       "'Transient'"
      ]
     },
     "execution_count": 115,
     "metadata": {},
     "output_type": "execute_result"
    }
   ],
   "source": [
    "hotel['customer_type'].mode()[0]"
   ]
  },
  {
   "cell_type": "code",
   "execution_count": 116,
   "id": "acb09f64",
   "metadata": {
    "ExecuteTime": {
     "end_time": "2022-03-30T07:46:22.037395Z",
     "start_time": "2022-03-30T07:46:22.025712Z"
    }
   },
   "outputs": [
    {
     "data": {
      "text/plain": [
       "Int64Index([539, 541, 1156, 1707, 1733, 1772, 1970, 2200, 2979], dtype='int64')"
      ]
     },
     "execution_count": 116,
     "metadata": {},
     "output_type": "execute_result"
    }
   ],
   "source": [
    "index=hotel.loc[(hotel['customer_type']=='Group')&(hotel['adults']<5)].index\n",
    "index"
   ]
  },
  {
   "cell_type": "code",
   "execution_count": 117,
   "id": "fe1f64ab",
   "metadata": {
    "ExecuteTime": {
     "end_time": "2022-03-30T07:46:22.300196Z",
     "start_time": "2022-03-30T07:46:22.280727Z"
    }
   },
   "outputs": [],
   "source": [
    "hotel.iloc[index]=hotel.iloc[index].replace(to_replace='Group', value=hotel['customer_type'].mode()[0])"
   ]
  },
  {
   "cell_type": "code",
   "execution_count": 118,
   "id": "f6a002a4",
   "metadata": {
    "ExecuteTime": {
     "end_time": "2022-03-30T07:46:22.589277Z",
     "start_time": "2022-03-30T07:46:22.562994Z"
    }
   },
   "outputs": [
    {
     "data": {
      "text/html": [
       "<div>\n",
       "<style scoped>\n",
       "    .dataframe tbody tr th:only-of-type {\n",
       "        vertical-align: middle;\n",
       "    }\n",
       "\n",
       "    .dataframe tbody tr th {\n",
       "        vertical-align: top;\n",
       "    }\n",
       "\n",
       "    .dataframe thead th {\n",
       "        text-align: right;\n",
       "    }\n",
       "</style>\n",
       "<table border=\"1\" class=\"dataframe\">\n",
       "  <thead>\n",
       "    <tr style=\"text-align: right;\">\n",
       "      <th></th>\n",
       "      <th>hotel</th>\n",
       "      <th>is_canceled</th>\n",
       "      <th>adults</th>\n",
       "      <th>children</th>\n",
       "      <th>babies</th>\n",
       "      <th>meal</th>\n",
       "      <th>country</th>\n",
       "      <th>market_segment</th>\n",
       "      <th>distribution_channel</th>\n",
       "      <th>reserved_room_type</th>\n",
       "      <th>booking_changes</th>\n",
       "      <th>deposit_type</th>\n",
       "      <th>days_in_waiting_list</th>\n",
       "      <th>customer_type</th>\n",
       "      <th>required_car_parking_spaces</th>\n",
       "      <th>total_of_special_requests</th>\n",
       "    </tr>\n",
       "  </thead>\n",
       "  <tbody>\n",
       "    <tr>\n",
       "      <th>539</th>\n",
       "      <td>Resort Hotel</td>\n",
       "      <td>0</td>\n",
       "      <td>2</td>\n",
       "      <td>0.0</td>\n",
       "      <td>0</td>\n",
       "      <td>BB</td>\n",
       "      <td>PRT</td>\n",
       "      <td>Online TA</td>\n",
       "      <td>TA/TO</td>\n",
       "      <td>A</td>\n",
       "      <td>0</td>\n",
       "      <td>No Deposit</td>\n",
       "      <td>0</td>\n",
       "      <td>Transient</td>\n",
       "      <td>1</td>\n",
       "      <td>0</td>\n",
       "    </tr>\n",
       "    <tr>\n",
       "      <th>541</th>\n",
       "      <td>Resort Hotel</td>\n",
       "      <td>0</td>\n",
       "      <td>2</td>\n",
       "      <td>0.0</td>\n",
       "      <td>0</td>\n",
       "      <td>BB</td>\n",
       "      <td>PRT</td>\n",
       "      <td>Online TA</td>\n",
       "      <td>TA/TO</td>\n",
       "      <td>A</td>\n",
       "      <td>0</td>\n",
       "      <td>No Deposit</td>\n",
       "      <td>0</td>\n",
       "      <td>Transient</td>\n",
       "      <td>0</td>\n",
       "      <td>0</td>\n",
       "    </tr>\n",
       "    <tr>\n",
       "      <th>1156</th>\n",
       "      <td>Resort Hotel</td>\n",
       "      <td>0</td>\n",
       "      <td>2</td>\n",
       "      <td>0.0</td>\n",
       "      <td>0</td>\n",
       "      <td>BB</td>\n",
       "      <td>GBR</td>\n",
       "      <td>Online TA</td>\n",
       "      <td>TA/TO</td>\n",
       "      <td>A</td>\n",
       "      <td>0</td>\n",
       "      <td>No Deposit</td>\n",
       "      <td>0</td>\n",
       "      <td>Transient</td>\n",
       "      <td>0</td>\n",
       "      <td>0</td>\n",
       "    </tr>\n",
       "    <tr>\n",
       "      <th>1707</th>\n",
       "      <td>Resort Hotel</td>\n",
       "      <td>1</td>\n",
       "      <td>2</td>\n",
       "      <td>0.0</td>\n",
       "      <td>0</td>\n",
       "      <td>BB</td>\n",
       "      <td>PRT</td>\n",
       "      <td>Online TA</td>\n",
       "      <td>TA/TO</td>\n",
       "      <td>A</td>\n",
       "      <td>0</td>\n",
       "      <td>No Deposit</td>\n",
       "      <td>0</td>\n",
       "      <td>Transient</td>\n",
       "      <td>0</td>\n",
       "      <td>2</td>\n",
       "    </tr>\n",
       "    <tr>\n",
       "      <th>1733</th>\n",
       "      <td>Resort Hotel</td>\n",
       "      <td>0</td>\n",
       "      <td>2</td>\n",
       "      <td>2.0</td>\n",
       "      <td>0</td>\n",
       "      <td>BB</td>\n",
       "      <td>BRA</td>\n",
       "      <td>Online TA</td>\n",
       "      <td>TA/TO</td>\n",
       "      <td>H</td>\n",
       "      <td>0</td>\n",
       "      <td>No Deposit</td>\n",
       "      <td>0</td>\n",
       "      <td>Transient</td>\n",
       "      <td>1</td>\n",
       "      <td>0</td>\n",
       "    </tr>\n",
       "    <tr>\n",
       "      <th>1772</th>\n",
       "      <td>Resort Hotel</td>\n",
       "      <td>0</td>\n",
       "      <td>2</td>\n",
       "      <td>0.0</td>\n",
       "      <td>0</td>\n",
       "      <td>BB</td>\n",
       "      <td>IRL</td>\n",
       "      <td>Offline TA/TO</td>\n",
       "      <td>TA/TO</td>\n",
       "      <td>A</td>\n",
       "      <td>0</td>\n",
       "      <td>No Deposit</td>\n",
       "      <td>0</td>\n",
       "      <td>Transient</td>\n",
       "      <td>0</td>\n",
       "      <td>2</td>\n",
       "    </tr>\n",
       "    <tr>\n",
       "      <th>1970</th>\n",
       "      <td>Resort Hotel</td>\n",
       "      <td>0</td>\n",
       "      <td>2</td>\n",
       "      <td>0.0</td>\n",
       "      <td>0</td>\n",
       "      <td>BB</td>\n",
       "      <td>PRT</td>\n",
       "      <td>Online TA</td>\n",
       "      <td>TA/TO</td>\n",
       "      <td>A</td>\n",
       "      <td>0</td>\n",
       "      <td>No Deposit</td>\n",
       "      <td>0</td>\n",
       "      <td>Transient</td>\n",
       "      <td>0</td>\n",
       "      <td>0</td>\n",
       "    </tr>\n",
       "    <tr>\n",
       "      <th>2200</th>\n",
       "      <td>Resort Hotel</td>\n",
       "      <td>0</td>\n",
       "      <td>2</td>\n",
       "      <td>0.0</td>\n",
       "      <td>0</td>\n",
       "      <td>BB</td>\n",
       "      <td>BEL</td>\n",
       "      <td>Online TA</td>\n",
       "      <td>TA/TO</td>\n",
       "      <td>A</td>\n",
       "      <td>0</td>\n",
       "      <td>No Deposit</td>\n",
       "      <td>0</td>\n",
       "      <td>Transient</td>\n",
       "      <td>0</td>\n",
       "      <td>1</td>\n",
       "    </tr>\n",
       "    <tr>\n",
       "      <th>2979</th>\n",
       "      <td>Resort Hotel</td>\n",
       "      <td>0</td>\n",
       "      <td>2</td>\n",
       "      <td>0.0</td>\n",
       "      <td>0</td>\n",
       "      <td>BB</td>\n",
       "      <td>PRT</td>\n",
       "      <td>Direct</td>\n",
       "      <td>Direct</td>\n",
       "      <td>A</td>\n",
       "      <td>1</td>\n",
       "      <td>No Deposit</td>\n",
       "      <td>0</td>\n",
       "      <td>Transient</td>\n",
       "      <td>0</td>\n",
       "      <td>0</td>\n",
       "    </tr>\n",
       "  </tbody>\n",
       "</table>\n",
       "</div>"
      ],
      "text/plain": [
       "             hotel  is_canceled  adults  children  babies meal country  \\\n",
       "539   Resort Hotel            0       2       0.0       0   BB     PRT   \n",
       "541   Resort Hotel            0       2       0.0       0   BB     PRT   \n",
       "1156  Resort Hotel            0       2       0.0       0   BB     GBR   \n",
       "1707  Resort Hotel            1       2       0.0       0   BB     PRT   \n",
       "1733  Resort Hotel            0       2       2.0       0   BB     BRA   \n",
       "1772  Resort Hotel            0       2       0.0       0   BB     IRL   \n",
       "1970  Resort Hotel            0       2       0.0       0   BB     PRT   \n",
       "2200  Resort Hotel            0       2       0.0       0   BB     BEL   \n",
       "2979  Resort Hotel            0       2       0.0       0   BB     PRT   \n",
       "\n",
       "     market_segment distribution_channel reserved_room_type  booking_changes  \\\n",
       "539       Online TA                TA/TO                  A                0   \n",
       "541       Online TA                TA/TO                  A                0   \n",
       "1156      Online TA                TA/TO                  A                0   \n",
       "1707      Online TA                TA/TO                  A                0   \n",
       "1733      Online TA                TA/TO                  H                0   \n",
       "1772  Offline TA/TO                TA/TO                  A                0   \n",
       "1970      Online TA                TA/TO                  A                0   \n",
       "2200      Online TA                TA/TO                  A                0   \n",
       "2979         Direct               Direct                  A                1   \n",
       "\n",
       "     deposit_type  days_in_waiting_list customer_type  \\\n",
       "539    No Deposit                     0     Transient   \n",
       "541    No Deposit                     0     Transient   \n",
       "1156   No Deposit                     0     Transient   \n",
       "1707   No Deposit                     0     Transient   \n",
       "1733   No Deposit                     0     Transient   \n",
       "1772   No Deposit                     0     Transient   \n",
       "1970   No Deposit                     0     Transient   \n",
       "2200   No Deposit                     0     Transient   \n",
       "2979   No Deposit                     0     Transient   \n",
       "\n",
       "      required_car_parking_spaces  total_of_special_requests  \n",
       "539                             1                          0  \n",
       "541                             0                          0  \n",
       "1156                            0                          0  \n",
       "1707                            0                          2  \n",
       "1733                            1                          0  \n",
       "1772                            0                          2  \n",
       "1970                            0                          0  \n",
       "2200                            0                          1  \n",
       "2979                            0                          0  "
      ]
     },
     "execution_count": 118,
     "metadata": {},
     "output_type": "execute_result"
    }
   ],
   "source": [
    "hotel.iloc[index]"
   ]
  },
  {
   "cell_type": "code",
   "execution_count": 119,
   "id": "21d45a8f",
   "metadata": {
    "ExecuteTime": {
     "end_time": "2022-03-30T07:46:22.629182Z",
     "start_time": "2022-03-30T07:46:22.601928Z"
    }
   },
   "outputs": [
    {
     "data": {
      "text/html": [
       "<div>\n",
       "<style scoped>\n",
       "    .dataframe tbody tr th:only-of-type {\n",
       "        vertical-align: middle;\n",
       "    }\n",
       "\n",
       "    .dataframe tbody tr th {\n",
       "        vertical-align: top;\n",
       "    }\n",
       "\n",
       "    .dataframe thead th {\n",
       "        text-align: right;\n",
       "    }\n",
       "</style>\n",
       "<table border=\"1\" class=\"dataframe\">\n",
       "  <thead>\n",
       "    <tr style=\"text-align: right;\">\n",
       "      <th></th>\n",
       "      <th>hotel</th>\n",
       "      <th>is_canceled</th>\n",
       "      <th>adults</th>\n",
       "      <th>children</th>\n",
       "      <th>babies</th>\n",
       "      <th>meal</th>\n",
       "      <th>country</th>\n",
       "      <th>market_segment</th>\n",
       "      <th>distribution_channel</th>\n",
       "      <th>reserved_room_type</th>\n",
       "      <th>booking_changes</th>\n",
       "      <th>deposit_type</th>\n",
       "      <th>days_in_waiting_list</th>\n",
       "      <th>customer_type</th>\n",
       "      <th>required_car_parking_spaces</th>\n",
       "      <th>total_of_special_requests</th>\n",
       "    </tr>\n",
       "  </thead>\n",
       "  <tbody>\n",
       "    <tr>\n",
       "      <th>2229</th>\n",
       "      <td>Resort Hotel</td>\n",
       "      <td>1</td>\n",
       "      <td>6</td>\n",
       "      <td>0.0</td>\n",
       "      <td>0</td>\n",
       "      <td>BB</td>\n",
       "      <td>PRT</td>\n",
       "      <td>Direct</td>\n",
       "      <td>Direct</td>\n",
       "      <td>E</td>\n",
       "      <td>0</td>\n",
       "      <td>No Deposit</td>\n",
       "      <td>0</td>\n",
       "      <td>Group</td>\n",
       "      <td>0</td>\n",
       "      <td>0</td>\n",
       "    </tr>\n",
       "    <tr>\n",
       "      <th>2231</th>\n",
       "      <td>Resort Hotel</td>\n",
       "      <td>1</td>\n",
       "      <td>5</td>\n",
       "      <td>0.0</td>\n",
       "      <td>0</td>\n",
       "      <td>BB</td>\n",
       "      <td>PRT</td>\n",
       "      <td>Direct</td>\n",
       "      <td>Direct</td>\n",
       "      <td>A</td>\n",
       "      <td>0</td>\n",
       "      <td>No Deposit</td>\n",
       "      <td>0</td>\n",
       "      <td>Group</td>\n",
       "      <td>0</td>\n",
       "      <td>0</td>\n",
       "    </tr>\n",
       "    <tr>\n",
       "      <th>2417</th>\n",
       "      <td>Resort Hotel</td>\n",
       "      <td>1</td>\n",
       "      <td>10</td>\n",
       "      <td>0.0</td>\n",
       "      <td>0</td>\n",
       "      <td>BB</td>\n",
       "      <td>PRT</td>\n",
       "      <td>Direct</td>\n",
       "      <td>Direct</td>\n",
       "      <td>E</td>\n",
       "      <td>0</td>\n",
       "      <td>No Deposit</td>\n",
       "      <td>0</td>\n",
       "      <td>Group</td>\n",
       "      <td>0</td>\n",
       "      <td>0</td>\n",
       "    </tr>\n",
       "    <tr>\n",
       "      <th>2419</th>\n",
       "      <td>Resort Hotel</td>\n",
       "      <td>1</td>\n",
       "      <td>5</td>\n",
       "      <td>0.0</td>\n",
       "      <td>0</td>\n",
       "      <td>BB</td>\n",
       "      <td>PRT</td>\n",
       "      <td>Direct</td>\n",
       "      <td>Direct</td>\n",
       "      <td>A</td>\n",
       "      <td>0</td>\n",
       "      <td>No Deposit</td>\n",
       "      <td>0</td>\n",
       "      <td>Group</td>\n",
       "      <td>0</td>\n",
       "      <td>0</td>\n",
       "    </tr>\n",
       "  </tbody>\n",
       "</table>\n",
       "</div>"
      ],
      "text/plain": [
       "             hotel  is_canceled  adults  children  babies meal country  \\\n",
       "2229  Resort Hotel            1       6       0.0       0   BB     PRT   \n",
       "2231  Resort Hotel            1       5       0.0       0   BB     PRT   \n",
       "2417  Resort Hotel            1      10       0.0       0   BB     PRT   \n",
       "2419  Resort Hotel            1       5       0.0       0   BB     PRT   \n",
       "\n",
       "     market_segment distribution_channel reserved_room_type  booking_changes  \\\n",
       "2229         Direct               Direct                  E                0   \n",
       "2231         Direct               Direct                  A                0   \n",
       "2417         Direct               Direct                  E                0   \n",
       "2419         Direct               Direct                  A                0   \n",
       "\n",
       "     deposit_type  days_in_waiting_list customer_type  \\\n",
       "2229   No Deposit                     0         Group   \n",
       "2231   No Deposit                     0         Group   \n",
       "2417   No Deposit                     0         Group   \n",
       "2419   No Deposit                     0         Group   \n",
       "\n",
       "      required_car_parking_spaces  total_of_special_requests  \n",
       "2229                            0                          0  \n",
       "2231                            0                          0  \n",
       "2417                            0                          0  \n",
       "2419                            0                          0  "
      ]
     },
     "execution_count": 119,
     "metadata": {},
     "output_type": "execute_result"
    }
   ],
   "source": [
    "hotel[(hotel['customer_type']=='Group')&(hotel['adults']<16)]"
   ]
  },
  {
   "cell_type": "markdown",
   "id": "2dc5f9ba",
   "metadata": {},
   "source": [
    "## Connection between Market Segmentation with Distribution Channel and Customer Type"
   ]
  },
  {
   "cell_type": "code",
   "execution_count": 120,
   "id": "cd70d73f",
   "metadata": {
    "ExecuteTime": {
     "end_time": "2022-03-30T07:46:23.133369Z",
     "start_time": "2022-03-30T07:46:23.124609Z"
    }
   },
   "outputs": [
    {
     "data": {
      "text/plain": [
       "array(['Direct', 'Corporate', 'Online TA', 'Offline TA/TO',\n",
       "       'Complementary', 'Groups'], dtype=object)"
      ]
     },
     "execution_count": 120,
     "metadata": {},
     "output_type": "execute_result"
    }
   ],
   "source": [
    "hotel['market_segment'].unique()"
   ]
  },
  {
   "cell_type": "markdown",
   "id": "7c522b2f",
   "metadata": {},
   "source": [
    "It seems that the market segmentation of this dataset comes from its distribution channel (Direct, Corporate, TA/TO) and customer type (Groups)."
   ]
  },
  {
   "cell_type": "markdown",
   "id": "61a71c5e",
   "metadata": {},
   "source": [
    "**Does types of Distribution Channel matches with types of Market Segment?**"
   ]
  },
  {
   "cell_type": "code",
   "execution_count": 121,
   "id": "0a6a8f8b",
   "metadata": {
    "ExecuteTime": {
     "end_time": "2022-03-30T07:46:23.581100Z",
     "start_time": "2022-03-30T07:46:23.572341Z"
    }
   },
   "outputs": [
    {
     "data": {
      "text/plain": [
       "array(['Direct', 'Corporate', 'TA/TO'], dtype=object)"
      ]
     },
     "execution_count": 121,
     "metadata": {},
     "output_type": "execute_result"
    }
   ],
   "source": [
    "hotel['distribution_channel'].unique()"
   ]
  },
  {
   "cell_type": "code",
   "execution_count": 122,
   "id": "73be6c44",
   "metadata": {
    "ExecuteTime": {
     "end_time": "2022-03-30T07:46:23.739754Z",
     "start_time": "2022-03-30T07:46:23.725153Z"
    }
   },
   "outputs": [
    {
     "data": {
      "text/plain": [
       "Online TA        2156\n",
       "Offline TA/TO     926\n",
       "Groups            562\n",
       "Direct             11\n",
       "Complementary       2\n",
       "Name: market_segment, dtype: int64"
      ]
     },
     "execution_count": 122,
     "metadata": {},
     "output_type": "execute_result"
    }
   ],
   "source": [
    "hotel[hotel['distribution_channel']=='TA/TO']['market_segment'].value_counts()"
   ]
  },
  {
   "cell_type": "code",
   "execution_count": 123,
   "id": "8f6280a7",
   "metadata": {
    "ExecuteTime": {
     "end_time": "2022-03-30T07:46:24.085288Z",
     "start_time": "2022-03-30T07:46:24.072634Z"
    }
   },
   "outputs": [
    {
     "data": {
      "text/plain": [
       "Direct           606\n",
       "Groups           441\n",
       "Corporate         10\n",
       "Complementary      8\n",
       "Offline TA/TO      3\n",
       "Name: market_segment, dtype: int64"
      ]
     },
     "execution_count": 123,
     "metadata": {},
     "output_type": "execute_result"
    }
   ],
   "source": [
    "hotel[hotel['distribution_channel']=='Direct']['market_segment'].value_counts()"
   ]
  },
  {
   "cell_type": "code",
   "execution_count": 124,
   "id": "977cea44",
   "metadata": {
    "ExecuteTime": {
     "end_time": "2022-03-30T07:46:24.205981Z",
     "start_time": "2022-03-30T07:46:24.194297Z"
    }
   },
   "outputs": [
    {
     "data": {
      "text/plain": [
       "Corporate        251\n",
       "Groups            22\n",
       "Complementary      1\n",
       "Direct             1\n",
       "Name: market_segment, dtype: int64"
      ]
     },
     "execution_count": 124,
     "metadata": {},
     "output_type": "execute_result"
    }
   ],
   "source": [
    "hotel[hotel['distribution_channel']=='Corporate']['market_segment'].value_counts()"
   ]
  },
  {
   "cell_type": "markdown",
   "id": "a130d4bd",
   "metadata": {},
   "source": [
    "No. But if looked closely, the majority group of market segment matched with the distribution channel. Thus, supporting the assumption above that the market segmentation was generated from its distribution channel. So, the minority unmatched group will be treated as false data input or collection."
   ]
  },
  {
   "cell_type": "markdown",
   "id": "2b2284de",
   "metadata": {},
   "source": [
    "**Does types of Customer Type matches with types of Market Segment?**"
   ]
  },
  {
   "cell_type": "code",
   "execution_count": 125,
   "id": "0f448bb8",
   "metadata": {
    "ExecuteTime": {
     "end_time": "2022-03-30T07:46:24.705302Z",
     "start_time": "2022-03-30T07:46:24.695567Z"
    }
   },
   "outputs": [
    {
     "data": {
      "text/plain": [
       "array(['Transient', 'Contract', 'Transient-Party', 'Group'], dtype=object)"
      ]
     },
     "execution_count": 125,
     "metadata": {},
     "output_type": "execute_result"
    }
   ],
   "source": [
    "hotel['customer_type'].unique()"
   ]
  },
  {
   "cell_type": "code",
   "execution_count": 126,
   "id": "ebc0ba0d",
   "metadata": {
    "ExecuteTime": {
     "end_time": "2022-03-30T07:46:24.956422Z",
     "start_time": "2022-03-30T07:46:24.942793Z"
    }
   },
   "outputs": [
    {
     "data": {
      "text/plain": [
       "Online TA        2091\n",
       "Direct            546\n",
       "Offline TA/TO     534\n",
       "Groups            442\n",
       "Corporate          84\n",
       "Complementary      11\n",
       "Name: market_segment, dtype: int64"
      ]
     },
     "execution_count": 126,
     "metadata": {},
     "output_type": "execute_result"
    }
   ],
   "source": [
    "hotel[hotel['customer_type']=='Transient']['market_segment'].value_counts()"
   ]
  },
  {
   "cell_type": "code",
   "execution_count": 127,
   "id": "822308ad",
   "metadata": {
    "ExecuteTime": {
     "end_time": "2022-03-30T07:46:25.169581Z",
     "start_time": "2022-03-30T07:46:25.156927Z"
    }
   },
   "outputs": [
    {
     "data": {
      "text/plain": [
       "Offline TA/TO    191\n",
       "Corporate         12\n",
       "Direct            12\n",
       "Groups             4\n",
       "Name: market_segment, dtype: int64"
      ]
     },
     "execution_count": 127,
     "metadata": {},
     "output_type": "execute_result"
    }
   ],
   "source": [
    "hotel[hotel['customer_type']=='Contract']['market_segment'].value_counts()"
   ]
  },
  {
   "cell_type": "code",
   "execution_count": 128,
   "id": "5ea5543c",
   "metadata": {
    "ExecuteTime": {
     "end_time": "2022-03-30T07:46:25.393444Z",
     "start_time": "2022-03-30T07:46:25.380792Z"
    }
   },
   "outputs": [
    {
     "data": {
      "text/plain": [
       "Groups           579\n",
       "Offline TA/TO    199\n",
       "Corporate        165\n",
       "Online TA         65\n",
       "Direct            49\n",
       "Name: market_segment, dtype: int64"
      ]
     },
     "execution_count": 128,
     "metadata": {},
     "output_type": "execute_result"
    }
   ],
   "source": [
    "hotel[hotel['customer_type']=='Transient-Party']['market_segment'].value_counts()"
   ]
  },
  {
   "cell_type": "code",
   "execution_count": 129,
   "id": "0ab68377",
   "metadata": {
    "ExecuteTime": {
     "end_time": "2022-03-30T07:46:25.583247Z",
     "start_time": "2022-03-30T07:46:25.571564Z"
    }
   },
   "outputs": [
    {
     "data": {
      "text/plain": [
       "Direct           11\n",
       "Offline TA/TO     5\n",
       "Name: market_segment, dtype: int64"
      ]
     },
     "execution_count": 129,
     "metadata": {},
     "output_type": "execute_result"
    }
   ],
   "source": [
    "hotel[hotel['customer_type']=='Group']['market_segment'].value_counts()"
   ]
  },
  {
   "cell_type": "markdown",
   "id": "510b11e6",
   "metadata": {},
   "source": [
    "Also no. But since transient, contract, and transient-party were not included in market segmentation, there are no certainty of using this column to correct the market segment. And, from the last code, there was no Group market segment in any Groups customer type."
   ]
  },
  {
   "cell_type": "markdown",
   "id": "8094259f",
   "metadata": {},
   "source": [
    "### Matching Distribution Channel with Market Segment"
   ]
  },
  {
   "cell_type": "markdown",
   "id": "d2263b57",
   "metadata": {},
   "source": [
    "From the assumption of market segmentation in this dataset came from its distribution channel and not *vice versa*, then it is logically right to change the value of market segment based on its distribution channel."
   ]
  },
  {
   "cell_type": "markdown",
   "id": "fece7764",
   "metadata": {},
   "source": [
    "#### TA/TO"
   ]
  },
  {
   "cell_type": "code",
   "execution_count": 130,
   "id": "4fb565e7",
   "metadata": {
    "ExecuteTime": {
     "end_time": "2022-03-30T07:46:26.551682Z",
     "start_time": "2022-03-30T07:46:26.538056Z"
    }
   },
   "outputs": [
    {
     "data": {
      "text/plain": [
       "Online TA        2156\n",
       "Offline TA/TO     926\n",
       "Groups            562\n",
       "Direct             11\n",
       "Complementary       2\n",
       "Name: market_segment, dtype: int64"
      ]
     },
     "execution_count": 130,
     "metadata": {},
     "output_type": "execute_result"
    }
   ],
   "source": [
    "hotel[hotel['distribution_channel']=='TA/TO']['market_segment'].value_counts()"
   ]
  },
  {
   "cell_type": "code",
   "execution_count": 131,
   "id": "038c338f",
   "metadata": {
    "ExecuteTime": {
     "end_time": "2022-03-30T07:46:26.791122Z",
     "start_time": "2022-03-30T07:46:26.777496Z"
    }
   },
   "outputs": [
    {
     "data": {
      "text/plain": [
       "'Online TA'"
      ]
     },
     "execution_count": 131,
     "metadata": {},
     "output_type": "execute_result"
    }
   ],
   "source": [
    "hotel[hotel['distribution_channel']=='TA/TO']['market_segment'].value_counts().reset_index()['index'][0]"
   ]
  },
  {
   "cell_type": "code",
   "execution_count": 132,
   "id": "66fcfb40",
   "metadata": {
    "ExecuteTime": {
     "end_time": "2022-03-30T07:46:27.034455Z",
     "start_time": "2022-03-30T07:46:27.003307Z"
    }
   },
   "outputs": [
    {
     "data": {
      "text/html": [
       "<div>\n",
       "<style scoped>\n",
       "    .dataframe tbody tr th:only-of-type {\n",
       "        vertical-align: middle;\n",
       "    }\n",
       "\n",
       "    .dataframe tbody tr th {\n",
       "        vertical-align: top;\n",
       "    }\n",
       "\n",
       "    .dataframe thead th {\n",
       "        text-align: right;\n",
       "    }\n",
       "</style>\n",
       "<table border=\"1\" class=\"dataframe\">\n",
       "  <thead>\n",
       "    <tr style=\"text-align: right;\">\n",
       "      <th></th>\n",
       "      <th>hotel</th>\n",
       "      <th>is_canceled</th>\n",
       "      <th>adults</th>\n",
       "      <th>children</th>\n",
       "      <th>babies</th>\n",
       "      <th>meal</th>\n",
       "      <th>country</th>\n",
       "      <th>market_segment</th>\n",
       "      <th>distribution_channel</th>\n",
       "      <th>reserved_room_type</th>\n",
       "      <th>booking_changes</th>\n",
       "      <th>deposit_type</th>\n",
       "      <th>days_in_waiting_list</th>\n",
       "      <th>customer_type</th>\n",
       "      <th>required_car_parking_spaces</th>\n",
       "      <th>total_of_special_requests</th>\n",
       "    </tr>\n",
       "  </thead>\n",
       "  <tbody>\n",
       "    <tr>\n",
       "      <th>282</th>\n",
       "      <td>Resort Hotel</td>\n",
       "      <td>0</td>\n",
       "      <td>2</td>\n",
       "      <td>0.0</td>\n",
       "      <td>1</td>\n",
       "      <td>BB</td>\n",
       "      <td>PRT</td>\n",
       "      <td>Direct</td>\n",
       "      <td>TA/TO</td>\n",
       "      <td>A</td>\n",
       "      <td>1</td>\n",
       "      <td>No Deposit</td>\n",
       "      <td>0</td>\n",
       "      <td>Transient</td>\n",
       "      <td>0</td>\n",
       "      <td>1</td>\n",
       "    </tr>\n",
       "    <tr>\n",
       "      <th>365</th>\n",
       "      <td>Resort Hotel</td>\n",
       "      <td>1</td>\n",
       "      <td>2</td>\n",
       "      <td>0.0</td>\n",
       "      <td>0</td>\n",
       "      <td>HB</td>\n",
       "      <td>PRT</td>\n",
       "      <td>Direct</td>\n",
       "      <td>TA/TO</td>\n",
       "      <td>A</td>\n",
       "      <td>0</td>\n",
       "      <td>No Deposit</td>\n",
       "      <td>0</td>\n",
       "      <td>Transient</td>\n",
       "      <td>0</td>\n",
       "      <td>1</td>\n",
       "    </tr>\n",
       "    <tr>\n",
       "      <th>396</th>\n",
       "      <td>Resort Hotel</td>\n",
       "      <td>0</td>\n",
       "      <td>2</td>\n",
       "      <td>2.0</td>\n",
       "      <td>0</td>\n",
       "      <td>HB</td>\n",
       "      <td>PRT</td>\n",
       "      <td>Direct</td>\n",
       "      <td>TA/TO</td>\n",
       "      <td>H</td>\n",
       "      <td>1</td>\n",
       "      <td>No Deposit</td>\n",
       "      <td>0</td>\n",
       "      <td>Transient</td>\n",
       "      <td>1</td>\n",
       "      <td>2</td>\n",
       "    </tr>\n",
       "    <tr>\n",
       "      <th>660</th>\n",
       "      <td>Resort Hotel</td>\n",
       "      <td>0</td>\n",
       "      <td>2</td>\n",
       "      <td>0.0</td>\n",
       "      <td>0</td>\n",
       "      <td>BB</td>\n",
       "      <td>PRT</td>\n",
       "      <td>Direct</td>\n",
       "      <td>TA/TO</td>\n",
       "      <td>D</td>\n",
       "      <td>0</td>\n",
       "      <td>No Deposit</td>\n",
       "      <td>0</td>\n",
       "      <td>Transient</td>\n",
       "      <td>0</td>\n",
       "      <td>2</td>\n",
       "    </tr>\n",
       "    <tr>\n",
       "      <th>1503</th>\n",
       "      <td>Resort Hotel</td>\n",
       "      <td>0</td>\n",
       "      <td>1</td>\n",
       "      <td>0.0</td>\n",
       "      <td>0</td>\n",
       "      <td>BB</td>\n",
       "      <td>PRT</td>\n",
       "      <td>Direct</td>\n",
       "      <td>TA/TO</td>\n",
       "      <td>A</td>\n",
       "      <td>0</td>\n",
       "      <td>No Deposit</td>\n",
       "      <td>0</td>\n",
       "      <td>Transient</td>\n",
       "      <td>0</td>\n",
       "      <td>0</td>\n",
       "    </tr>\n",
       "    <tr>\n",
       "      <th>1544</th>\n",
       "      <td>Resort Hotel</td>\n",
       "      <td>0</td>\n",
       "      <td>2</td>\n",
       "      <td>0.0</td>\n",
       "      <td>0</td>\n",
       "      <td>BB</td>\n",
       "      <td>IRL</td>\n",
       "      <td>Direct</td>\n",
       "      <td>TA/TO</td>\n",
       "      <td>A</td>\n",
       "      <td>0</td>\n",
       "      <td>No Deposit</td>\n",
       "      <td>0</td>\n",
       "      <td>Transient-Party</td>\n",
       "      <td>0</td>\n",
       "      <td>2</td>\n",
       "    </tr>\n",
       "    <tr>\n",
       "      <th>1545</th>\n",
       "      <td>Resort Hotel</td>\n",
       "      <td>1</td>\n",
       "      <td>2</td>\n",
       "      <td>0.0</td>\n",
       "      <td>0</td>\n",
       "      <td>BB</td>\n",
       "      <td>PRT</td>\n",
       "      <td>Direct</td>\n",
       "      <td>TA/TO</td>\n",
       "      <td>A</td>\n",
       "      <td>0</td>\n",
       "      <td>No Deposit</td>\n",
       "      <td>0</td>\n",
       "      <td>Transient</td>\n",
       "      <td>0</td>\n",
       "      <td>0</td>\n",
       "    </tr>\n",
       "    <tr>\n",
       "      <th>1591</th>\n",
       "      <td>Resort Hotel</td>\n",
       "      <td>1</td>\n",
       "      <td>2</td>\n",
       "      <td>1.0</td>\n",
       "      <td>0</td>\n",
       "      <td>HB</td>\n",
       "      <td>PRT</td>\n",
       "      <td>Direct</td>\n",
       "      <td>TA/TO</td>\n",
       "      <td>E</td>\n",
       "      <td>1</td>\n",
       "      <td>No Deposit</td>\n",
       "      <td>0</td>\n",
       "      <td>Transient</td>\n",
       "      <td>0</td>\n",
       "      <td>0</td>\n",
       "    </tr>\n",
       "    <tr>\n",
       "      <th>1659</th>\n",
       "      <td>Resort Hotel</td>\n",
       "      <td>1</td>\n",
       "      <td>2</td>\n",
       "      <td>0.0</td>\n",
       "      <td>0</td>\n",
       "      <td>BB</td>\n",
       "      <td>PRT</td>\n",
       "      <td>Direct</td>\n",
       "      <td>TA/TO</td>\n",
       "      <td>A</td>\n",
       "      <td>0</td>\n",
       "      <td>No Deposit</td>\n",
       "      <td>0</td>\n",
       "      <td>Transient</td>\n",
       "      <td>0</td>\n",
       "      <td>0</td>\n",
       "    </tr>\n",
       "    <tr>\n",
       "      <th>1660</th>\n",
       "      <td>Resort Hotel</td>\n",
       "      <td>1</td>\n",
       "      <td>2</td>\n",
       "      <td>0.0</td>\n",
       "      <td>0</td>\n",
       "      <td>BB</td>\n",
       "      <td>PRT</td>\n",
       "      <td>Direct</td>\n",
       "      <td>TA/TO</td>\n",
       "      <td>A</td>\n",
       "      <td>0</td>\n",
       "      <td>No Deposit</td>\n",
       "      <td>0</td>\n",
       "      <td>Transient</td>\n",
       "      <td>0</td>\n",
       "      <td>0</td>\n",
       "    </tr>\n",
       "    <tr>\n",
       "      <th>1661</th>\n",
       "      <td>Resort Hotel</td>\n",
       "      <td>1</td>\n",
       "      <td>2</td>\n",
       "      <td>0.0</td>\n",
       "      <td>0</td>\n",
       "      <td>BB</td>\n",
       "      <td>PRT</td>\n",
       "      <td>Direct</td>\n",
       "      <td>TA/TO</td>\n",
       "      <td>A</td>\n",
       "      <td>1</td>\n",
       "      <td>No Deposit</td>\n",
       "      <td>0</td>\n",
       "      <td>Transient</td>\n",
       "      <td>0</td>\n",
       "      <td>0</td>\n",
       "    </tr>\n",
       "  </tbody>\n",
       "</table>\n",
       "</div>"
      ],
      "text/plain": [
       "             hotel  is_canceled  adults  children  babies meal country  \\\n",
       "282   Resort Hotel            0       2       0.0       1   BB     PRT   \n",
       "365   Resort Hotel            1       2       0.0       0   HB     PRT   \n",
       "396   Resort Hotel            0       2       2.0       0   HB     PRT   \n",
       "660   Resort Hotel            0       2       0.0       0   BB     PRT   \n",
       "1503  Resort Hotel            0       1       0.0       0   BB     PRT   \n",
       "1544  Resort Hotel            0       2       0.0       0   BB     IRL   \n",
       "1545  Resort Hotel            1       2       0.0       0   BB     PRT   \n",
       "1591  Resort Hotel            1       2       1.0       0   HB     PRT   \n",
       "1659  Resort Hotel            1       2       0.0       0   BB     PRT   \n",
       "1660  Resort Hotel            1       2       0.0       0   BB     PRT   \n",
       "1661  Resort Hotel            1       2       0.0       0   BB     PRT   \n",
       "\n",
       "     market_segment distribution_channel reserved_room_type  booking_changes  \\\n",
       "282          Direct                TA/TO                  A                1   \n",
       "365          Direct                TA/TO                  A                0   \n",
       "396          Direct                TA/TO                  H                1   \n",
       "660          Direct                TA/TO                  D                0   \n",
       "1503         Direct                TA/TO                  A                0   \n",
       "1544         Direct                TA/TO                  A                0   \n",
       "1545         Direct                TA/TO                  A                0   \n",
       "1591         Direct                TA/TO                  E                1   \n",
       "1659         Direct                TA/TO                  A                0   \n",
       "1660         Direct                TA/TO                  A                0   \n",
       "1661         Direct                TA/TO                  A                1   \n",
       "\n",
       "     deposit_type  days_in_waiting_list    customer_type  \\\n",
       "282    No Deposit                     0        Transient   \n",
       "365    No Deposit                     0        Transient   \n",
       "396    No Deposit                     0        Transient   \n",
       "660    No Deposit                     0        Transient   \n",
       "1503   No Deposit                     0        Transient   \n",
       "1544   No Deposit                     0  Transient-Party   \n",
       "1545   No Deposit                     0        Transient   \n",
       "1591   No Deposit                     0        Transient   \n",
       "1659   No Deposit                     0        Transient   \n",
       "1660   No Deposit                     0        Transient   \n",
       "1661   No Deposit                     0        Transient   \n",
       "\n",
       "      required_car_parking_spaces  total_of_special_requests  \n",
       "282                             0                          1  \n",
       "365                             0                          1  \n",
       "396                             1                          2  \n",
       "660                             0                          2  \n",
       "1503                            0                          0  \n",
       "1544                            0                          2  \n",
       "1545                            0                          0  \n",
       "1591                            0                          0  \n",
       "1659                            0                          0  \n",
       "1660                            0                          0  \n",
       "1661                            0                          0  "
      ]
     },
     "execution_count": 132,
     "metadata": {},
     "output_type": "execute_result"
    }
   ],
   "source": [
    "index=hotel.loc[(hotel['distribution_channel']=='TA/TO')&(hotel['market_segment']=='Direct')].index\n",
    "hotel.iloc[index]"
   ]
  },
  {
   "cell_type": "code",
   "execution_count": 133,
   "id": "bbe24e6f",
   "metadata": {
    "ExecuteTime": {
     "end_time": "2022-03-30T07:46:27.170723Z",
     "start_time": "2022-03-30T07:46:27.147363Z"
    }
   },
   "outputs": [],
   "source": [
    "hotel.iloc[index]=hotel.iloc[index].replace(to_replace='Direct', value=hotel[hotel['distribution_channel']=='TA/TO']['market_segment'].value_counts().reset_index()['index'][0])"
   ]
  },
  {
   "cell_type": "code",
   "execution_count": 134,
   "id": "b0e4d2ca",
   "metadata": {
    "ExecuteTime": {
     "end_time": "2022-03-30T07:46:27.513332Z",
     "start_time": "2022-03-30T07:46:27.484136Z"
    }
   },
   "outputs": [
    {
     "data": {
      "text/html": [
       "<div>\n",
       "<style scoped>\n",
       "    .dataframe tbody tr th:only-of-type {\n",
       "        vertical-align: middle;\n",
       "    }\n",
       "\n",
       "    .dataframe tbody tr th {\n",
       "        vertical-align: top;\n",
       "    }\n",
       "\n",
       "    .dataframe thead th {\n",
       "        text-align: right;\n",
       "    }\n",
       "</style>\n",
       "<table border=\"1\" class=\"dataframe\">\n",
       "  <thead>\n",
       "    <tr style=\"text-align: right;\">\n",
       "      <th></th>\n",
       "      <th>hotel</th>\n",
       "      <th>is_canceled</th>\n",
       "      <th>adults</th>\n",
       "      <th>children</th>\n",
       "      <th>babies</th>\n",
       "      <th>meal</th>\n",
       "      <th>country</th>\n",
       "      <th>market_segment</th>\n",
       "      <th>distribution_channel</th>\n",
       "      <th>reserved_room_type</th>\n",
       "      <th>booking_changes</th>\n",
       "      <th>deposit_type</th>\n",
       "      <th>days_in_waiting_list</th>\n",
       "      <th>customer_type</th>\n",
       "      <th>required_car_parking_spaces</th>\n",
       "      <th>total_of_special_requests</th>\n",
       "    </tr>\n",
       "  </thead>\n",
       "  <tbody>\n",
       "    <tr>\n",
       "      <th>282</th>\n",
       "      <td>Resort Hotel</td>\n",
       "      <td>0</td>\n",
       "      <td>2</td>\n",
       "      <td>0.0</td>\n",
       "      <td>1</td>\n",
       "      <td>BB</td>\n",
       "      <td>PRT</td>\n",
       "      <td>Online TA</td>\n",
       "      <td>TA/TO</td>\n",
       "      <td>A</td>\n",
       "      <td>1</td>\n",
       "      <td>No Deposit</td>\n",
       "      <td>0</td>\n",
       "      <td>Transient</td>\n",
       "      <td>0</td>\n",
       "      <td>1</td>\n",
       "    </tr>\n",
       "    <tr>\n",
       "      <th>365</th>\n",
       "      <td>Resort Hotel</td>\n",
       "      <td>1</td>\n",
       "      <td>2</td>\n",
       "      <td>0.0</td>\n",
       "      <td>0</td>\n",
       "      <td>HB</td>\n",
       "      <td>PRT</td>\n",
       "      <td>Online TA</td>\n",
       "      <td>TA/TO</td>\n",
       "      <td>A</td>\n",
       "      <td>0</td>\n",
       "      <td>No Deposit</td>\n",
       "      <td>0</td>\n",
       "      <td>Transient</td>\n",
       "      <td>0</td>\n",
       "      <td>1</td>\n",
       "    </tr>\n",
       "    <tr>\n",
       "      <th>396</th>\n",
       "      <td>Resort Hotel</td>\n",
       "      <td>0</td>\n",
       "      <td>2</td>\n",
       "      <td>2.0</td>\n",
       "      <td>0</td>\n",
       "      <td>HB</td>\n",
       "      <td>PRT</td>\n",
       "      <td>Online TA</td>\n",
       "      <td>TA/TO</td>\n",
       "      <td>H</td>\n",
       "      <td>1</td>\n",
       "      <td>No Deposit</td>\n",
       "      <td>0</td>\n",
       "      <td>Transient</td>\n",
       "      <td>1</td>\n",
       "      <td>2</td>\n",
       "    </tr>\n",
       "    <tr>\n",
       "      <th>660</th>\n",
       "      <td>Resort Hotel</td>\n",
       "      <td>0</td>\n",
       "      <td>2</td>\n",
       "      <td>0.0</td>\n",
       "      <td>0</td>\n",
       "      <td>BB</td>\n",
       "      <td>PRT</td>\n",
       "      <td>Online TA</td>\n",
       "      <td>TA/TO</td>\n",
       "      <td>D</td>\n",
       "      <td>0</td>\n",
       "      <td>No Deposit</td>\n",
       "      <td>0</td>\n",
       "      <td>Transient</td>\n",
       "      <td>0</td>\n",
       "      <td>2</td>\n",
       "    </tr>\n",
       "    <tr>\n",
       "      <th>1503</th>\n",
       "      <td>Resort Hotel</td>\n",
       "      <td>0</td>\n",
       "      <td>1</td>\n",
       "      <td>0.0</td>\n",
       "      <td>0</td>\n",
       "      <td>BB</td>\n",
       "      <td>PRT</td>\n",
       "      <td>Online TA</td>\n",
       "      <td>TA/TO</td>\n",
       "      <td>A</td>\n",
       "      <td>0</td>\n",
       "      <td>No Deposit</td>\n",
       "      <td>0</td>\n",
       "      <td>Transient</td>\n",
       "      <td>0</td>\n",
       "      <td>0</td>\n",
       "    </tr>\n",
       "    <tr>\n",
       "      <th>1544</th>\n",
       "      <td>Resort Hotel</td>\n",
       "      <td>0</td>\n",
       "      <td>2</td>\n",
       "      <td>0.0</td>\n",
       "      <td>0</td>\n",
       "      <td>BB</td>\n",
       "      <td>IRL</td>\n",
       "      <td>Online TA</td>\n",
       "      <td>TA/TO</td>\n",
       "      <td>A</td>\n",
       "      <td>0</td>\n",
       "      <td>No Deposit</td>\n",
       "      <td>0</td>\n",
       "      <td>Transient-Party</td>\n",
       "      <td>0</td>\n",
       "      <td>2</td>\n",
       "    </tr>\n",
       "    <tr>\n",
       "      <th>1545</th>\n",
       "      <td>Resort Hotel</td>\n",
       "      <td>1</td>\n",
       "      <td>2</td>\n",
       "      <td>0.0</td>\n",
       "      <td>0</td>\n",
       "      <td>BB</td>\n",
       "      <td>PRT</td>\n",
       "      <td>Online TA</td>\n",
       "      <td>TA/TO</td>\n",
       "      <td>A</td>\n",
       "      <td>0</td>\n",
       "      <td>No Deposit</td>\n",
       "      <td>0</td>\n",
       "      <td>Transient</td>\n",
       "      <td>0</td>\n",
       "      <td>0</td>\n",
       "    </tr>\n",
       "    <tr>\n",
       "      <th>1591</th>\n",
       "      <td>Resort Hotel</td>\n",
       "      <td>1</td>\n",
       "      <td>2</td>\n",
       "      <td>1.0</td>\n",
       "      <td>0</td>\n",
       "      <td>HB</td>\n",
       "      <td>PRT</td>\n",
       "      <td>Online TA</td>\n",
       "      <td>TA/TO</td>\n",
       "      <td>E</td>\n",
       "      <td>1</td>\n",
       "      <td>No Deposit</td>\n",
       "      <td>0</td>\n",
       "      <td>Transient</td>\n",
       "      <td>0</td>\n",
       "      <td>0</td>\n",
       "    </tr>\n",
       "    <tr>\n",
       "      <th>1659</th>\n",
       "      <td>Resort Hotel</td>\n",
       "      <td>1</td>\n",
       "      <td>2</td>\n",
       "      <td>0.0</td>\n",
       "      <td>0</td>\n",
       "      <td>BB</td>\n",
       "      <td>PRT</td>\n",
       "      <td>Online TA</td>\n",
       "      <td>TA/TO</td>\n",
       "      <td>A</td>\n",
       "      <td>0</td>\n",
       "      <td>No Deposit</td>\n",
       "      <td>0</td>\n",
       "      <td>Transient</td>\n",
       "      <td>0</td>\n",
       "      <td>0</td>\n",
       "    </tr>\n",
       "    <tr>\n",
       "      <th>1660</th>\n",
       "      <td>Resort Hotel</td>\n",
       "      <td>1</td>\n",
       "      <td>2</td>\n",
       "      <td>0.0</td>\n",
       "      <td>0</td>\n",
       "      <td>BB</td>\n",
       "      <td>PRT</td>\n",
       "      <td>Online TA</td>\n",
       "      <td>TA/TO</td>\n",
       "      <td>A</td>\n",
       "      <td>0</td>\n",
       "      <td>No Deposit</td>\n",
       "      <td>0</td>\n",
       "      <td>Transient</td>\n",
       "      <td>0</td>\n",
       "      <td>0</td>\n",
       "    </tr>\n",
       "    <tr>\n",
       "      <th>1661</th>\n",
       "      <td>Resort Hotel</td>\n",
       "      <td>1</td>\n",
       "      <td>2</td>\n",
       "      <td>0.0</td>\n",
       "      <td>0</td>\n",
       "      <td>BB</td>\n",
       "      <td>PRT</td>\n",
       "      <td>Online TA</td>\n",
       "      <td>TA/TO</td>\n",
       "      <td>A</td>\n",
       "      <td>1</td>\n",
       "      <td>No Deposit</td>\n",
       "      <td>0</td>\n",
       "      <td>Transient</td>\n",
       "      <td>0</td>\n",
       "      <td>0</td>\n",
       "    </tr>\n",
       "  </tbody>\n",
       "</table>\n",
       "</div>"
      ],
      "text/plain": [
       "             hotel  is_canceled  adults  children  babies meal country  \\\n",
       "282   Resort Hotel            0       2       0.0       1   BB     PRT   \n",
       "365   Resort Hotel            1       2       0.0       0   HB     PRT   \n",
       "396   Resort Hotel            0       2       2.0       0   HB     PRT   \n",
       "660   Resort Hotel            0       2       0.0       0   BB     PRT   \n",
       "1503  Resort Hotel            0       1       0.0       0   BB     PRT   \n",
       "1544  Resort Hotel            0       2       0.0       0   BB     IRL   \n",
       "1545  Resort Hotel            1       2       0.0       0   BB     PRT   \n",
       "1591  Resort Hotel            1       2       1.0       0   HB     PRT   \n",
       "1659  Resort Hotel            1       2       0.0       0   BB     PRT   \n",
       "1660  Resort Hotel            1       2       0.0       0   BB     PRT   \n",
       "1661  Resort Hotel            1       2       0.0       0   BB     PRT   \n",
       "\n",
       "     market_segment distribution_channel reserved_room_type  booking_changes  \\\n",
       "282       Online TA                TA/TO                  A                1   \n",
       "365       Online TA                TA/TO                  A                0   \n",
       "396       Online TA                TA/TO                  H                1   \n",
       "660       Online TA                TA/TO                  D                0   \n",
       "1503      Online TA                TA/TO                  A                0   \n",
       "1544      Online TA                TA/TO                  A                0   \n",
       "1545      Online TA                TA/TO                  A                0   \n",
       "1591      Online TA                TA/TO                  E                1   \n",
       "1659      Online TA                TA/TO                  A                0   \n",
       "1660      Online TA                TA/TO                  A                0   \n",
       "1661      Online TA                TA/TO                  A                1   \n",
       "\n",
       "     deposit_type  days_in_waiting_list    customer_type  \\\n",
       "282    No Deposit                     0        Transient   \n",
       "365    No Deposit                     0        Transient   \n",
       "396    No Deposit                     0        Transient   \n",
       "660    No Deposit                     0        Transient   \n",
       "1503   No Deposit                     0        Transient   \n",
       "1544   No Deposit                     0  Transient-Party   \n",
       "1545   No Deposit                     0        Transient   \n",
       "1591   No Deposit                     0        Transient   \n",
       "1659   No Deposit                     0        Transient   \n",
       "1660   No Deposit                     0        Transient   \n",
       "1661   No Deposit                     0        Transient   \n",
       "\n",
       "      required_car_parking_spaces  total_of_special_requests  \n",
       "282                             0                          1  \n",
       "365                             0                          1  \n",
       "396                             1                          2  \n",
       "660                             0                          2  \n",
       "1503                            0                          0  \n",
       "1544                            0                          2  \n",
       "1545                            0                          0  \n",
       "1591                            0                          0  \n",
       "1659                            0                          0  \n",
       "1660                            0                          0  \n",
       "1661                            0                          0  "
      ]
     },
     "execution_count": 134,
     "metadata": {},
     "output_type": "execute_result"
    }
   ],
   "source": [
    "hotel.iloc[index]"
   ]
  },
  {
   "cell_type": "code",
   "execution_count": 135,
   "id": "59387c0d",
   "metadata": {
    "ExecuteTime": {
     "end_time": "2022-03-30T07:46:27.588280Z",
     "start_time": "2022-03-30T07:46:27.574653Z"
    }
   },
   "outputs": [
    {
     "data": {
      "text/plain": [
       "Online TA        2167\n",
       "Offline TA/TO     926\n",
       "Groups            562\n",
       "Complementary       2\n",
       "Name: market_segment, dtype: int64"
      ]
     },
     "execution_count": 135,
     "metadata": {},
     "output_type": "execute_result"
    }
   ],
   "source": [
    "hotel[hotel['distribution_channel']=='TA/TO']['market_segment'].value_counts()"
   ]
  },
  {
   "cell_type": "markdown",
   "id": "ac27aa18",
   "metadata": {},
   "source": [
    "#### Direct"
   ]
  },
  {
   "cell_type": "code",
   "execution_count": 136,
   "id": "ebd705cc",
   "metadata": {
    "ExecuteTime": {
     "end_time": "2022-03-30T07:46:27.955228Z",
     "start_time": "2022-03-30T07:46:27.942575Z"
    }
   },
   "outputs": [
    {
     "data": {
      "text/plain": [
       "Direct           606\n",
       "Groups           441\n",
       "Corporate         10\n",
       "Complementary      8\n",
       "Offline TA/TO      3\n",
       "Name: market_segment, dtype: int64"
      ]
     },
     "execution_count": 136,
     "metadata": {},
     "output_type": "execute_result"
    }
   ],
   "source": [
    "hotel[hotel['distribution_channel']=='Direct']['market_segment'].value_counts()"
   ]
  },
  {
   "cell_type": "code",
   "execution_count": 137,
   "id": "fbc334e6",
   "metadata": {
    "ExecuteTime": {
     "end_time": "2022-03-30T07:46:28.255987Z",
     "start_time": "2022-03-30T07:46:28.229704Z"
    }
   },
   "outputs": [
    {
     "data": {
      "text/html": [
       "<div>\n",
       "<style scoped>\n",
       "    .dataframe tbody tr th:only-of-type {\n",
       "        vertical-align: middle;\n",
       "    }\n",
       "\n",
       "    .dataframe tbody tr th {\n",
       "        vertical-align: top;\n",
       "    }\n",
       "\n",
       "    .dataframe thead th {\n",
       "        text-align: right;\n",
       "    }\n",
       "</style>\n",
       "<table border=\"1\" class=\"dataframe\">\n",
       "  <thead>\n",
       "    <tr style=\"text-align: right;\">\n",
       "      <th></th>\n",
       "      <th>hotel</th>\n",
       "      <th>is_canceled</th>\n",
       "      <th>adults</th>\n",
       "      <th>children</th>\n",
       "      <th>babies</th>\n",
       "      <th>meal</th>\n",
       "      <th>country</th>\n",
       "      <th>market_segment</th>\n",
       "      <th>distribution_channel</th>\n",
       "      <th>reserved_room_type</th>\n",
       "      <th>booking_changes</th>\n",
       "      <th>deposit_type</th>\n",
       "      <th>days_in_waiting_list</th>\n",
       "      <th>customer_type</th>\n",
       "      <th>required_car_parking_spaces</th>\n",
       "      <th>total_of_special_requests</th>\n",
       "    </tr>\n",
       "  </thead>\n",
       "  <tbody>\n",
       "    <tr>\n",
       "      <th>1437</th>\n",
       "      <td>Resort Hotel</td>\n",
       "      <td>1</td>\n",
       "      <td>2</td>\n",
       "      <td>0.0</td>\n",
       "      <td>0</td>\n",
       "      <td>HB</td>\n",
       "      <td>PRT</td>\n",
       "      <td>Offline TA/TO</td>\n",
       "      <td>Direct</td>\n",
       "      <td>A</td>\n",
       "      <td>0</td>\n",
       "      <td>No Deposit</td>\n",
       "      <td>0</td>\n",
       "      <td>Transient</td>\n",
       "      <td>0</td>\n",
       "      <td>0</td>\n",
       "    </tr>\n",
       "    <tr>\n",
       "      <th>1614</th>\n",
       "      <td>Resort Hotel</td>\n",
       "      <td>1</td>\n",
       "      <td>2</td>\n",
       "      <td>0.0</td>\n",
       "      <td>0</td>\n",
       "      <td>HB</td>\n",
       "      <td>PRT</td>\n",
       "      <td>Offline TA/TO</td>\n",
       "      <td>Direct</td>\n",
       "      <td>A</td>\n",
       "      <td>1</td>\n",
       "      <td>No Deposit</td>\n",
       "      <td>0</td>\n",
       "      <td>Transient</td>\n",
       "      <td>0</td>\n",
       "      <td>0</td>\n",
       "    </tr>\n",
       "    <tr>\n",
       "      <th>2255</th>\n",
       "      <td>Resort Hotel</td>\n",
       "      <td>0</td>\n",
       "      <td>1</td>\n",
       "      <td>0.0</td>\n",
       "      <td>0</td>\n",
       "      <td>BB</td>\n",
       "      <td>ESP</td>\n",
       "      <td>Offline TA/TO</td>\n",
       "      <td>Direct</td>\n",
       "      <td>A</td>\n",
       "      <td>0</td>\n",
       "      <td>No Deposit</td>\n",
       "      <td>0</td>\n",
       "      <td>Transient</td>\n",
       "      <td>0</td>\n",
       "      <td>0</td>\n",
       "    </tr>\n",
       "  </tbody>\n",
       "</table>\n",
       "</div>"
      ],
      "text/plain": [
       "             hotel  is_canceled  adults  children  babies meal country  \\\n",
       "1437  Resort Hotel            1       2       0.0       0   HB     PRT   \n",
       "1614  Resort Hotel            1       2       0.0       0   HB     PRT   \n",
       "2255  Resort Hotel            0       1       0.0       0   BB     ESP   \n",
       "\n",
       "     market_segment distribution_channel reserved_room_type  booking_changes  \\\n",
       "1437  Offline TA/TO               Direct                  A                0   \n",
       "1614  Offline TA/TO               Direct                  A                1   \n",
       "2255  Offline TA/TO               Direct                  A                0   \n",
       "\n",
       "     deposit_type  days_in_waiting_list customer_type  \\\n",
       "1437   No Deposit                     0     Transient   \n",
       "1614   No Deposit                     0     Transient   \n",
       "2255   No Deposit                     0     Transient   \n",
       "\n",
       "      required_car_parking_spaces  total_of_special_requests  \n",
       "1437                            0                          0  \n",
       "1614                            0                          0  \n",
       "2255                            0                          0  "
      ]
     },
     "execution_count": 137,
     "metadata": {},
     "output_type": "execute_result"
    }
   ],
   "source": [
    "index=hotel.loc[(hotel['distribution_channel']=='Direct')&(hotel['market_segment']=='Offline TA/TO')].index\n",
    "hotel.iloc[index]"
   ]
  },
  {
   "cell_type": "code",
   "execution_count": 138,
   "id": "1eb4bed8",
   "metadata": {
    "ExecuteTime": {
     "end_time": "2022-03-30T07:46:28.461361Z",
     "start_time": "2022-03-30T07:46:28.443842Z"
    }
   },
   "outputs": [],
   "source": [
    "hotel.iloc[index]=hotel.iloc[index].replace(to_replace='Offline TA/TO', value='Direct')"
   ]
  },
  {
   "cell_type": "code",
   "execution_count": 139,
   "id": "08983984",
   "metadata": {
    "ExecuteTime": {
     "end_time": "2022-03-30T07:46:28.587894Z",
     "start_time": "2022-03-30T07:46:28.556746Z"
    }
   },
   "outputs": [
    {
     "data": {
      "text/html": [
       "<div>\n",
       "<style scoped>\n",
       "    .dataframe tbody tr th:only-of-type {\n",
       "        vertical-align: middle;\n",
       "    }\n",
       "\n",
       "    .dataframe tbody tr th {\n",
       "        vertical-align: top;\n",
       "    }\n",
       "\n",
       "    .dataframe thead th {\n",
       "        text-align: right;\n",
       "    }\n",
       "</style>\n",
       "<table border=\"1\" class=\"dataframe\">\n",
       "  <thead>\n",
       "    <tr style=\"text-align: right;\">\n",
       "      <th></th>\n",
       "      <th>hotel</th>\n",
       "      <th>is_canceled</th>\n",
       "      <th>adults</th>\n",
       "      <th>children</th>\n",
       "      <th>babies</th>\n",
       "      <th>meal</th>\n",
       "      <th>country</th>\n",
       "      <th>market_segment</th>\n",
       "      <th>distribution_channel</th>\n",
       "      <th>reserved_room_type</th>\n",
       "      <th>booking_changes</th>\n",
       "      <th>deposit_type</th>\n",
       "      <th>days_in_waiting_list</th>\n",
       "      <th>customer_type</th>\n",
       "      <th>required_car_parking_spaces</th>\n",
       "      <th>total_of_special_requests</th>\n",
       "    </tr>\n",
       "  </thead>\n",
       "  <tbody>\n",
       "    <tr>\n",
       "      <th>1530</th>\n",
       "      <td>Resort Hotel</td>\n",
       "      <td>0</td>\n",
       "      <td>2</td>\n",
       "      <td>0.0</td>\n",
       "      <td>0</td>\n",
       "      <td>BB</td>\n",
       "      <td>ITA</td>\n",
       "      <td>Corporate</td>\n",
       "      <td>Direct</td>\n",
       "      <td>A</td>\n",
       "      <td>0</td>\n",
       "      <td>No Deposit</td>\n",
       "      <td>0</td>\n",
       "      <td>Transient-Party</td>\n",
       "      <td>0</td>\n",
       "      <td>0</td>\n",
       "    </tr>\n",
       "    <tr>\n",
       "      <th>1531</th>\n",
       "      <td>Resort Hotel</td>\n",
       "      <td>0</td>\n",
       "      <td>2</td>\n",
       "      <td>0.0</td>\n",
       "      <td>0</td>\n",
       "      <td>BB</td>\n",
       "      <td>SMR</td>\n",
       "      <td>Corporate</td>\n",
       "      <td>Direct</td>\n",
       "      <td>A</td>\n",
       "      <td>0</td>\n",
       "      <td>No Deposit</td>\n",
       "      <td>0</td>\n",
       "      <td>Transient-Party</td>\n",
       "      <td>0</td>\n",
       "      <td>0</td>\n",
       "    </tr>\n",
       "    <tr>\n",
       "      <th>1533</th>\n",
       "      <td>Resort Hotel</td>\n",
       "      <td>0</td>\n",
       "      <td>2</td>\n",
       "      <td>0.0</td>\n",
       "      <td>0</td>\n",
       "      <td>BB</td>\n",
       "      <td>ITA</td>\n",
       "      <td>Corporate</td>\n",
       "      <td>Direct</td>\n",
       "      <td>A</td>\n",
       "      <td>0</td>\n",
       "      <td>No Deposit</td>\n",
       "      <td>0</td>\n",
       "      <td>Transient-Party</td>\n",
       "      <td>0</td>\n",
       "      <td>0</td>\n",
       "    </tr>\n",
       "    <tr>\n",
       "      <th>1535</th>\n",
       "      <td>Resort Hotel</td>\n",
       "      <td>0</td>\n",
       "      <td>1</td>\n",
       "      <td>0.0</td>\n",
       "      <td>0</td>\n",
       "      <td>BB</td>\n",
       "      <td>ITA</td>\n",
       "      <td>Corporate</td>\n",
       "      <td>Direct</td>\n",
       "      <td>A</td>\n",
       "      <td>1</td>\n",
       "      <td>No Deposit</td>\n",
       "      <td>0</td>\n",
       "      <td>Transient-Party</td>\n",
       "      <td>0</td>\n",
       "      <td>0</td>\n",
       "    </tr>\n",
       "    <tr>\n",
       "      <th>1536</th>\n",
       "      <td>Resort Hotel</td>\n",
       "      <td>0</td>\n",
       "      <td>2</td>\n",
       "      <td>0.0</td>\n",
       "      <td>0</td>\n",
       "      <td>BB</td>\n",
       "      <td>ITA</td>\n",
       "      <td>Corporate</td>\n",
       "      <td>Direct</td>\n",
       "      <td>A</td>\n",
       "      <td>0</td>\n",
       "      <td>No Deposit</td>\n",
       "      <td>0</td>\n",
       "      <td>Transient-Party</td>\n",
       "      <td>0</td>\n",
       "      <td>0</td>\n",
       "    </tr>\n",
       "    <tr>\n",
       "      <th>1537</th>\n",
       "      <td>Resort Hotel</td>\n",
       "      <td>0</td>\n",
       "      <td>2</td>\n",
       "      <td>0.0</td>\n",
       "      <td>0</td>\n",
       "      <td>BB</td>\n",
       "      <td>PRT</td>\n",
       "      <td>Corporate</td>\n",
       "      <td>Direct</td>\n",
       "      <td>A</td>\n",
       "      <td>0</td>\n",
       "      <td>No Deposit</td>\n",
       "      <td>0</td>\n",
       "      <td>Transient</td>\n",
       "      <td>0</td>\n",
       "      <td>0</td>\n",
       "    </tr>\n",
       "    <tr>\n",
       "      <th>1538</th>\n",
       "      <td>Resort Hotel</td>\n",
       "      <td>0</td>\n",
       "      <td>2</td>\n",
       "      <td>0.0</td>\n",
       "      <td>0</td>\n",
       "      <td>BB</td>\n",
       "      <td>FRA</td>\n",
       "      <td>Corporate</td>\n",
       "      <td>Direct</td>\n",
       "      <td>A</td>\n",
       "      <td>0</td>\n",
       "      <td>No Deposit</td>\n",
       "      <td>0</td>\n",
       "      <td>Transient-Party</td>\n",
       "      <td>0</td>\n",
       "      <td>0</td>\n",
       "    </tr>\n",
       "    <tr>\n",
       "      <th>1681</th>\n",
       "      <td>Resort Hotel</td>\n",
       "      <td>0</td>\n",
       "      <td>1</td>\n",
       "      <td>0.0</td>\n",
       "      <td>0</td>\n",
       "      <td>BB</td>\n",
       "      <td>PRT</td>\n",
       "      <td>Corporate</td>\n",
       "      <td>Direct</td>\n",
       "      <td>A</td>\n",
       "      <td>0</td>\n",
       "      <td>No Deposit</td>\n",
       "      <td>0</td>\n",
       "      <td>Transient</td>\n",
       "      <td>0</td>\n",
       "      <td>0</td>\n",
       "    </tr>\n",
       "    <tr>\n",
       "      <th>1727</th>\n",
       "      <td>Resort Hotel</td>\n",
       "      <td>0</td>\n",
       "      <td>1</td>\n",
       "      <td>0.0</td>\n",
       "      <td>0</td>\n",
       "      <td>BB</td>\n",
       "      <td>GBR</td>\n",
       "      <td>Corporate</td>\n",
       "      <td>Direct</td>\n",
       "      <td>A</td>\n",
       "      <td>0</td>\n",
       "      <td>No Deposit</td>\n",
       "      <td>0</td>\n",
       "      <td>Transient</td>\n",
       "      <td>0</td>\n",
       "      <td>0</td>\n",
       "    </tr>\n",
       "    <tr>\n",
       "      <th>4288</th>\n",
       "      <td>Resort Hotel</td>\n",
       "      <td>1</td>\n",
       "      <td>1</td>\n",
       "      <td>0.0</td>\n",
       "      <td>0</td>\n",
       "      <td>BB</td>\n",
       "      <td>PRT</td>\n",
       "      <td>Corporate</td>\n",
       "      <td>Direct</td>\n",
       "      <td>A</td>\n",
       "      <td>0</td>\n",
       "      <td>No Deposit</td>\n",
       "      <td>0</td>\n",
       "      <td>Transient</td>\n",
       "      <td>0</td>\n",
       "      <td>0</td>\n",
       "    </tr>\n",
       "  </tbody>\n",
       "</table>\n",
       "</div>"
      ],
      "text/plain": [
       "             hotel  is_canceled  adults  children  babies meal country  \\\n",
       "1530  Resort Hotel            0       2       0.0       0   BB     ITA   \n",
       "1531  Resort Hotel            0       2       0.0       0   BB     SMR   \n",
       "1533  Resort Hotel            0       2       0.0       0   BB     ITA   \n",
       "1535  Resort Hotel            0       1       0.0       0   BB     ITA   \n",
       "1536  Resort Hotel            0       2       0.0       0   BB     ITA   \n",
       "1537  Resort Hotel            0       2       0.0       0   BB     PRT   \n",
       "1538  Resort Hotel            0       2       0.0       0   BB     FRA   \n",
       "1681  Resort Hotel            0       1       0.0       0   BB     PRT   \n",
       "1727  Resort Hotel            0       1       0.0       0   BB     GBR   \n",
       "4288  Resort Hotel            1       1       0.0       0   BB     PRT   \n",
       "\n",
       "     market_segment distribution_channel reserved_room_type  booking_changes  \\\n",
       "1530      Corporate               Direct                  A                0   \n",
       "1531      Corporate               Direct                  A                0   \n",
       "1533      Corporate               Direct                  A                0   \n",
       "1535      Corporate               Direct                  A                1   \n",
       "1536      Corporate               Direct                  A                0   \n",
       "1537      Corporate               Direct                  A                0   \n",
       "1538      Corporate               Direct                  A                0   \n",
       "1681      Corporate               Direct                  A                0   \n",
       "1727      Corporate               Direct                  A                0   \n",
       "4288      Corporate               Direct                  A                0   \n",
       "\n",
       "     deposit_type  days_in_waiting_list    customer_type  \\\n",
       "1530   No Deposit                     0  Transient-Party   \n",
       "1531   No Deposit                     0  Transient-Party   \n",
       "1533   No Deposit                     0  Transient-Party   \n",
       "1535   No Deposit                     0  Transient-Party   \n",
       "1536   No Deposit                     0  Transient-Party   \n",
       "1537   No Deposit                     0        Transient   \n",
       "1538   No Deposit                     0  Transient-Party   \n",
       "1681   No Deposit                     0        Transient   \n",
       "1727   No Deposit                     0        Transient   \n",
       "4288   No Deposit                     0        Transient   \n",
       "\n",
       "      required_car_parking_spaces  total_of_special_requests  \n",
       "1530                            0                          0  \n",
       "1531                            0                          0  \n",
       "1533                            0                          0  \n",
       "1535                            0                          0  \n",
       "1536                            0                          0  \n",
       "1537                            0                          0  \n",
       "1538                            0                          0  \n",
       "1681                            0                          0  \n",
       "1727                            0                          0  \n",
       "4288                            0                          0  "
      ]
     },
     "execution_count": 139,
     "metadata": {},
     "output_type": "execute_result"
    }
   ],
   "source": [
    "index=hotel.loc[(hotel['distribution_channel']=='Direct')&(hotel['market_segment']=='Corporate')].index\n",
    "hotel.iloc[index]"
   ]
  },
  {
   "cell_type": "code",
   "execution_count": 140,
   "id": "ca63079e",
   "metadata": {
    "ExecuteTime": {
     "end_time": "2022-03-30T07:46:28.850691Z",
     "start_time": "2022-03-30T07:46:28.833173Z"
    }
   },
   "outputs": [],
   "source": [
    "hotel.iloc[index]=hotel.iloc[index].replace(to_replace='Corporate', value='Direct')"
   ]
  },
  {
   "cell_type": "code",
   "execution_count": 141,
   "id": "276baa1e",
   "metadata": {
    "ExecuteTime": {
     "end_time": "2022-03-30T07:46:29.039517Z",
     "start_time": "2022-03-30T07:46:29.026866Z"
    }
   },
   "outputs": [
    {
     "data": {
      "text/plain": [
       "Direct           619\n",
       "Groups           441\n",
       "Complementary      8\n",
       "Name: market_segment, dtype: int64"
      ]
     },
     "execution_count": 141,
     "metadata": {},
     "output_type": "execute_result"
    }
   ],
   "source": [
    "hotel[hotel['distribution_channel']=='Direct']['market_segment'].value_counts()"
   ]
  },
  {
   "cell_type": "markdown",
   "id": "0e5a3144",
   "metadata": {},
   "source": [
    "#### Corporate"
   ]
  },
  {
   "cell_type": "code",
   "execution_count": 142,
   "id": "c55d4b7d",
   "metadata": {
    "ExecuteTime": {
     "end_time": "2022-03-30T07:46:29.377267Z",
     "start_time": "2022-03-30T07:46:29.363653Z"
    }
   },
   "outputs": [
    {
     "data": {
      "text/plain": [
       "Corporate        251\n",
       "Groups            22\n",
       "Complementary      1\n",
       "Direct             1\n",
       "Name: market_segment, dtype: int64"
      ]
     },
     "execution_count": 142,
     "metadata": {},
     "output_type": "execute_result"
    }
   ],
   "source": [
    "hotel[hotel['distribution_channel']=='Corporate']['market_segment'].value_counts()"
   ]
  },
  {
   "cell_type": "code",
   "execution_count": 143,
   "id": "805a93d1",
   "metadata": {
    "ExecuteTime": {
     "end_time": "2022-03-30T07:46:29.651743Z",
     "start_time": "2022-03-30T07:46:29.626438Z"
    }
   },
   "outputs": [
    {
     "data": {
      "text/html": [
       "<div>\n",
       "<style scoped>\n",
       "    .dataframe tbody tr th:only-of-type {\n",
       "        vertical-align: middle;\n",
       "    }\n",
       "\n",
       "    .dataframe tbody tr th {\n",
       "        vertical-align: top;\n",
       "    }\n",
       "\n",
       "    .dataframe thead th {\n",
       "        text-align: right;\n",
       "    }\n",
       "</style>\n",
       "<table border=\"1\" class=\"dataframe\">\n",
       "  <thead>\n",
       "    <tr style=\"text-align: right;\">\n",
       "      <th></th>\n",
       "      <th>hotel</th>\n",
       "      <th>is_canceled</th>\n",
       "      <th>adults</th>\n",
       "      <th>children</th>\n",
       "      <th>babies</th>\n",
       "      <th>meal</th>\n",
       "      <th>country</th>\n",
       "      <th>market_segment</th>\n",
       "      <th>distribution_channel</th>\n",
       "      <th>reserved_room_type</th>\n",
       "      <th>booking_changes</th>\n",
       "      <th>deposit_type</th>\n",
       "      <th>days_in_waiting_list</th>\n",
       "      <th>customer_type</th>\n",
       "      <th>required_car_parking_spaces</th>\n",
       "      <th>total_of_special_requests</th>\n",
       "    </tr>\n",
       "  </thead>\n",
       "  <tbody>\n",
       "    <tr>\n",
       "      <th>4482</th>\n",
       "      <td>Resort Hotel</td>\n",
       "      <td>1</td>\n",
       "      <td>1</td>\n",
       "      <td>0.0</td>\n",
       "      <td>0</td>\n",
       "      <td>BB</td>\n",
       "      <td>PRT</td>\n",
       "      <td>Direct</td>\n",
       "      <td>Corporate</td>\n",
       "      <td>A</td>\n",
       "      <td>0</td>\n",
       "      <td>No Deposit</td>\n",
       "      <td>0</td>\n",
       "      <td>Transient</td>\n",
       "      <td>0</td>\n",
       "      <td>0</td>\n",
       "    </tr>\n",
       "  </tbody>\n",
       "</table>\n",
       "</div>"
      ],
      "text/plain": [
       "             hotel  is_canceled  adults  children  babies meal country  \\\n",
       "4482  Resort Hotel            1       1       0.0       0   BB     PRT   \n",
       "\n",
       "     market_segment distribution_channel reserved_room_type  booking_changes  \\\n",
       "4482         Direct            Corporate                  A                0   \n",
       "\n",
       "     deposit_type  days_in_waiting_list customer_type  \\\n",
       "4482   No Deposit                     0     Transient   \n",
       "\n",
       "      required_car_parking_spaces  total_of_special_requests  \n",
       "4482                            0                          0  "
      ]
     },
     "execution_count": 143,
     "metadata": {},
     "output_type": "execute_result"
    }
   ],
   "source": [
    "index=hotel.loc[(hotel['distribution_channel']=='Corporate')&(hotel['market_segment']=='Direct')].index\n",
    "hotel.iloc[index]"
   ]
  },
  {
   "cell_type": "code",
   "execution_count": 144,
   "id": "a2f11e6a",
   "metadata": {
    "ExecuteTime": {
     "end_time": "2022-03-30T07:46:29.872693Z",
     "start_time": "2022-03-30T07:46:29.855173Z"
    }
   },
   "outputs": [],
   "source": [
    "hotel.iloc[index]=hotel.iloc[index].replace(to_replace='Direct', value='Corporate')"
   ]
  },
  {
   "cell_type": "code",
   "execution_count": 145,
   "id": "4d51283f",
   "metadata": {
    "ExecuteTime": {
     "end_time": "2022-03-30T07:46:30.059573Z",
     "start_time": "2022-03-30T07:46:30.047892Z"
    }
   },
   "outputs": [
    {
     "data": {
      "text/plain": [
       "Corporate        252\n",
       "Groups            22\n",
       "Complementary      1\n",
       "Name: market_segment, dtype: int64"
      ]
     },
     "execution_count": 145,
     "metadata": {},
     "output_type": "execute_result"
    }
   ],
   "source": [
    "hotel[hotel['distribution_channel']=='Corporate']['market_segment'].value_counts()"
   ]
  },
  {
   "cell_type": "markdown",
   "id": "003672e5",
   "metadata": {},
   "source": [
    "## Ghost?"
   ]
  },
  {
   "cell_type": "code",
   "execution_count": 146,
   "id": "a989d2f4",
   "metadata": {
    "ExecuteTime": {
     "end_time": "2022-03-30T07:46:30.412892Z",
     "start_time": "2022-03-30T07:46:30.385639Z"
    }
   },
   "outputs": [
    {
     "data": {
      "text/html": [
       "<div>\n",
       "<style scoped>\n",
       "    .dataframe tbody tr th:only-of-type {\n",
       "        vertical-align: middle;\n",
       "    }\n",
       "\n",
       "    .dataframe tbody tr th {\n",
       "        vertical-align: top;\n",
       "    }\n",
       "\n",
       "    .dataframe thead th {\n",
       "        text-align: right;\n",
       "    }\n",
       "</style>\n",
       "<table border=\"1\" class=\"dataframe\">\n",
       "  <thead>\n",
       "    <tr style=\"text-align: right;\">\n",
       "      <th></th>\n",
       "      <th>hotel</th>\n",
       "      <th>is_canceled</th>\n",
       "      <th>adults</th>\n",
       "      <th>children</th>\n",
       "      <th>babies</th>\n",
       "      <th>meal</th>\n",
       "      <th>country</th>\n",
       "      <th>market_segment</th>\n",
       "      <th>distribution_channel</th>\n",
       "      <th>reserved_room_type</th>\n",
       "      <th>booking_changes</th>\n",
       "      <th>deposit_type</th>\n",
       "      <th>days_in_waiting_list</th>\n",
       "      <th>customer_type</th>\n",
       "      <th>required_car_parking_spaces</th>\n",
       "      <th>total_of_special_requests</th>\n",
       "    </tr>\n",
       "  </thead>\n",
       "  <tbody>\n",
       "    <tr>\n",
       "      <th>2224</th>\n",
       "      <td>Resort Hotel</td>\n",
       "      <td>0</td>\n",
       "      <td>0</td>\n",
       "      <td>0.0</td>\n",
       "      <td>0</td>\n",
       "      <td>SC</td>\n",
       "      <td>PRT</td>\n",
       "      <td>Corporate</td>\n",
       "      <td>Corporate</td>\n",
       "      <td>A</td>\n",
       "      <td>1</td>\n",
       "      <td>No Deposit</td>\n",
       "      <td>0</td>\n",
       "      <td>Transient-Party</td>\n",
       "      <td>0</td>\n",
       "      <td>0</td>\n",
       "    </tr>\n",
       "    <tr>\n",
       "      <th>2409</th>\n",
       "      <td>Resort Hotel</td>\n",
       "      <td>0</td>\n",
       "      <td>0</td>\n",
       "      <td>0.0</td>\n",
       "      <td>0</td>\n",
       "      <td>SC</td>\n",
       "      <td>PRT</td>\n",
       "      <td>Corporate</td>\n",
       "      <td>Corporate</td>\n",
       "      <td>A</td>\n",
       "      <td>0</td>\n",
       "      <td>No Deposit</td>\n",
       "      <td>0</td>\n",
       "      <td>Transient</td>\n",
       "      <td>0</td>\n",
       "      <td>0</td>\n",
       "    </tr>\n",
       "    <tr>\n",
       "      <th>3181</th>\n",
       "      <td>Resort Hotel</td>\n",
       "      <td>0</td>\n",
       "      <td>0</td>\n",
       "      <td>0.0</td>\n",
       "      <td>0</td>\n",
       "      <td>SC</td>\n",
       "      <td>ESP</td>\n",
       "      <td>Groups</td>\n",
       "      <td>TA/TO</td>\n",
       "      <td>A</td>\n",
       "      <td>0</td>\n",
       "      <td>No Deposit</td>\n",
       "      <td>0</td>\n",
       "      <td>Transient-Party</td>\n",
       "      <td>0</td>\n",
       "      <td>0</td>\n",
       "    </tr>\n",
       "    <tr>\n",
       "      <th>3684</th>\n",
       "      <td>Resort Hotel</td>\n",
       "      <td>0</td>\n",
       "      <td>0</td>\n",
       "      <td>0.0</td>\n",
       "      <td>0</td>\n",
       "      <td>SC</td>\n",
       "      <td>PRT</td>\n",
       "      <td>Groups</td>\n",
       "      <td>TA/TO</td>\n",
       "      <td>A</td>\n",
       "      <td>1</td>\n",
       "      <td>No Deposit</td>\n",
       "      <td>122</td>\n",
       "      <td>Transient-Party</td>\n",
       "      <td>0</td>\n",
       "      <td>0</td>\n",
       "    </tr>\n",
       "    <tr>\n",
       "      <th>3708</th>\n",
       "      <td>Resort Hotel</td>\n",
       "      <td>0</td>\n",
       "      <td>0</td>\n",
       "      <td>0.0</td>\n",
       "      <td>0</td>\n",
       "      <td>SC</td>\n",
       "      <td>PRT</td>\n",
       "      <td>Groups</td>\n",
       "      <td>TA/TO</td>\n",
       "      <td>A</td>\n",
       "      <td>1</td>\n",
       "      <td>No Deposit</td>\n",
       "      <td>122</td>\n",
       "      <td>Transient-Party</td>\n",
       "      <td>0</td>\n",
       "      <td>0</td>\n",
       "    </tr>\n",
       "    <tr>\n",
       "      <th>4127</th>\n",
       "      <td>Resort Hotel</td>\n",
       "      <td>1</td>\n",
       "      <td>0</td>\n",
       "      <td>0.0</td>\n",
       "      <td>0</td>\n",
       "      <td>SC</td>\n",
       "      <td>PRT</td>\n",
       "      <td>Offline TA/TO</td>\n",
       "      <td>TA/TO</td>\n",
       "      <td>P</td>\n",
       "      <td>0</td>\n",
       "      <td>No Deposit</td>\n",
       "      <td>0</td>\n",
       "      <td>Transient</td>\n",
       "      <td>0</td>\n",
       "      <td>0</td>\n",
       "    </tr>\n",
       "  </tbody>\n",
       "</table>\n",
       "</div>"
      ],
      "text/plain": [
       "             hotel  is_canceled  adults  children  babies meal country  \\\n",
       "2224  Resort Hotel            0       0       0.0       0   SC     PRT   \n",
       "2409  Resort Hotel            0       0       0.0       0   SC     PRT   \n",
       "3181  Resort Hotel            0       0       0.0       0   SC     ESP   \n",
       "3684  Resort Hotel            0       0       0.0       0   SC     PRT   \n",
       "3708  Resort Hotel            0       0       0.0       0   SC     PRT   \n",
       "4127  Resort Hotel            1       0       0.0       0   SC     PRT   \n",
       "\n",
       "     market_segment distribution_channel reserved_room_type  booking_changes  \\\n",
       "2224      Corporate            Corporate                  A                1   \n",
       "2409      Corporate            Corporate                  A                0   \n",
       "3181         Groups                TA/TO                  A                0   \n",
       "3684         Groups                TA/TO                  A                1   \n",
       "3708         Groups                TA/TO                  A                1   \n",
       "4127  Offline TA/TO                TA/TO                  P                0   \n",
       "\n",
       "     deposit_type  days_in_waiting_list    customer_type  \\\n",
       "2224   No Deposit                     0  Transient-Party   \n",
       "2409   No Deposit                     0        Transient   \n",
       "3181   No Deposit                     0  Transient-Party   \n",
       "3684   No Deposit                   122  Transient-Party   \n",
       "3708   No Deposit                   122  Transient-Party   \n",
       "4127   No Deposit                     0        Transient   \n",
       "\n",
       "      required_car_parking_spaces  total_of_special_requests  \n",
       "2224                            0                          0  \n",
       "2409                            0                          0  \n",
       "3181                            0                          0  \n",
       "3684                            0                          0  \n",
       "3708                            0                          0  \n",
       "4127                            0                          0  "
      ]
     },
     "execution_count": 146,
     "metadata": {},
     "output_type": "execute_result"
    }
   ],
   "source": [
    "index=hotel.loc[(hotel['adults']==0)].index\n",
    "hotel.iloc[index]"
   ]
  },
  {
   "cell_type": "markdown",
   "id": "0ebbb134",
   "metadata": {},
   "source": [
    "This is clearly an input error. The adults value will be filled with mean of adults based on their market segment."
   ]
  },
  {
   "cell_type": "code",
   "execution_count": 147,
   "id": "6002133f",
   "metadata": {
    "ExecuteTime": {
     "end_time": "2022-03-30T07:46:30.813908Z",
     "start_time": "2022-03-30T07:46:30.802223Z"
    }
   },
   "outputs": [
    {
     "data": {
      "text/plain": [
       "market_segment\n",
       "Complementary    2.000000\n",
       "Corporate        1.424603\n",
       "Direct           2.339257\n",
       "Groups           1.884878\n",
       "Offline TA/TO    2.053996\n",
       "Online TA        1.931703\n",
       "Name: adults, dtype: float64"
      ]
     },
     "execution_count": 147,
     "metadata": {},
     "output_type": "execute_result"
    }
   ],
   "source": [
    "hotel.groupby('market_segment')['adults'].mean()"
   ]
  },
  {
   "cell_type": "code",
   "execution_count": 148,
   "id": "31801b48",
   "metadata": {
    "ExecuteTime": {
     "end_time": "2022-03-30T07:46:31.039719Z",
     "start_time": "2022-03-30T07:46:31.031933Z"
    }
   },
   "outputs": [],
   "source": [
    "hotel.loc[(hotel['adults']==0)&(hotel['is_canceled']==0),'adults']=2"
   ]
  },
  {
   "cell_type": "code",
   "execution_count": 149,
   "id": "e336c090",
   "metadata": {
    "ExecuteTime": {
     "end_time": "2022-03-30T07:46:31.243145Z",
     "start_time": "2022-03-30T07:46:31.218875Z"
    }
   },
   "outputs": [
    {
     "data": {
      "text/html": [
       "<div>\n",
       "<style scoped>\n",
       "    .dataframe tbody tr th:only-of-type {\n",
       "        vertical-align: middle;\n",
       "    }\n",
       "\n",
       "    .dataframe tbody tr th {\n",
       "        vertical-align: top;\n",
       "    }\n",
       "\n",
       "    .dataframe thead th {\n",
       "        text-align: right;\n",
       "    }\n",
       "</style>\n",
       "<table border=\"1\" class=\"dataframe\">\n",
       "  <thead>\n",
       "    <tr style=\"text-align: right;\">\n",
       "      <th></th>\n",
       "      <th>hotel</th>\n",
       "      <th>is_canceled</th>\n",
       "      <th>adults</th>\n",
       "      <th>children</th>\n",
       "      <th>babies</th>\n",
       "      <th>meal</th>\n",
       "      <th>country</th>\n",
       "      <th>market_segment</th>\n",
       "      <th>distribution_channel</th>\n",
       "      <th>reserved_room_type</th>\n",
       "      <th>booking_changes</th>\n",
       "      <th>deposit_type</th>\n",
       "      <th>days_in_waiting_list</th>\n",
       "      <th>customer_type</th>\n",
       "      <th>required_car_parking_spaces</th>\n",
       "      <th>total_of_special_requests</th>\n",
       "    </tr>\n",
       "  </thead>\n",
       "  <tbody>\n",
       "    <tr>\n",
       "      <th>2224</th>\n",
       "      <td>Resort Hotel</td>\n",
       "      <td>0</td>\n",
       "      <td>2</td>\n",
       "      <td>0.0</td>\n",
       "      <td>0</td>\n",
       "      <td>SC</td>\n",
       "      <td>PRT</td>\n",
       "      <td>Corporate</td>\n",
       "      <td>Corporate</td>\n",
       "      <td>A</td>\n",
       "      <td>1</td>\n",
       "      <td>No Deposit</td>\n",
       "      <td>0</td>\n",
       "      <td>Transient-Party</td>\n",
       "      <td>0</td>\n",
       "      <td>0</td>\n",
       "    </tr>\n",
       "    <tr>\n",
       "      <th>2409</th>\n",
       "      <td>Resort Hotel</td>\n",
       "      <td>0</td>\n",
       "      <td>2</td>\n",
       "      <td>0.0</td>\n",
       "      <td>0</td>\n",
       "      <td>SC</td>\n",
       "      <td>PRT</td>\n",
       "      <td>Corporate</td>\n",
       "      <td>Corporate</td>\n",
       "      <td>A</td>\n",
       "      <td>0</td>\n",
       "      <td>No Deposit</td>\n",
       "      <td>0</td>\n",
       "      <td>Transient</td>\n",
       "      <td>0</td>\n",
       "      <td>0</td>\n",
       "    </tr>\n",
       "    <tr>\n",
       "      <th>3181</th>\n",
       "      <td>Resort Hotel</td>\n",
       "      <td>0</td>\n",
       "      <td>2</td>\n",
       "      <td>0.0</td>\n",
       "      <td>0</td>\n",
       "      <td>SC</td>\n",
       "      <td>ESP</td>\n",
       "      <td>Groups</td>\n",
       "      <td>TA/TO</td>\n",
       "      <td>A</td>\n",
       "      <td>0</td>\n",
       "      <td>No Deposit</td>\n",
       "      <td>0</td>\n",
       "      <td>Transient-Party</td>\n",
       "      <td>0</td>\n",
       "      <td>0</td>\n",
       "    </tr>\n",
       "    <tr>\n",
       "      <th>3684</th>\n",
       "      <td>Resort Hotel</td>\n",
       "      <td>0</td>\n",
       "      <td>2</td>\n",
       "      <td>0.0</td>\n",
       "      <td>0</td>\n",
       "      <td>SC</td>\n",
       "      <td>PRT</td>\n",
       "      <td>Groups</td>\n",
       "      <td>TA/TO</td>\n",
       "      <td>A</td>\n",
       "      <td>1</td>\n",
       "      <td>No Deposit</td>\n",
       "      <td>122</td>\n",
       "      <td>Transient-Party</td>\n",
       "      <td>0</td>\n",
       "      <td>0</td>\n",
       "    </tr>\n",
       "    <tr>\n",
       "      <th>3708</th>\n",
       "      <td>Resort Hotel</td>\n",
       "      <td>0</td>\n",
       "      <td>2</td>\n",
       "      <td>0.0</td>\n",
       "      <td>0</td>\n",
       "      <td>SC</td>\n",
       "      <td>PRT</td>\n",
       "      <td>Groups</td>\n",
       "      <td>TA/TO</td>\n",
       "      <td>A</td>\n",
       "      <td>1</td>\n",
       "      <td>No Deposit</td>\n",
       "      <td>122</td>\n",
       "      <td>Transient-Party</td>\n",
       "      <td>0</td>\n",
       "      <td>0</td>\n",
       "    </tr>\n",
       "    <tr>\n",
       "      <th>4127</th>\n",
       "      <td>Resort Hotel</td>\n",
       "      <td>1</td>\n",
       "      <td>0</td>\n",
       "      <td>0.0</td>\n",
       "      <td>0</td>\n",
       "      <td>SC</td>\n",
       "      <td>PRT</td>\n",
       "      <td>Offline TA/TO</td>\n",
       "      <td>TA/TO</td>\n",
       "      <td>P</td>\n",
       "      <td>0</td>\n",
       "      <td>No Deposit</td>\n",
       "      <td>0</td>\n",
       "      <td>Transient</td>\n",
       "      <td>0</td>\n",
       "      <td>0</td>\n",
       "    </tr>\n",
       "  </tbody>\n",
       "</table>\n",
       "</div>"
      ],
      "text/plain": [
       "             hotel  is_canceled  adults  children  babies meal country  \\\n",
       "2224  Resort Hotel            0       2       0.0       0   SC     PRT   \n",
       "2409  Resort Hotel            0       2       0.0       0   SC     PRT   \n",
       "3181  Resort Hotel            0       2       0.0       0   SC     ESP   \n",
       "3684  Resort Hotel            0       2       0.0       0   SC     PRT   \n",
       "3708  Resort Hotel            0       2       0.0       0   SC     PRT   \n",
       "4127  Resort Hotel            1       0       0.0       0   SC     PRT   \n",
       "\n",
       "     market_segment distribution_channel reserved_room_type  booking_changes  \\\n",
       "2224      Corporate            Corporate                  A                1   \n",
       "2409      Corporate            Corporate                  A                0   \n",
       "3181         Groups                TA/TO                  A                0   \n",
       "3684         Groups                TA/TO                  A                1   \n",
       "3708         Groups                TA/TO                  A                1   \n",
       "4127  Offline TA/TO                TA/TO                  P                0   \n",
       "\n",
       "     deposit_type  days_in_waiting_list    customer_type  \\\n",
       "2224   No Deposit                     0  Transient-Party   \n",
       "2409   No Deposit                     0        Transient   \n",
       "3181   No Deposit                     0  Transient-Party   \n",
       "3684   No Deposit                   122  Transient-Party   \n",
       "3708   No Deposit                   122  Transient-Party   \n",
       "4127   No Deposit                     0        Transient   \n",
       "\n",
       "      required_car_parking_spaces  total_of_special_requests  \n",
       "2224                            0                          0  \n",
       "2409                            0                          0  \n",
       "3181                            0                          0  \n",
       "3684                            0                          0  \n",
       "3708                            0                          0  \n",
       "4127                            0                          0  "
      ]
     },
     "execution_count": 149,
     "metadata": {},
     "output_type": "execute_result"
    }
   ],
   "source": [
    "hotel.iloc[index]"
   ]
  },
  {
   "cell_type": "markdown",
   "id": "4f09828c",
   "metadata": {},
   "source": [
    "## Latest Stats"
   ]
  },
  {
   "cell_type": "code",
   "execution_count": 150,
   "id": "9f6c76e6",
   "metadata": {
    "ExecuteTime": {
     "end_time": "2022-03-30T07:46:31.666544Z",
     "start_time": "2022-03-30T07:46:31.619824Z"
    }
   },
   "outputs": [
    {
     "data": {
      "text/html": [
       "<div>\n",
       "<style scoped>\n",
       "    .dataframe tbody tr th:only-of-type {\n",
       "        vertical-align: middle;\n",
       "    }\n",
       "\n",
       "    .dataframe tbody tr th {\n",
       "        vertical-align: top;\n",
       "    }\n",
       "\n",
       "    .dataframe thead th {\n",
       "        text-align: right;\n",
       "    }\n",
       "</style>\n",
       "<table border=\"1\" class=\"dataframe\">\n",
       "  <thead>\n",
       "    <tr style=\"text-align: right;\">\n",
       "      <th></th>\n",
       "      <th>is_canceled</th>\n",
       "      <th>adults</th>\n",
       "      <th>children</th>\n",
       "      <th>babies</th>\n",
       "      <th>booking_changes</th>\n",
       "      <th>days_in_waiting_list</th>\n",
       "      <th>required_car_parking_spaces</th>\n",
       "      <th>total_of_special_requests</th>\n",
       "    </tr>\n",
       "  </thead>\n",
       "  <tbody>\n",
       "    <tr>\n",
       "      <th>count</th>\n",
       "      <td>5000.000000</td>\n",
       "      <td>5000.000000</td>\n",
       "      <td>5000.000000</td>\n",
       "      <td>5000.000000</td>\n",
       "      <td>5000.000000</td>\n",
       "      <td>5000.000000</td>\n",
       "      <td>5000.000000</td>\n",
       "      <td>5000.000000</td>\n",
       "    </tr>\n",
       "    <tr>\n",
       "      <th>mean</th>\n",
       "      <td>0.459600</td>\n",
       "      <td>1.971800</td>\n",
       "      <td>0.115600</td>\n",
       "      <td>0.014800</td>\n",
       "      <td>0.207200</td>\n",
       "      <td>1.772000</td>\n",
       "      <td>0.093800</td>\n",
       "      <td>0.602000</td>\n",
       "    </tr>\n",
       "    <tr>\n",
       "      <th>std</th>\n",
       "      <td>0.498415</td>\n",
       "      <td>1.565086</td>\n",
       "      <td>0.444833</td>\n",
       "      <td>0.122409</td>\n",
       "      <td>0.612489</td>\n",
       "      <td>13.545358</td>\n",
       "      <td>0.292948</td>\n",
       "      <td>0.823245</td>\n",
       "    </tr>\n",
       "    <tr>\n",
       "      <th>min</th>\n",
       "      <td>0.000000</td>\n",
       "      <td>0.000000</td>\n",
       "      <td>0.000000</td>\n",
       "      <td>0.000000</td>\n",
       "      <td>0.000000</td>\n",
       "      <td>0.000000</td>\n",
       "      <td>0.000000</td>\n",
       "      <td>0.000000</td>\n",
       "    </tr>\n",
       "    <tr>\n",
       "      <th>25%</th>\n",
       "      <td>0.000000</td>\n",
       "      <td>2.000000</td>\n",
       "      <td>0.000000</td>\n",
       "      <td>0.000000</td>\n",
       "      <td>0.000000</td>\n",
       "      <td>0.000000</td>\n",
       "      <td>0.000000</td>\n",
       "      <td>0.000000</td>\n",
       "    </tr>\n",
       "    <tr>\n",
       "      <th>50%</th>\n",
       "      <td>0.000000</td>\n",
       "      <td>2.000000</td>\n",
       "      <td>0.000000</td>\n",
       "      <td>0.000000</td>\n",
       "      <td>0.000000</td>\n",
       "      <td>0.000000</td>\n",
       "      <td>0.000000</td>\n",
       "      <td>0.000000</td>\n",
       "    </tr>\n",
       "    <tr>\n",
       "      <th>75%</th>\n",
       "      <td>1.000000</td>\n",
       "      <td>2.000000</td>\n",
       "      <td>0.000000</td>\n",
       "      <td>0.000000</td>\n",
       "      <td>0.000000</td>\n",
       "      <td>0.000000</td>\n",
       "      <td>0.000000</td>\n",
       "      <td>1.000000</td>\n",
       "    </tr>\n",
       "    <tr>\n",
       "      <th>max</th>\n",
       "      <td>1.000000</td>\n",
       "      <td>55.000000</td>\n",
       "      <td>10.000000</td>\n",
       "      <td>2.000000</td>\n",
       "      <td>17.000000</td>\n",
       "      <td>122.000000</td>\n",
       "      <td>2.000000</td>\n",
       "      <td>4.000000</td>\n",
       "    </tr>\n",
       "  </tbody>\n",
       "</table>\n",
       "</div>"
      ],
      "text/plain": [
       "       is_canceled       adults     children       babies  booking_changes  \\\n",
       "count  5000.000000  5000.000000  5000.000000  5000.000000      5000.000000   \n",
       "mean      0.459600     1.971800     0.115600     0.014800         0.207200   \n",
       "std       0.498415     1.565086     0.444833     0.122409         0.612489   \n",
       "min       0.000000     0.000000     0.000000     0.000000         0.000000   \n",
       "25%       0.000000     2.000000     0.000000     0.000000         0.000000   \n",
       "50%       0.000000     2.000000     0.000000     0.000000         0.000000   \n",
       "75%       1.000000     2.000000     0.000000     0.000000         0.000000   \n",
       "max       1.000000    55.000000    10.000000     2.000000        17.000000   \n",
       "\n",
       "       days_in_waiting_list  required_car_parking_spaces  \\\n",
       "count           5000.000000                  5000.000000   \n",
       "mean               1.772000                     0.093800   \n",
       "std               13.545358                     0.292948   \n",
       "min                0.000000                     0.000000   \n",
       "25%                0.000000                     0.000000   \n",
       "50%                0.000000                     0.000000   \n",
       "75%                0.000000                     0.000000   \n",
       "max              122.000000                     2.000000   \n",
       "\n",
       "       total_of_special_requests  \n",
       "count                5000.000000  \n",
       "mean                    0.602000  \n",
       "std                     0.823245  \n",
       "min                     0.000000  \n",
       "25%                     0.000000  \n",
       "50%                     0.000000  \n",
       "75%                     1.000000  \n",
       "max                     4.000000  "
      ]
     },
     "execution_count": 150,
     "metadata": {},
     "output_type": "execute_result"
    }
   ],
   "source": [
    "hotel.describe()"
   ]
  },
  {
   "cell_type": "code",
   "execution_count": 151,
   "id": "2a893f5a",
   "metadata": {
    "ExecuteTime": {
     "end_time": "2022-03-30T07:46:31.932265Z",
     "start_time": "2022-03-30T07:46:31.891382Z"
    }
   },
   "outputs": [
    {
     "data": {
      "text/html": [
       "<div>\n",
       "<style scoped>\n",
       "    .dataframe tbody tr th:only-of-type {\n",
       "        vertical-align: middle;\n",
       "    }\n",
       "\n",
       "    .dataframe tbody tr th {\n",
       "        vertical-align: top;\n",
       "    }\n",
       "\n",
       "    .dataframe thead th {\n",
       "        text-align: right;\n",
       "    }\n",
       "</style>\n",
       "<table border=\"1\" class=\"dataframe\">\n",
       "  <thead>\n",
       "    <tr style=\"text-align: right;\">\n",
       "      <th></th>\n",
       "      <th>hotel</th>\n",
       "      <th>meal</th>\n",
       "      <th>country</th>\n",
       "      <th>market_segment</th>\n",
       "      <th>distribution_channel</th>\n",
       "      <th>reserved_room_type</th>\n",
       "      <th>deposit_type</th>\n",
       "      <th>customer_type</th>\n",
       "    </tr>\n",
       "  </thead>\n",
       "  <tbody>\n",
       "    <tr>\n",
       "      <th>count</th>\n",
       "      <td>5000</td>\n",
       "      <td>5000</td>\n",
       "      <td>5000</td>\n",
       "      <td>5000</td>\n",
       "      <td>5000</td>\n",
       "      <td>5000</td>\n",
       "      <td>5000</td>\n",
       "      <td>5000</td>\n",
       "    </tr>\n",
       "    <tr>\n",
       "      <th>unique</th>\n",
       "      <td>1</td>\n",
       "      <td>5</td>\n",
       "      <td>56</td>\n",
       "      <td>6</td>\n",
       "      <td>3</td>\n",
       "      <td>9</td>\n",
       "      <td>3</td>\n",
       "      <td>4</td>\n",
       "    </tr>\n",
       "    <tr>\n",
       "      <th>top</th>\n",
       "      <td>Resort Hotel</td>\n",
       "      <td>BB</td>\n",
       "      <td>PRT</td>\n",
       "      <td>Online TA</td>\n",
       "      <td>TA/TO</td>\n",
       "      <td>A</td>\n",
       "      <td>No Deposit</td>\n",
       "      <td>Transient</td>\n",
       "    </tr>\n",
       "    <tr>\n",
       "      <th>freq</th>\n",
       "      <td>5000</td>\n",
       "      <td>3418</td>\n",
       "      <td>3176</td>\n",
       "      <td>2167</td>\n",
       "      <td>3657</td>\n",
       "      <td>3167</td>\n",
       "      <td>4461</td>\n",
       "      <td>3708</td>\n",
       "    </tr>\n",
       "  </tbody>\n",
       "</table>\n",
       "</div>"
      ],
      "text/plain": [
       "               hotel  meal country market_segment distribution_channel  \\\n",
       "count           5000  5000    5000           5000                 5000   \n",
       "unique             1     5      56              6                    3   \n",
       "top     Resort Hotel    BB     PRT      Online TA                TA/TO   \n",
       "freq            5000  3418    3176           2167                 3657   \n",
       "\n",
       "       reserved_room_type deposit_type customer_type  \n",
       "count                5000         5000          5000  \n",
       "unique                  9            3             4  \n",
       "top                     A   No Deposit     Transient  \n",
       "freq                 3167         4461          3708  "
      ]
     },
     "execution_count": 151,
     "metadata": {},
     "output_type": "execute_result"
    }
   ],
   "source": [
    "hotel.describe(include='object')"
   ]
  },
  {
   "cell_type": "code",
   "execution_count": 152,
   "id": "7b040215",
   "metadata": {
    "ExecuteTime": {
     "end_time": "2022-03-30T07:46:32.155159Z",
     "start_time": "2022-03-30T07:46:32.140558Z"
    }
   },
   "outputs": [
    {
     "data": {
      "text/plain": [
       "hotel                          0\n",
       "is_canceled                    0\n",
       "adults                         0\n",
       "children                       0\n",
       "babies                         0\n",
       "meal                           0\n",
       "country                        0\n",
       "market_segment                 0\n",
       "distribution_channel           0\n",
       "reserved_room_type             0\n",
       "booking_changes                0\n",
       "deposit_type                   0\n",
       "days_in_waiting_list           0\n",
       "customer_type                  0\n",
       "required_car_parking_spaces    0\n",
       "total_of_special_requests      0\n",
       "dtype: int64"
      ]
     },
     "execution_count": 152,
     "metadata": {},
     "output_type": "execute_result"
    }
   ],
   "source": [
    "hotel.isna().sum()"
   ]
  },
  {
   "cell_type": "markdown",
   "id": "976b12f4",
   "metadata": {},
   "source": [
    "# Detailed EDA"
   ]
  },
  {
   "cell_type": "code",
   "execution_count": 153,
   "id": "88104989",
   "metadata": {
    "ExecuteTime": {
     "end_time": "2022-03-30T07:46:32.543518Z",
     "start_time": "2022-03-30T07:46:32.537676Z"
    }
   },
   "outputs": [],
   "source": [
    "import matplotlib.pyplot as plt\n",
    "import seaborn as sns"
   ]
  },
  {
   "cell_type": "code",
   "execution_count": 154,
   "id": "0541cf96",
   "metadata": {
    "ExecuteTime": {
     "end_time": "2022-03-30T07:46:32.900728Z",
     "start_time": "2022-03-30T07:46:32.871544Z"
    }
   },
   "outputs": [
    {
     "data": {
      "text/html": [
       "<div>\n",
       "<style scoped>\n",
       "    .dataframe tbody tr th:only-of-type {\n",
       "        vertical-align: middle;\n",
       "    }\n",
       "\n",
       "    .dataframe tbody tr th {\n",
       "        vertical-align: top;\n",
       "    }\n",
       "\n",
       "    .dataframe thead th {\n",
       "        text-align: right;\n",
       "    }\n",
       "</style>\n",
       "<table border=\"1\" class=\"dataframe\">\n",
       "  <thead>\n",
       "    <tr style=\"text-align: right;\">\n",
       "      <th></th>\n",
       "      <th>is_canceled</th>\n",
       "      <th>adults</th>\n",
       "      <th>children</th>\n",
       "      <th>babies</th>\n",
       "      <th>meal</th>\n",
       "      <th>country</th>\n",
       "      <th>market_segment</th>\n",
       "      <th>distribution_channel</th>\n",
       "      <th>reserved_room_type</th>\n",
       "      <th>booking_changes</th>\n",
       "      <th>deposit_type</th>\n",
       "      <th>days_in_waiting_list</th>\n",
       "      <th>customer_type</th>\n",
       "      <th>required_car_parking_spaces</th>\n",
       "      <th>total_of_special_requests</th>\n",
       "    </tr>\n",
       "  </thead>\n",
       "  <tbody>\n",
       "    <tr>\n",
       "      <th>0</th>\n",
       "      <td>0</td>\n",
       "      <td>2</td>\n",
       "      <td>0.0</td>\n",
       "      <td>0</td>\n",
       "      <td>BB</td>\n",
       "      <td>PRT</td>\n",
       "      <td>Direct</td>\n",
       "      <td>Direct</td>\n",
       "      <td>C</td>\n",
       "      <td>3</td>\n",
       "      <td>No Deposit</td>\n",
       "      <td>0</td>\n",
       "      <td>Transient</td>\n",
       "      <td>0</td>\n",
       "      <td>0</td>\n",
       "    </tr>\n",
       "    <tr>\n",
       "      <th>1</th>\n",
       "      <td>0</td>\n",
       "      <td>2</td>\n",
       "      <td>0.0</td>\n",
       "      <td>0</td>\n",
       "      <td>BB</td>\n",
       "      <td>PRT</td>\n",
       "      <td>Direct</td>\n",
       "      <td>Direct</td>\n",
       "      <td>C</td>\n",
       "      <td>4</td>\n",
       "      <td>No Deposit</td>\n",
       "      <td>0</td>\n",
       "      <td>Transient</td>\n",
       "      <td>0</td>\n",
       "      <td>0</td>\n",
       "    </tr>\n",
       "    <tr>\n",
       "      <th>2</th>\n",
       "      <td>0</td>\n",
       "      <td>1</td>\n",
       "      <td>0.0</td>\n",
       "      <td>0</td>\n",
       "      <td>BB</td>\n",
       "      <td>GBR</td>\n",
       "      <td>Direct</td>\n",
       "      <td>Direct</td>\n",
       "      <td>A</td>\n",
       "      <td>0</td>\n",
       "      <td>No Deposit</td>\n",
       "      <td>0</td>\n",
       "      <td>Transient</td>\n",
       "      <td>0</td>\n",
       "      <td>0</td>\n",
       "    </tr>\n",
       "    <tr>\n",
       "      <th>3</th>\n",
       "      <td>0</td>\n",
       "      <td>1</td>\n",
       "      <td>0.0</td>\n",
       "      <td>0</td>\n",
       "      <td>BB</td>\n",
       "      <td>GBR</td>\n",
       "      <td>Corporate</td>\n",
       "      <td>Corporate</td>\n",
       "      <td>A</td>\n",
       "      <td>0</td>\n",
       "      <td>No Deposit</td>\n",
       "      <td>0</td>\n",
       "      <td>Transient</td>\n",
       "      <td>0</td>\n",
       "      <td>0</td>\n",
       "    </tr>\n",
       "    <tr>\n",
       "      <th>4</th>\n",
       "      <td>0</td>\n",
       "      <td>2</td>\n",
       "      <td>0.0</td>\n",
       "      <td>0</td>\n",
       "      <td>BB</td>\n",
       "      <td>GBR</td>\n",
       "      <td>Online TA</td>\n",
       "      <td>TA/TO</td>\n",
       "      <td>A</td>\n",
       "      <td>0</td>\n",
       "      <td>No Deposit</td>\n",
       "      <td>0</td>\n",
       "      <td>Transient</td>\n",
       "      <td>0</td>\n",
       "      <td>1</td>\n",
       "    </tr>\n",
       "  </tbody>\n",
       "</table>\n",
       "</div>"
      ],
      "text/plain": [
       "   is_canceled  adults  children  babies meal country market_segment  \\\n",
       "0            0       2       0.0       0   BB     PRT         Direct   \n",
       "1            0       2       0.0       0   BB     PRT         Direct   \n",
       "2            0       1       0.0       0   BB     GBR         Direct   \n",
       "3            0       1       0.0       0   BB     GBR      Corporate   \n",
       "4            0       2       0.0       0   BB     GBR      Online TA   \n",
       "\n",
       "  distribution_channel reserved_room_type  booking_changes deposit_type  \\\n",
       "0               Direct                  C                3   No Deposit   \n",
       "1               Direct                  C                4   No Deposit   \n",
       "2               Direct                  A                0   No Deposit   \n",
       "3            Corporate                  A                0   No Deposit   \n",
       "4                TA/TO                  A                0   No Deposit   \n",
       "\n",
       "   days_in_waiting_list customer_type  required_car_parking_spaces  \\\n",
       "0                     0     Transient                            0   \n",
       "1                     0     Transient                            0   \n",
       "2                     0     Transient                            0   \n",
       "3                     0     Transient                            0   \n",
       "4                     0     Transient                            0   \n",
       "\n",
       "   total_of_special_requests  \n",
       "0                          0  \n",
       "1                          0  \n",
       "2                          0  \n",
       "3                          0  \n",
       "4                          1  "
      ]
     },
     "execution_count": 154,
     "metadata": {},
     "output_type": "execute_result"
    }
   ],
   "source": [
    "df= hotel.copy()\n",
    "df.drop(columns='hotel',inplace=True)\n",
    "df.head()"
   ]
  },
  {
   "cell_type": "markdown",
   "id": "c476cef5",
   "metadata": {},
   "source": [
    "## How many orders were cancelled?"
   ]
  },
  {
   "cell_type": "code",
   "execution_count": 155,
   "id": "40bd3388",
   "metadata": {
    "ExecuteTime": {
     "end_time": "2022-03-30T07:46:33.973217Z",
     "start_time": "2022-03-30T07:46:33.781472Z"
    }
   },
   "outputs": [
    {
     "data": {
      "text/plain": [
       "<AxesSubplot:xlabel='is_canceled', ylabel='count'>"
      ]
     },
     "execution_count": 155,
     "metadata": {},
     "output_type": "execute_result"
    },
    {
     "data": {
      "image/png": "[encoded data removed]",
      "text/plain": [
       "<Figure size 432x288 with 1 Axes>"
      ]
     },
     "metadata": {
      "needs_background": "light"
     },
     "output_type": "display_data"
    }
   ],
   "source": [
    "sns.countplot(data=df,x='is_canceled')"
   ]
  },
  {
   "cell_type": "code",
   "execution_count": 156,
   "id": "3eb859ea",
   "metadata": {
    "ExecuteTime": {
     "end_time": "2022-03-30T07:46:34.094883Z",
     "start_time": "2022-03-30T07:46:34.085147Z"
    }
   },
   "outputs": [
    {
     "name": "stdout",
     "output_type": "stream",
     "text": [
      "Total of canceled booking: 2298\n",
      "Percentage of canceled booking: 45.96 %\n"
     ]
    }
   ],
   "source": [
    "print('Total of canceled booking:',(df['is_canceled'].value_counts()[1]))\n",
    "print('Percentage of canceled booking:',(df['is_canceled'].value_counts()[1]/df['is_canceled'].value_counts().sum())*100,'%')"
   ]
  },
  {
   "cell_type": "markdown",
   "id": "9cc585eb",
   "metadata": {},
   "source": [
    "The amount of canceled booking are 2298 and almost 50% of total order. It's a bad thing for the hotel, but it's a good collection of data for us to predict which order will be canceled since imbalanced classification is not an issue in this dataset."
   ]
  },
  {
   "cell_type": "markdown",
   "id": "f64a5b26",
   "metadata": {},
   "source": [
    "## Customer Profiling and Behavior"
   ]
  },
  {
   "cell_type": "markdown",
   "id": "e422190e",
   "metadata": {},
   "source": [
    "### Meal"
   ]
  },
  {
   "cell_type": "code",
   "execution_count": 157,
   "id": "79df90bb",
   "metadata": {
    "ExecuteTime": {
     "end_time": "2022-03-30T07:46:35.612795Z",
     "start_time": "2022-03-30T07:46:35.371409Z"
    }
   },
   "outputs": [
    {
     "data": {
      "text/plain": [
       "<AxesSubplot:xlabel='meal', ylabel='count'>"
      ]
     },
     "execution_count": 157,
     "metadata": {},
     "output_type": "execute_result"
    },
    {
     "data": {
      "image/png": "[encoded data removed]",
      "text/plain": [
       "<Figure size 432x288 with 1 Axes>"
      ]
     },
     "metadata": {
      "needs_background": "light"
     },
     "output_type": "display_data"
    }
   ],
   "source": [
    "sns.countplot(data=df,x='meal')"
   ]
  },
  {
   "cell_type": "markdown",
   "id": "e9a83797",
   "metadata": {},
   "source": [
    "The meal ordered by canceled (1) or non-canceled (0) booking orders were dominated by bed and breakfast (BB), then followed by half-board (HB), full-board (FB), Undefined and SC (No meal package)."
   ]
  },
  {
   "cell_type": "code",
   "execution_count": 158,
   "id": "bee93c32",
   "metadata": {
    "ExecuteTime": {
     "end_time": "2022-03-30T07:46:36.056635Z",
     "start_time": "2022-03-30T07:46:35.736404Z"
    }
   },
   "outputs": [
    {
     "data": {
      "text/plain": [
       "<AxesSubplot:xlabel='is_canceled', ylabel='count'>"
      ]
     },
     "execution_count": 158,
     "metadata": {},
     "output_type": "execute_result"
    },
    {
     "data": {
      "image/png": "[encoded data removed]",
      "text/plain": [
       "<Figure size 432x288 with 1 Axes>"
      ]
     },
     "metadata": {
      "needs_background": "light"
     },
     "output_type": "display_data"
    }
   ],
   "source": [
    "sns.countplot(data=df,x='is_canceled',hue='meal')"
   ]
  },
  {
   "cell_type": "markdown",
   "id": "b575ddcc",
   "metadata": {},
   "source": [
    "Considering the total observation of each group of is_canceled, the decrease in BB also followed by the expected decrease of Undefined/SC meal order, but not in FB and HB."
   ]
  },
  {
   "cell_type": "code",
   "execution_count": 159,
   "id": "c84740f2",
   "metadata": {
    "ExecuteTime": {
     "end_time": "2022-03-30T07:46:36.335012Z",
     "start_time": "2022-03-30T07:46:36.171483Z"
    }
   },
   "outputs": [
    {
     "data": {
      "text/html": [
       "<div>\n",
       "<style scoped>\n",
       "    .dataframe tbody tr th:only-of-type {\n",
       "        vertical-align: middle;\n",
       "    }\n",
       "\n",
       "    .dataframe tbody tr th {\n",
       "        vertical-align: top;\n",
       "    }\n",
       "\n",
       "    .dataframe thead th {\n",
       "        text-align: right;\n",
       "    }\n",
       "</style>\n",
       "<table border=\"1\" class=\"dataframe\">\n",
       "  <thead>\n",
       "    <tr style=\"text-align: right;\">\n",
       "      <th>meal</th>\n",
       "      <th>BB</th>\n",
       "      <th>FB</th>\n",
       "      <th>HB</th>\n",
       "      <th>SC</th>\n",
       "      <th>Undefined</th>\n",
       "    </tr>\n",
       "    <tr>\n",
       "      <th>is_canceled</th>\n",
       "      <th></th>\n",
       "      <th></th>\n",
       "      <th></th>\n",
       "      <th></th>\n",
       "      <th></th>\n",
       "    </tr>\n",
       "  </thead>\n",
       "  <tbody>\n",
       "    <tr>\n",
       "      <th>0</th>\n",
       "      <td>0.702813</td>\n",
       "      <td>0.038860</td>\n",
       "      <td>0.195781</td>\n",
       "      <td>0.004811</td>\n",
       "      <td>0.057735</td>\n",
       "    </tr>\n",
       "    <tr>\n",
       "      <th>1</th>\n",
       "      <td>0.661010</td>\n",
       "      <td>0.093124</td>\n",
       "      <td>0.221062</td>\n",
       "      <td>0.000435</td>\n",
       "      <td>0.024369</td>\n",
       "    </tr>\n",
       "    <tr>\n",
       "      <th>All</th>\n",
       "      <td>0.683600</td>\n",
       "      <td>0.063800</td>\n",
       "      <td>0.207400</td>\n",
       "      <td>0.002800</td>\n",
       "      <td>0.042400</td>\n",
       "    </tr>\n",
       "  </tbody>\n",
       "</table>\n",
       "</div>"
      ],
      "text/plain": [
       "meal               BB        FB        HB        SC  Undefined\n",
       "is_canceled                                                   \n",
       "0            0.702813  0.038860  0.195781  0.004811   0.057735\n",
       "1            0.661010  0.093124  0.221062  0.000435   0.024369\n",
       "All          0.683600  0.063800  0.207400  0.002800   0.042400"
      ]
     },
     "execution_count": 159,
     "metadata": {},
     "output_type": "execute_result"
    }
   ],
   "source": [
    "pd.crosstab(df['is_canceled'],df['meal'],margins=True,normalize='index')"
   ]
  },
  {
   "cell_type": "markdown",
   "id": "1e1b9f4f",
   "metadata": {},
   "source": [
    "FB meal order had higher booking cancellation than other meal orders. By looking at proportion (table above), HB also had higher count of booking cancellation. Subjectively, when looking at the big picture, both 0 and 1 have the same pattern of meal order that may indicates that the meal data was not affecting the booking cancellation."
   ]
  },
  {
   "cell_type": "markdown",
   "id": "380c3444",
   "metadata": {},
   "source": [
    "### Market Segment"
   ]
  },
  {
   "cell_type": "code",
   "execution_count": 160,
   "id": "927682b5",
   "metadata": {
    "ExecuteTime": {
     "end_time": "2022-03-30T07:46:36.849900Z",
     "start_time": "2022-03-30T07:46:36.606567Z"
    }
   },
   "outputs": [
    {
     "data": {
      "image/png": "[encoded data removed]",
      "text/plain": [
       "<Figure size 432x288 with 1 Axes>"
      ]
     },
     "metadata": {
      "needs_background": "light"
     },
     "output_type": "display_data"
    }
   ],
   "source": [
    "sns.countplot(data=df,x='market_segment')\n",
    "plt.xticks(rotation=45)\n",
    "plt.show()"
   ]
  },
  {
   "cell_type": "code",
   "execution_count": 161,
   "id": "df695cb5",
   "metadata": {
    "ExecuteTime": {
     "end_time": "2022-03-30T07:46:37.303472Z",
     "start_time": "2022-03-30T07:46:36.963782Z"
    }
   },
   "outputs": [
    {
     "data": {
      "text/plain": [
       "<AxesSubplot:xlabel='is_canceled', ylabel='count'>"
      ]
     },
     "execution_count": 161,
     "metadata": {},
     "output_type": "execute_result"
    },
    {
     "data": {
      "image/png": "[encoded data removed]",
      "text/plain": [
       "<Figure size 432x288 with 1 Axes>"
      ]
     },
     "metadata": {
      "needs_background": "light"
     },
     "output_type": "display_data"
    }
   ],
   "source": [
    "sns.countplot(data=df,x='is_canceled',hue='market_segment')"
   ]
  },
  {
   "cell_type": "markdown",
   "id": "e95f89a9",
   "metadata": {},
   "source": [
    "Orders were dominated by online TA. There were decrease of booking cancellation (proportion) in direct, corporate, and offline TA/TO market segmentation, while there was increase of booking cancellation in groups market segmentation."
   ]
  },
  {
   "cell_type": "code",
   "execution_count": 162,
   "id": "56a17b73",
   "metadata": {
    "ExecuteTime": {
     "end_time": "2022-03-30T07:46:37.492300Z",
     "start_time": "2022-03-30T07:46:37.417353Z"
    }
   },
   "outputs": [
    {
     "data": {
      "text/html": [
       "<div>\n",
       "<style scoped>\n",
       "    .dataframe tbody tr th:only-of-type {\n",
       "        vertical-align: middle;\n",
       "    }\n",
       "\n",
       "    .dataframe tbody tr th {\n",
       "        vertical-align: top;\n",
       "    }\n",
       "\n",
       "    .dataframe thead th {\n",
       "        text-align: right;\n",
       "    }\n",
       "</style>\n",
       "<table border=\"1\" class=\"dataframe\">\n",
       "  <thead>\n",
       "    <tr style=\"text-align: right;\">\n",
       "      <th>market_segment</th>\n",
       "      <th>Complementary</th>\n",
       "      <th>Corporate</th>\n",
       "      <th>Direct</th>\n",
       "      <th>Groups</th>\n",
       "      <th>Offline TA/TO</th>\n",
       "      <th>Online TA</th>\n",
       "    </tr>\n",
       "    <tr>\n",
       "      <th>is_canceled</th>\n",
       "      <th></th>\n",
       "      <th></th>\n",
       "      <th></th>\n",
       "      <th></th>\n",
       "      <th></th>\n",
       "      <th></th>\n",
       "    </tr>\n",
       "  </thead>\n",
       "  <tbody>\n",
       "    <tr>\n",
       "      <th>0</th>\n",
       "      <td>0.002591</td>\n",
       "      <td>0.056255</td>\n",
       "      <td>0.157661</td>\n",
       "      <td>0.145448</td>\n",
       "      <td>0.245374</td>\n",
       "      <td>0.392672</td>\n",
       "    </tr>\n",
       "    <tr>\n",
       "      <th>1</th>\n",
       "      <td>0.001741</td>\n",
       "      <td>0.043516</td>\n",
       "      <td>0.083986</td>\n",
       "      <td>0.275022</td>\n",
       "      <td>0.114447</td>\n",
       "      <td>0.481288</td>\n",
       "    </tr>\n",
       "    <tr>\n",
       "      <th>All</th>\n",
       "      <td>0.002200</td>\n",
       "      <td>0.050400</td>\n",
       "      <td>0.123800</td>\n",
       "      <td>0.205000</td>\n",
       "      <td>0.185200</td>\n",
       "      <td>0.433400</td>\n",
       "    </tr>\n",
       "  </tbody>\n",
       "</table>\n",
       "</div>"
      ],
      "text/plain": [
       "market_segment  Complementary  Corporate    Direct    Groups  Offline TA/TO  \\\n",
       "is_canceled                                                                   \n",
       "0                    0.002591   0.056255  0.157661  0.145448       0.245374   \n",
       "1                    0.001741   0.043516  0.083986  0.275022       0.114447   \n",
       "All                  0.002200   0.050400  0.123800  0.205000       0.185200   \n",
       "\n",
       "market_segment  Online TA  \n",
       "is_canceled                \n",
       "0                0.392672  \n",
       "1                0.481288  \n",
       "All              0.433400  "
      ]
     },
     "execution_count": 162,
     "metadata": {},
     "output_type": "execute_result"
    }
   ],
   "source": [
    "pd.crosstab(df['is_canceled'],df['market_segment'],margins=True,normalize='index')"
   ]
  },
  {
   "cell_type": "markdown",
   "id": "4d79891b",
   "metadata": {},
   "source": [
    "### Distribution Channel"
   ]
  },
  {
   "cell_type": "code",
   "execution_count": 163,
   "id": "efe93b81",
   "metadata": {
    "ExecuteTime": {
     "end_time": "2022-03-30T07:46:37.998432Z",
     "start_time": "2022-03-30T07:46:37.774566Z"
    }
   },
   "outputs": [
    {
     "data": {
      "text/plain": [
       "<AxesSubplot:xlabel='distribution_channel', ylabel='count'>"
      ]
     },
     "execution_count": 163,
     "metadata": {},
     "output_type": "execute_result"
    },
    {
     "data": {
      "image/png": "[encoded data removed]",
      "text/plain": [
       "<Figure size 432x288 with 1 Axes>"
      ]
     },
     "metadata": {
      "needs_background": "light"
     },
     "output_type": "display_data"
    }
   ],
   "source": [
    "sns.countplot(data=df,x='distribution_channel')"
   ]
  },
  {
   "cell_type": "code",
   "execution_count": 164,
   "id": "c6d49190",
   "metadata": {
    "ExecuteTime": {
     "end_time": "2022-03-30T07:46:38.403349Z",
     "start_time": "2022-03-30T07:46:38.107446Z"
    }
   },
   "outputs": [
    {
     "data": {
      "text/plain": [
       "<AxesSubplot:xlabel='distribution_channel', ylabel='count'>"
      ]
     },
     "execution_count": 164,
     "metadata": {},
     "output_type": "execute_result"
    },
    {
     "data": {
      "image/png": "[encoded data removed]",
      "text/plain": [
       "<Figure size 432x288 with 1 Axes>"
      ]
     },
     "metadata": {
      "needs_background": "light"
     },
     "output_type": "display_data"
    }
   ],
   "source": [
    "sns.countplot(data=df,x='distribution_channel',hue='is_canceled')"
   ]
  },
  {
   "cell_type": "markdown",
   "id": "bb81ef32",
   "metadata": {},
   "source": [
    "Orders were dominated by TA/TO, followed by Direct and Corporate distribution channel. There were slight decrease of booking cancellation from each distribution channel. Subjectively from the graph, there were no differences of distribution channel proportion from 0 and 1 group. But:"
   ]
  },
  {
   "cell_type": "code",
   "execution_count": 165,
   "id": "4f1d0c4e",
   "metadata": {
    "ExecuteTime": {
     "end_time": "2022-03-30T07:46:38.587300Z",
     "start_time": "2022-03-30T07:46:38.522085Z"
    }
   },
   "outputs": [
    {
     "data": {
      "text/html": [
       "<div>\n",
       "<style scoped>\n",
       "    .dataframe tbody tr th:only-of-type {\n",
       "        vertical-align: middle;\n",
       "    }\n",
       "\n",
       "    .dataframe tbody tr th {\n",
       "        vertical-align: top;\n",
       "    }\n",
       "\n",
       "    .dataframe thead th {\n",
       "        text-align: right;\n",
       "    }\n",
       "</style>\n",
       "<table border=\"1\" class=\"dataframe\">\n",
       "  <thead>\n",
       "    <tr style=\"text-align: right;\">\n",
       "      <th>distribution_channel</th>\n",
       "      <th>Corporate</th>\n",
       "      <th>Direct</th>\n",
       "      <th>TA/TO</th>\n",
       "      <th>All</th>\n",
       "    </tr>\n",
       "    <tr>\n",
       "      <th>is_canceled</th>\n",
       "      <th></th>\n",
       "      <th></th>\n",
       "      <th></th>\n",
       "      <th></th>\n",
       "    </tr>\n",
       "  </thead>\n",
       "  <tbody>\n",
       "    <tr>\n",
       "      <th>0</th>\n",
       "      <td>0.596364</td>\n",
       "      <td>0.574906</td>\n",
       "      <td>0.526114</td>\n",
       "      <td>0.5404</td>\n",
       "    </tr>\n",
       "    <tr>\n",
       "      <th>1</th>\n",
       "      <td>0.403636</td>\n",
       "      <td>0.425094</td>\n",
       "      <td>0.473886</td>\n",
       "      <td>0.4596</td>\n",
       "    </tr>\n",
       "  </tbody>\n",
       "</table>\n",
       "</div>"
      ],
      "text/plain": [
       "distribution_channel  Corporate    Direct     TA/TO     All\n",
       "is_canceled                                                \n",
       "0                      0.596364  0.574906  0.526114  0.5404\n",
       "1                      0.403636  0.425094  0.473886  0.4596"
      ]
     },
     "execution_count": 165,
     "metadata": {},
     "output_type": "execute_result"
    }
   ],
   "source": [
    "pd.crosstab(df['is_canceled'],df['distribution_channel'],margins=True,normalize='columns')"
   ]
  },
  {
   "cell_type": "markdown",
   "id": "90bee36f",
   "metadata": {},
   "source": [
    "There was a shift of increased booking cancellation (proportion) from the table above. Corporate<Direct<TA/TO (booking cancellation)."
   ]
  },
  {
   "cell_type": "markdown",
   "id": "7d255425",
   "metadata": {},
   "source": [
    "### Reserved Room Type"
   ]
  },
  {
   "cell_type": "code",
   "execution_count": 166,
   "id": "0536f8f5",
   "metadata": {
    "ExecuteTime": {
     "end_time": "2022-03-30T07:46:39.450033Z",
     "start_time": "2022-03-30T07:46:39.174581Z"
    }
   },
   "outputs": [
    {
     "data": {
      "text/plain": [
       "<AxesSubplot:xlabel='reserved_room_type', ylabel='count'>"
      ]
     },
     "execution_count": 166,
     "metadata": {},
     "output_type": "execute_result"
    },
    {
     "data": {
      "image/png": "[encoded data removed]",
      "text/plain": [
       "<Figure size 432x288 with 1 Axes>"
      ]
     },
     "metadata": {
      "needs_background": "light"
     },
     "output_type": "display_data"
    }
   ],
   "source": [
    "sns.countplot(data=df,x='reserved_room_type')"
   ]
  },
  {
   "cell_type": "code",
   "execution_count": 167,
   "id": "a449ba34",
   "metadata": {
    "ExecuteTime": {
     "end_time": "2022-03-30T07:46:39.583486Z",
     "start_time": "2022-03-30T07:46:39.561968Z"
    }
   },
   "outputs": [
    {
     "data": {
      "text/html": [
       "<div>\n",
       "<style scoped>\n",
       "    .dataframe tbody tr th:only-of-type {\n",
       "        vertical-align: middle;\n",
       "    }\n",
       "\n",
       "    .dataframe tbody tr th {\n",
       "        vertical-align: top;\n",
       "    }\n",
       "\n",
       "    .dataframe thead th {\n",
       "        text-align: right;\n",
       "    }\n",
       "</style>\n",
       "<table border=\"1\" class=\"dataframe\">\n",
       "  <thead>\n",
       "    <tr style=\"text-align: right;\">\n",
       "      <th></th>\n",
       "      <th>is_canceled</th>\n",
       "      <th>adults</th>\n",
       "      <th>children</th>\n",
       "      <th>babies</th>\n",
       "      <th>meal</th>\n",
       "      <th>country</th>\n",
       "      <th>market_segment</th>\n",
       "      <th>distribution_channel</th>\n",
       "      <th>reserved_room_type</th>\n",
       "      <th>booking_changes</th>\n",
       "      <th>deposit_type</th>\n",
       "      <th>days_in_waiting_list</th>\n",
       "      <th>customer_type</th>\n",
       "      <th>required_car_parking_spaces</th>\n",
       "      <th>total_of_special_requests</th>\n",
       "    </tr>\n",
       "  </thead>\n",
       "  <tbody>\n",
       "    <tr>\n",
       "      <th>4127</th>\n",
       "      <td>1</td>\n",
       "      <td>0</td>\n",
       "      <td>0.0</td>\n",
       "      <td>0</td>\n",
       "      <td>SC</td>\n",
       "      <td>PRT</td>\n",
       "      <td>Offline TA/TO</td>\n",
       "      <td>TA/TO</td>\n",
       "      <td>P</td>\n",
       "      <td>0</td>\n",
       "      <td>No Deposit</td>\n",
       "      <td>0</td>\n",
       "      <td>Transient</td>\n",
       "      <td>0</td>\n",
       "      <td>0</td>\n",
       "    </tr>\n",
       "  </tbody>\n",
       "</table>\n",
       "</div>"
      ],
      "text/plain": [
       "      is_canceled  adults  children  babies meal country market_segment  \\\n",
       "4127            1       0       0.0       0   SC     PRT  Offline TA/TO   \n",
       "\n",
       "     distribution_channel reserved_room_type  booking_changes deposit_type  \\\n",
       "4127                TA/TO                  P                0   No Deposit   \n",
       "\n",
       "      days_in_waiting_list customer_type  required_car_parking_spaces  \\\n",
       "4127                     0     Transient                            0   \n",
       "\n",
       "      total_of_special_requests  \n",
       "4127                          0  "
      ]
     },
     "execution_count": 167,
     "metadata": {},
     "output_type": "execute_result"
    }
   ],
   "source": [
    "df[df['reserved_room_type']=='P'] # No adults, chilren, babies"
   ]
  },
  {
   "cell_type": "code",
   "execution_count": 168,
   "id": "c751103a",
   "metadata": {
    "ExecuteTime": {
     "end_time": "2022-03-30T07:46:39.742031Z",
     "start_time": "2022-03-30T07:46:39.718681Z"
    },
    "scrolled": true
   },
   "outputs": [
    {
     "data": {
      "text/html": [
       "<div>\n",
       "<style scoped>\n",
       "    .dataframe tbody tr th:only-of-type {\n",
       "        vertical-align: middle;\n",
       "    }\n",
       "\n",
       "    .dataframe tbody tr th {\n",
       "        vertical-align: top;\n",
       "    }\n",
       "\n",
       "    .dataframe thead th {\n",
       "        text-align: right;\n",
       "    }\n",
       "</style>\n",
       "<table border=\"1\" class=\"dataframe\">\n",
       "  <thead>\n",
       "    <tr style=\"text-align: right;\">\n",
       "      <th></th>\n",
       "      <th>is_canceled</th>\n",
       "      <th>adults</th>\n",
       "      <th>children</th>\n",
       "      <th>babies</th>\n",
       "      <th>meal</th>\n",
       "      <th>country</th>\n",
       "      <th>market_segment</th>\n",
       "      <th>distribution_channel</th>\n",
       "      <th>reserved_room_type</th>\n",
       "      <th>booking_changes</th>\n",
       "      <th>deposit_type</th>\n",
       "      <th>days_in_waiting_list</th>\n",
       "      <th>customer_type</th>\n",
       "      <th>required_car_parking_spaces</th>\n",
       "      <th>total_of_special_requests</th>\n",
       "    </tr>\n",
       "  </thead>\n",
       "  <tbody>\n",
       "    <tr>\n",
       "      <th>354</th>\n",
       "      <td>0</td>\n",
       "      <td>4</td>\n",
       "      <td>0.0</td>\n",
       "      <td>0</td>\n",
       "      <td>BB</td>\n",
       "      <td>PRT</td>\n",
       "      <td>Direct</td>\n",
       "      <td>Direct</td>\n",
       "      <td>L</td>\n",
       "      <td>0</td>\n",
       "      <td>No Deposit</td>\n",
       "      <td>0</td>\n",
       "      <td>Transient</td>\n",
       "      <td>0</td>\n",
       "      <td>0</td>\n",
       "    </tr>\n",
       "    <tr>\n",
       "      <th>504</th>\n",
       "      <td>1</td>\n",
       "      <td>2</td>\n",
       "      <td>0.0</td>\n",
       "      <td>0</td>\n",
       "      <td>BB</td>\n",
       "      <td>PRT</td>\n",
       "      <td>Direct</td>\n",
       "      <td>Direct</td>\n",
       "      <td>L</td>\n",
       "      <td>0</td>\n",
       "      <td>No Deposit</td>\n",
       "      <td>0</td>\n",
       "      <td>Transient</td>\n",
       "      <td>0</td>\n",
       "      <td>0</td>\n",
       "    </tr>\n",
       "    <tr>\n",
       "      <th>911</th>\n",
       "      <td>0</td>\n",
       "      <td>2</td>\n",
       "      <td>0.0</td>\n",
       "      <td>0</td>\n",
       "      <td>BB</td>\n",
       "      <td>PRT</td>\n",
       "      <td>Direct</td>\n",
       "      <td>Direct</td>\n",
       "      <td>L</td>\n",
       "      <td>0</td>\n",
       "      <td>No Deposit</td>\n",
       "      <td>0</td>\n",
       "      <td>Transient</td>\n",
       "      <td>0</td>\n",
       "      <td>0</td>\n",
       "    </tr>\n",
       "  </tbody>\n",
       "</table>\n",
       "</div>"
      ],
      "text/plain": [
       "     is_canceled  adults  children  babies meal country market_segment  \\\n",
       "354            0       4       0.0       0   BB     PRT         Direct   \n",
       "504            1       2       0.0       0   BB     PRT         Direct   \n",
       "911            0       2       0.0       0   BB     PRT         Direct   \n",
       "\n",
       "    distribution_channel reserved_room_type  booking_changes deposit_type  \\\n",
       "354               Direct                  L                0   No Deposit   \n",
       "504               Direct                  L                0   No Deposit   \n",
       "911               Direct                  L                0   No Deposit   \n",
       "\n",
       "     days_in_waiting_list customer_type  required_car_parking_spaces  \\\n",
       "354                     0     Transient                            0   \n",
       "504                     0     Transient                            0   \n",
       "911                     0     Transient                            0   \n",
       "\n",
       "     total_of_special_requests  \n",
       "354                          0  \n",
       "504                          0  \n",
       "911                          0  "
      ]
     },
     "execution_count": 168,
     "metadata": {},
     "output_type": "execute_result"
    }
   ],
   "source": [
    "df[df['reserved_room_type']=='L']"
   ]
  },
  {
   "cell_type": "markdown",
   "id": "5d796310",
   "metadata": {},
   "source": [
    "Reserved room type was dominated by room A, followed by D, E, G, etc. To compare reserved room type and booking cancellation, we need to transform the data."
   ]
  },
  {
   "cell_type": "code",
   "execution_count": 169,
   "id": "7066be9d",
   "metadata": {
    "ExecuteTime": {
     "end_time": "2022-03-30T07:46:40.127531Z",
     "start_time": "2022-03-30T07:46:40.098273Z"
    }
   },
   "outputs": [],
   "source": [
    "tab1=pd.crosstab(df['is_canceled'],df['reserved_room_type'],normalize='columns').T\n",
    "tab1=tab1.reset_index().rename_axis(None, axis=1)"
   ]
  },
  {
   "cell_type": "code",
   "execution_count": 170,
   "id": "08c07d93",
   "metadata": {
    "ExecuteTime": {
     "end_time": "2022-03-30T07:46:40.765981Z",
     "start_time": "2022-03-30T07:46:40.356206Z"
    }
   },
   "outputs": [
    {
     "data": {
      "text/plain": [
       "<AxesSubplot:title={'center':'Stacked Bar Graph'}, ylabel='reserved_room_type'>"
      ]
     },
     "execution_count": 170,
     "metadata": {},
     "output_type": "execute_result"
    },
    {
     "data": {
      "image/png": "[encoded data removed]",
      "text/plain": [
       "<Figure size 432x288 with 1 Axes>"
      ]
     },
     "metadata": {
      "needs_background": "light"
     },
     "output_type": "display_data"
    }
   ],
   "source": [
    "tab1.plot(\n",
    "    x = 'reserved_room_type',\n",
    "    kind = 'barh',\n",
    "    stacked = True,\n",
    "    title = 'Stacked Bar Graph',\n",
    "    mark_right = True)"
   ]
  },
  {
   "cell_type": "markdown",
   "id": "72303e2e",
   "metadata": {},
   "source": [
    "H room had the highest booking cancellation rate followed by room G, A, E, D, C, and F while ignoring room L and P (low observation)."
   ]
  },
  {
   "cell_type": "markdown",
   "id": "3bb2d2b6",
   "metadata": {},
   "source": [
    "### Customer Type"
   ]
  },
  {
   "cell_type": "code",
   "execution_count": 171,
   "id": "836c0e32",
   "metadata": {
    "ExecuteTime": {
     "end_time": "2022-03-30T07:46:41.463450Z",
     "start_time": "2022-03-30T07:46:41.153930Z"
    }
   },
   "outputs": [
    {
     "data": {
      "text/plain": [
       "<AxesSubplot:xlabel='customer_type', ylabel='count'>"
      ]
     },
     "execution_count": 171,
     "metadata": {},
     "output_type": "execute_result"
    },
    {
     "data": {
      "image/png": "[encoded data removed]",
      "text/plain": [
       "<Figure size 432x288 with 1 Axes>"
      ]
     },
     "metadata": {
      "needs_background": "light"
     },
     "output_type": "display_data"
    }
   ],
   "source": [
    "sns.countplot(data=df,x='customer_type',hue='is_canceled')"
   ]
  },
  {
   "cell_type": "code",
   "execution_count": 172,
   "id": "55527891",
   "metadata": {
    "ExecuteTime": {
     "end_time": "2022-03-30T07:46:41.634757Z",
     "start_time": "2022-03-30T07:46:41.602639Z"
    }
   },
   "outputs": [
    {
     "data": {
      "text/html": [
       "<div>\n",
       "<style scoped>\n",
       "    .dataframe tbody tr th:only-of-type {\n",
       "        vertical-align: middle;\n",
       "    }\n",
       "\n",
       "    .dataframe tbody tr th {\n",
       "        vertical-align: top;\n",
       "    }\n",
       "\n",
       "    .dataframe thead th {\n",
       "        text-align: right;\n",
       "    }\n",
       "</style>\n",
       "<table border=\"1\" class=\"dataframe\">\n",
       "  <thead>\n",
       "    <tr style=\"text-align: right;\">\n",
       "      <th>customer_type</th>\n",
       "      <th>Contract</th>\n",
       "      <th>Group</th>\n",
       "      <th>Transient</th>\n",
       "      <th>Transient-Party</th>\n",
       "    </tr>\n",
       "    <tr>\n",
       "      <th>is_canceled</th>\n",
       "      <th></th>\n",
       "      <th></th>\n",
       "      <th></th>\n",
       "      <th></th>\n",
       "    </tr>\n",
       "  </thead>\n",
       "  <tbody>\n",
       "    <tr>\n",
       "      <th>0</th>\n",
       "      <td>177</td>\n",
       "      <td>0</td>\n",
       "      <td>1827</td>\n",
       "      <td>698</td>\n",
       "    </tr>\n",
       "    <tr>\n",
       "      <th>1</th>\n",
       "      <td>42</td>\n",
       "      <td>16</td>\n",
       "      <td>1881</td>\n",
       "      <td>359</td>\n",
       "    </tr>\n",
       "  </tbody>\n",
       "</table>\n",
       "</div>"
      ],
      "text/plain": [
       "customer_type  Contract  Group  Transient  Transient-Party\n",
       "is_canceled                                               \n",
       "0                   177      0       1827              698\n",
       "1                    42     16       1881              359"
      ]
     },
     "execution_count": 172,
     "metadata": {},
     "output_type": "execute_result"
    }
   ],
   "source": [
    "pd.crosstab(df['is_canceled'],df['customer_type'])"
   ]
  },
  {
   "cell_type": "markdown",
   "id": "d30e8f86",
   "metadata": {},
   "source": [
    "All 'Group' customer type orders were canceled. Transient count between 0 and 1 group were comparable, while there is significant decrease of booking cancellation (proportion) of Contract and Transient-Party."
   ]
  },
  {
   "cell_type": "markdown",
   "id": "8ae07b07",
   "metadata": {
    "ExecuteTime": {
     "end_time": "2022-02-06T09:54:17.332865Z",
     "start_time": "2022-02-06T09:54:17.313866Z"
    }
   },
   "source": [
    "### Deposit type"
   ]
  },
  {
   "cell_type": "code",
   "execution_count": 173,
   "id": "b75c2955",
   "metadata": {
    "ExecuteTime": {
     "end_time": "2022-03-30T07:46:42.775633Z",
     "start_time": "2022-03-30T07:46:42.512831Z"
    }
   },
   "outputs": [
    {
     "data": {
      "text/plain": [
       "<AxesSubplot:xlabel='deposit_type', ylabel='count'>"
      ]
     },
     "execution_count": 173,
     "metadata": {},
     "output_type": "execute_result"
    },
    {
     "data": {
      "image/png": "[encoded data removed]",
      "text/plain": [
       "<Figure size 432x288 with 1 Axes>"
      ]
     },
     "metadata": {
      "needs_background": "light"
     },
     "output_type": "display_data"
    }
   ],
   "source": [
    "sns.countplot(data=df,x='deposit_type',hue='is_canceled')"
   ]
  },
  {
   "cell_type": "code",
   "execution_count": 174,
   "id": "e443de7f",
   "metadata": {
    "ExecuteTime": {
     "end_time": "2022-03-30T07:46:42.922607Z",
     "start_time": "2022-03-30T07:46:42.895353Z"
    }
   },
   "outputs": [
    {
     "data": {
      "text/html": [
       "<div>\n",
       "<style scoped>\n",
       "    .dataframe tbody tr th:only-of-type {\n",
       "        vertical-align: middle;\n",
       "    }\n",
       "\n",
       "    .dataframe tbody tr th {\n",
       "        vertical-align: top;\n",
       "    }\n",
       "\n",
       "    .dataframe thead th {\n",
       "        text-align: right;\n",
       "    }\n",
       "</style>\n",
       "<table border=\"1\" class=\"dataframe\">\n",
       "  <thead>\n",
       "    <tr style=\"text-align: right;\">\n",
       "      <th>deposit_type</th>\n",
       "      <th>No Deposit</th>\n",
       "      <th>Non Refund</th>\n",
       "      <th>Refundable</th>\n",
       "    </tr>\n",
       "    <tr>\n",
       "      <th>is_canceled</th>\n",
       "      <th></th>\n",
       "      <th></th>\n",
       "      <th></th>\n",
       "    </tr>\n",
       "  </thead>\n",
       "  <tbody>\n",
       "    <tr>\n",
       "      <th>0</th>\n",
       "      <td>2609</td>\n",
       "      <td>39</td>\n",
       "      <td>54</td>\n",
       "    </tr>\n",
       "    <tr>\n",
       "      <th>1</th>\n",
       "      <td>1852</td>\n",
       "      <td>438</td>\n",
       "      <td>8</td>\n",
       "    </tr>\n",
       "  </tbody>\n",
       "</table>\n",
       "</div>"
      ],
      "text/plain": [
       "deposit_type  No Deposit  Non Refund  Refundable\n",
       "is_canceled                                     \n",
       "0                   2609          39          54\n",
       "1                   1852         438           8"
      ]
     },
     "execution_count": 174,
     "metadata": {},
     "output_type": "execute_result"
    }
   ],
   "source": [
    "pd.crosstab(df['is_canceled'],df['deposit_type'])"
   ]
  },
  {
   "cell_type": "markdown",
   "id": "00042ccb",
   "metadata": {},
   "source": [
    "A significant amount of booking cancellation can be seen at non-refund group."
   ]
  },
  {
   "cell_type": "markdown",
   "id": "6c49c379",
   "metadata": {},
   "source": [
    "### Country"
   ]
  },
  {
   "cell_type": "code",
   "execution_count": 175,
   "id": "6872165b",
   "metadata": {
    "ExecuteTime": {
     "end_time": "2022-03-30T07:46:43.478596Z",
     "start_time": "2022-03-30T07:46:43.456211Z"
    }
   },
   "outputs": [
    {
     "data": {
      "text/html": [
       "<div>\n",
       "<style scoped>\n",
       "    .dataframe tbody tr th:only-of-type {\n",
       "        vertical-align: middle;\n",
       "    }\n",
       "\n",
       "    .dataframe tbody tr th {\n",
       "        vertical-align: top;\n",
       "    }\n",
       "\n",
       "    .dataframe thead th {\n",
       "        text-align: right;\n",
       "    }\n",
       "</style>\n",
       "<table border=\"1\" class=\"dataframe\">\n",
       "  <thead>\n",
       "    <tr style=\"text-align: right;\">\n",
       "      <th></th>\n",
       "      <th>country</th>\n",
       "      <th>count</th>\n",
       "    </tr>\n",
       "  </thead>\n",
       "  <tbody>\n",
       "    <tr>\n",
       "      <th>0</th>\n",
       "      <td>PRT</td>\n",
       "      <td>3176</td>\n",
       "    </tr>\n",
       "    <tr>\n",
       "      <th>1</th>\n",
       "      <td>ESP</td>\n",
       "      <td>550</td>\n",
       "    </tr>\n",
       "    <tr>\n",
       "      <th>2</th>\n",
       "      <td>GBR</td>\n",
       "      <td>505</td>\n",
       "    </tr>\n",
       "    <tr>\n",
       "      <th>3</th>\n",
       "      <td>IRL</td>\n",
       "      <td>172</td>\n",
       "    </tr>\n",
       "    <tr>\n",
       "      <th>4</th>\n",
       "      <td>FRA</td>\n",
       "      <td>113</td>\n",
       "    </tr>\n",
       "    <tr>\n",
       "      <th>5</th>\n",
       "      <td>DEU</td>\n",
       "      <td>89</td>\n",
       "    </tr>\n",
       "    <tr>\n",
       "      <th>6</th>\n",
       "      <td>NLD</td>\n",
       "      <td>55</td>\n",
       "    </tr>\n",
       "    <tr>\n",
       "      <th>7</th>\n",
       "      <td>CN</td>\n",
       "      <td>33</td>\n",
       "    </tr>\n",
       "    <tr>\n",
       "      <th>8</th>\n",
       "      <td>BEL</td>\n",
       "      <td>29</td>\n",
       "    </tr>\n",
       "    <tr>\n",
       "      <th>9</th>\n",
       "      <td>USA</td>\n",
       "      <td>28</td>\n",
       "    </tr>\n",
       "    <tr>\n",
       "      <th>10</th>\n",
       "      <td>POL</td>\n",
       "      <td>28</td>\n",
       "    </tr>\n",
       "    <tr>\n",
       "      <th>11</th>\n",
       "      <td>CHE</td>\n",
       "      <td>26</td>\n",
       "    </tr>\n",
       "    <tr>\n",
       "      <th>12</th>\n",
       "      <td>RUS</td>\n",
       "      <td>23</td>\n",
       "    </tr>\n",
       "    <tr>\n",
       "      <th>13</th>\n",
       "      <td>ITA</td>\n",
       "      <td>23</td>\n",
       "    </tr>\n",
       "    <tr>\n",
       "      <th>14</th>\n",
       "      <td>BRA</td>\n",
       "      <td>18</td>\n",
       "    </tr>\n",
       "    <tr>\n",
       "      <th>15</th>\n",
       "      <td>ROU</td>\n",
       "      <td>12</td>\n",
       "    </tr>\n",
       "    <tr>\n",
       "      <th>16</th>\n",
       "      <td>AUT</td>\n",
       "      <td>12</td>\n",
       "    </tr>\n",
       "    <tr>\n",
       "      <th>17</th>\n",
       "      <td>LUX</td>\n",
       "      <td>10</td>\n",
       "    </tr>\n",
       "    <tr>\n",
       "      <th>18</th>\n",
       "      <td>FIN</td>\n",
       "      <td>9</td>\n",
       "    </tr>\n",
       "    <tr>\n",
       "      <th>19</th>\n",
       "      <td>SWE</td>\n",
       "      <td>8</td>\n",
       "    </tr>\n",
       "    <tr>\n",
       "      <th>20</th>\n",
       "      <td>DNK</td>\n",
       "      <td>6</td>\n",
       "    </tr>\n",
       "    <tr>\n",
       "      <th>21</th>\n",
       "      <td>ARG</td>\n",
       "      <td>6</td>\n",
       "    </tr>\n",
       "    <tr>\n",
       "      <th>22</th>\n",
       "      <td>LVA</td>\n",
       "      <td>6</td>\n",
       "    </tr>\n",
       "    <tr>\n",
       "      <th>23</th>\n",
       "      <td>NOR</td>\n",
       "      <td>5</td>\n",
       "    </tr>\n",
       "    <tr>\n",
       "      <th>24</th>\n",
       "      <td>CHN</td>\n",
       "      <td>5</td>\n",
       "    </tr>\n",
       "    <tr>\n",
       "      <th>25</th>\n",
       "      <td>AUS</td>\n",
       "      <td>4</td>\n",
       "    </tr>\n",
       "    <tr>\n",
       "      <th>26</th>\n",
       "      <td>CZE</td>\n",
       "      <td>3</td>\n",
       "    </tr>\n",
       "    <tr>\n",
       "      <th>27</th>\n",
       "      <td>LTU</td>\n",
       "      <td>3</td>\n",
       "    </tr>\n",
       "    <tr>\n",
       "      <th>28</th>\n",
       "      <td>KOR</td>\n",
       "      <td>3</td>\n",
       "    </tr>\n",
       "    <tr>\n",
       "      <th>29</th>\n",
       "      <td>IND</td>\n",
       "      <td>3</td>\n",
       "    </tr>\n",
       "    <tr>\n",
       "      <th>30</th>\n",
       "      <td>DZA</td>\n",
       "      <td>2</td>\n",
       "    </tr>\n",
       "    <tr>\n",
       "      <th>31</th>\n",
       "      <td>TUR</td>\n",
       "      <td>2</td>\n",
       "    </tr>\n",
       "    <tr>\n",
       "      <th>32</th>\n",
       "      <td>CHL</td>\n",
       "      <td>2</td>\n",
       "    </tr>\n",
       "    <tr>\n",
       "      <th>33</th>\n",
       "      <td>EST</td>\n",
       "      <td>2</td>\n",
       "    </tr>\n",
       "    <tr>\n",
       "      <th>34</th>\n",
       "      <td>MAR</td>\n",
       "      <td>2</td>\n",
       "    </tr>\n",
       "    <tr>\n",
       "      <th>35</th>\n",
       "      <td>MEX</td>\n",
       "      <td>2</td>\n",
       "    </tr>\n",
       "    <tr>\n",
       "      <th>36</th>\n",
       "      <td>SVN</td>\n",
       "      <td>2</td>\n",
       "    </tr>\n",
       "    <tr>\n",
       "      <th>37</th>\n",
       "      <td>OMN</td>\n",
       "      <td>2</td>\n",
       "    </tr>\n",
       "    <tr>\n",
       "      <th>38</th>\n",
       "      <td>CRI</td>\n",
       "      <td>2</td>\n",
       "    </tr>\n",
       "    <tr>\n",
       "      <th>39</th>\n",
       "      <td>MOZ</td>\n",
       "      <td>2</td>\n",
       "    </tr>\n",
       "    <tr>\n",
       "      <th>40</th>\n",
       "      <td>ZAF</td>\n",
       "      <td>2</td>\n",
       "    </tr>\n",
       "    <tr>\n",
       "      <th>41</th>\n",
       "      <td>ISR</td>\n",
       "      <td>1</td>\n",
       "    </tr>\n",
       "    <tr>\n",
       "      <th>42</th>\n",
       "      <td>ZWE</td>\n",
       "      <td>1</td>\n",
       "    </tr>\n",
       "    <tr>\n",
       "      <th>43</th>\n",
       "      <td>CPV</td>\n",
       "      <td>1</td>\n",
       "    </tr>\n",
       "    <tr>\n",
       "      <th>44</th>\n",
       "      <td>ZMB</td>\n",
       "      <td>1</td>\n",
       "    </tr>\n",
       "    <tr>\n",
       "      <th>45</th>\n",
       "      <td>CYM</td>\n",
       "      <td>1</td>\n",
       "    </tr>\n",
       "    <tr>\n",
       "      <th>46</th>\n",
       "      <td>SRB</td>\n",
       "      <td>1</td>\n",
       "    </tr>\n",
       "    <tr>\n",
       "      <th>47</th>\n",
       "      <td>AGO</td>\n",
       "      <td>1</td>\n",
       "    </tr>\n",
       "    <tr>\n",
       "      <th>48</th>\n",
       "      <td>BLR</td>\n",
       "      <td>1</td>\n",
       "    </tr>\n",
       "    <tr>\n",
       "      <th>49</th>\n",
       "      <td>PRI</td>\n",
       "      <td>1</td>\n",
       "    </tr>\n",
       "    <tr>\n",
       "      <th>50</th>\n",
       "      <td>GRC</td>\n",
       "      <td>1</td>\n",
       "    </tr>\n",
       "    <tr>\n",
       "      <th>51</th>\n",
       "      <td>SMR</td>\n",
       "      <td>1</td>\n",
       "    </tr>\n",
       "    <tr>\n",
       "      <th>52</th>\n",
       "      <td>UKR</td>\n",
       "      <td>1</td>\n",
       "    </tr>\n",
       "    <tr>\n",
       "      <th>53</th>\n",
       "      <td>ALB</td>\n",
       "      <td>1</td>\n",
       "    </tr>\n",
       "    <tr>\n",
       "      <th>54</th>\n",
       "      <td>BWA</td>\n",
       "      <td>1</td>\n",
       "    </tr>\n",
       "    <tr>\n",
       "      <th>55</th>\n",
       "      <td>HUN</td>\n",
       "      <td>1</td>\n",
       "    </tr>\n",
       "  </tbody>\n",
       "</table>\n",
       "</div>"
      ],
      "text/plain": [
       "   country  count\n",
       "0      PRT   3176\n",
       "1      ESP    550\n",
       "2      GBR    505\n",
       "3      IRL    172\n",
       "4      FRA    113\n",
       "5      DEU     89\n",
       "6      NLD     55\n",
       "7       CN     33\n",
       "8      BEL     29\n",
       "9      USA     28\n",
       "10     POL     28\n",
       "11     CHE     26\n",
       "12     RUS     23\n",
       "13     ITA     23\n",
       "14     BRA     18\n",
       "15     ROU     12\n",
       "16     AUT     12\n",
       "17     LUX     10\n",
       "18     FIN      9\n",
       "19     SWE      8\n",
       "20     DNK      6\n",
       "21     ARG      6\n",
       "22     LVA      6\n",
       "23     NOR      5\n",
       "24     CHN      5\n",
       "25     AUS      4\n",
       "26     CZE      3\n",
       "27     LTU      3\n",
       "28     KOR      3\n",
       "29     IND      3\n",
       "30     DZA      2\n",
       "31     TUR      2\n",
       "32     CHL      2\n",
       "33     EST      2\n",
       "34     MAR      2\n",
       "35     MEX      2\n",
       "36     SVN      2\n",
       "37     OMN      2\n",
       "38     CRI      2\n",
       "39     MOZ      2\n",
       "40     ZAF      2\n",
       "41     ISR      1\n",
       "42     ZWE      1\n",
       "43     CPV      1\n",
       "44     ZMB      1\n",
       "45     CYM      1\n",
       "46     SRB      1\n",
       "47     AGO      1\n",
       "48     BLR      1\n",
       "49     PRI      1\n",
       "50     GRC      1\n",
       "51     SMR      1\n",
       "52     UKR      1\n",
       "53     ALB      1\n",
       "54     BWA      1\n",
       "55     HUN      1"
      ]
     },
     "execution_count": 175,
     "metadata": {},
     "output_type": "execute_result"
    }
   ],
   "source": [
    "df['country'].value_counts().reset_index().rename(columns={'country':'count','index':'country'})"
   ]
  },
  {
   "cell_type": "code",
   "execution_count": 176,
   "id": "7bb49aab",
   "metadata": {
    "ExecuteTime": {
     "end_time": "2022-03-30T07:46:44.171834Z",
     "start_time": "2022-03-30T07:46:44.151392Z"
    }
   },
   "outputs": [
    {
     "data": {
      "text/html": [
       "<div>\n",
       "<style scoped>\n",
       "    .dataframe tbody tr th:only-of-type {\n",
       "        vertical-align: middle;\n",
       "    }\n",
       "\n",
       "    .dataframe tbody tr th {\n",
       "        vertical-align: top;\n",
       "    }\n",
       "\n",
       "    .dataframe thead th {\n",
       "        text-align: right;\n",
       "    }\n",
       "</style>\n",
       "<table border=\"1\" class=\"dataframe\">\n",
       "  <thead>\n",
       "    <tr style=\"text-align: right;\">\n",
       "      <th></th>\n",
       "      <th>country</th>\n",
       "      <th>count</th>\n",
       "    </tr>\n",
       "  </thead>\n",
       "  <tbody>\n",
       "    <tr>\n",
       "      <th>0</th>\n",
       "      <td>PRT</td>\n",
       "      <td>3176</td>\n",
       "    </tr>\n",
       "    <tr>\n",
       "      <th>1</th>\n",
       "      <td>ESP</td>\n",
       "      <td>550</td>\n",
       "    </tr>\n",
       "    <tr>\n",
       "      <th>2</th>\n",
       "      <td>GBR</td>\n",
       "      <td>505</td>\n",
       "    </tr>\n",
       "    <tr>\n",
       "      <th>3</th>\n",
       "      <td>IRL</td>\n",
       "      <td>172</td>\n",
       "    </tr>\n",
       "    <tr>\n",
       "      <th>4</th>\n",
       "      <td>FRA</td>\n",
       "      <td>113</td>\n",
       "    </tr>\n",
       "    <tr>\n",
       "      <th>5</th>\n",
       "      <td>DEU</td>\n",
       "      <td>89</td>\n",
       "    </tr>\n",
       "    <tr>\n",
       "      <th>6</th>\n",
       "      <td>NLD</td>\n",
       "      <td>55</td>\n",
       "    </tr>\n",
       "    <tr>\n",
       "      <th>7</th>\n",
       "      <td>CN</td>\n",
       "      <td>33</td>\n",
       "    </tr>\n",
       "    <tr>\n",
       "      <th>8</th>\n",
       "      <td>BEL</td>\n",
       "      <td>29</td>\n",
       "    </tr>\n",
       "    <tr>\n",
       "      <th>9</th>\n",
       "      <td>USA</td>\n",
       "      <td>28</td>\n",
       "    </tr>\n",
       "    <tr>\n",
       "      <th>10</th>\n",
       "      <td>POL</td>\n",
       "      <td>28</td>\n",
       "    </tr>\n",
       "    <tr>\n",
       "      <th>11</th>\n",
       "      <td>CHE</td>\n",
       "      <td>26</td>\n",
       "    </tr>\n",
       "    <tr>\n",
       "      <th>12</th>\n",
       "      <td>RUS</td>\n",
       "      <td>23</td>\n",
       "    </tr>\n",
       "    <tr>\n",
       "      <th>13</th>\n",
       "      <td>ITA</td>\n",
       "      <td>23</td>\n",
       "    </tr>\n",
       "    <tr>\n",
       "      <th>14</th>\n",
       "      <td>BRA</td>\n",
       "      <td>18</td>\n",
       "    </tr>\n",
       "    <tr>\n",
       "      <th>15</th>\n",
       "      <td>ROU</td>\n",
       "      <td>12</td>\n",
       "    </tr>\n",
       "    <tr>\n",
       "      <th>16</th>\n",
       "      <td>AUT</td>\n",
       "      <td>12</td>\n",
       "    </tr>\n",
       "    <tr>\n",
       "      <th>17</th>\n",
       "      <td>LUX</td>\n",
       "      <td>10</td>\n",
       "    </tr>\n",
       "  </tbody>\n",
       "</table>\n",
       "</div>"
      ],
      "text/plain": [
       "   country  count\n",
       "0      PRT   3176\n",
       "1      ESP    550\n",
       "2      GBR    505\n",
       "3      IRL    172\n",
       "4      FRA    113\n",
       "5      DEU     89\n",
       "6      NLD     55\n",
       "7       CN     33\n",
       "8      BEL     29\n",
       "9      USA     28\n",
       "10     POL     28\n",
       "11     CHE     26\n",
       "12     RUS     23\n",
       "13     ITA     23\n",
       "14     BRA     18\n",
       "15     ROU     12\n",
       "16     AUT     12\n",
       "17     LUX     10"
      ]
     },
     "execution_count": 176,
     "metadata": {},
     "output_type": "execute_result"
    }
   ],
   "source": [
    "tab2=df['country'].value_counts().reset_index().rename(columns={'country':'count','index':'country'})[:18]\n",
    "tab2 # Countries with minimum order of 10"
   ]
  },
  {
   "cell_type": "code",
   "execution_count": 177,
   "id": "cfb17bbf",
   "metadata": {
    "ExecuteTime": {
     "end_time": "2022-03-30T07:46:44.530497Z",
     "start_time": "2022-03-30T07:46:44.492531Z"
    }
   },
   "outputs": [
    {
     "data": {
      "text/html": [
       "<div>\n",
       "<style scoped>\n",
       "    .dataframe tbody tr th:only-of-type {\n",
       "        vertical-align: middle;\n",
       "    }\n",
       "\n",
       "    .dataframe tbody tr th {\n",
       "        vertical-align: top;\n",
       "    }\n",
       "\n",
       "    .dataframe thead th {\n",
       "        text-align: right;\n",
       "    }\n",
       "</style>\n",
       "<table border=\"1\" class=\"dataframe\">\n",
       "  <thead>\n",
       "    <tr style=\"text-align: right;\">\n",
       "      <th></th>\n",
       "      <th>is_canceled</th>\n",
       "      <th>adults</th>\n",
       "      <th>children</th>\n",
       "      <th>babies</th>\n",
       "      <th>meal</th>\n",
       "      <th>country</th>\n",
       "      <th>market_segment</th>\n",
       "      <th>distribution_channel</th>\n",
       "      <th>reserved_room_type</th>\n",
       "      <th>booking_changes</th>\n",
       "      <th>deposit_type</th>\n",
       "      <th>days_in_waiting_list</th>\n",
       "      <th>customer_type</th>\n",
       "      <th>required_car_parking_spaces</th>\n",
       "      <th>total_of_special_requests</th>\n",
       "    </tr>\n",
       "  </thead>\n",
       "  <tbody>\n",
       "    <tr>\n",
       "      <th>0</th>\n",
       "      <td>0</td>\n",
       "      <td>2</td>\n",
       "      <td>0.0</td>\n",
       "      <td>0</td>\n",
       "      <td>BB</td>\n",
       "      <td>PRT</td>\n",
       "      <td>Direct</td>\n",
       "      <td>Direct</td>\n",
       "      <td>C</td>\n",
       "      <td>3</td>\n",
       "      <td>No Deposit</td>\n",
       "      <td>0</td>\n",
       "      <td>Transient</td>\n",
       "      <td>0</td>\n",
       "      <td>0</td>\n",
       "    </tr>\n",
       "    <tr>\n",
       "      <th>1</th>\n",
       "      <td>0</td>\n",
       "      <td>2</td>\n",
       "      <td>0.0</td>\n",
       "      <td>0</td>\n",
       "      <td>BB</td>\n",
       "      <td>PRT</td>\n",
       "      <td>Direct</td>\n",
       "      <td>Direct</td>\n",
       "      <td>C</td>\n",
       "      <td>4</td>\n",
       "      <td>No Deposit</td>\n",
       "      <td>0</td>\n",
       "      <td>Transient</td>\n",
       "      <td>0</td>\n",
       "      <td>0</td>\n",
       "    </tr>\n",
       "    <tr>\n",
       "      <th>2</th>\n",
       "      <td>0</td>\n",
       "      <td>1</td>\n",
       "      <td>0.0</td>\n",
       "      <td>0</td>\n",
       "      <td>BB</td>\n",
       "      <td>GBR</td>\n",
       "      <td>Direct</td>\n",
       "      <td>Direct</td>\n",
       "      <td>A</td>\n",
       "      <td>0</td>\n",
       "      <td>No Deposit</td>\n",
       "      <td>0</td>\n",
       "      <td>Transient</td>\n",
       "      <td>0</td>\n",
       "      <td>0</td>\n",
       "    </tr>\n",
       "    <tr>\n",
       "      <th>3</th>\n",
       "      <td>0</td>\n",
       "      <td>1</td>\n",
       "      <td>0.0</td>\n",
       "      <td>0</td>\n",
       "      <td>BB</td>\n",
       "      <td>GBR</td>\n",
       "      <td>Corporate</td>\n",
       "      <td>Corporate</td>\n",
       "      <td>A</td>\n",
       "      <td>0</td>\n",
       "      <td>No Deposit</td>\n",
       "      <td>0</td>\n",
       "      <td>Transient</td>\n",
       "      <td>0</td>\n",
       "      <td>0</td>\n",
       "    </tr>\n",
       "    <tr>\n",
       "      <th>4</th>\n",
       "      <td>0</td>\n",
       "      <td>2</td>\n",
       "      <td>0.0</td>\n",
       "      <td>0</td>\n",
       "      <td>BB</td>\n",
       "      <td>GBR</td>\n",
       "      <td>Online TA</td>\n",
       "      <td>TA/TO</td>\n",
       "      <td>A</td>\n",
       "      <td>0</td>\n",
       "      <td>No Deposit</td>\n",
       "      <td>0</td>\n",
       "      <td>Transient</td>\n",
       "      <td>0</td>\n",
       "      <td>1</td>\n",
       "    </tr>\n",
       "    <tr>\n",
       "      <th>...</th>\n",
       "      <td>...</td>\n",
       "      <td>...</td>\n",
       "      <td>...</td>\n",
       "      <td>...</td>\n",
       "      <td>...</td>\n",
       "      <td>...</td>\n",
       "      <td>...</td>\n",
       "      <td>...</td>\n",
       "      <td>...</td>\n",
       "      <td>...</td>\n",
       "      <td>...</td>\n",
       "      <td>...</td>\n",
       "      <td>...</td>\n",
       "      <td>...</td>\n",
       "      <td>...</td>\n",
       "    </tr>\n",
       "    <tr>\n",
       "      <th>4995</th>\n",
       "      <td>1</td>\n",
       "      <td>2</td>\n",
       "      <td>0.0</td>\n",
       "      <td>0</td>\n",
       "      <td>HB</td>\n",
       "      <td>PRT</td>\n",
       "      <td>Groups</td>\n",
       "      <td>Direct</td>\n",
       "      <td>D</td>\n",
       "      <td>0</td>\n",
       "      <td>Non Refund</td>\n",
       "      <td>0</td>\n",
       "      <td>Transient</td>\n",
       "      <td>0</td>\n",
       "      <td>0</td>\n",
       "    </tr>\n",
       "    <tr>\n",
       "      <th>4996</th>\n",
       "      <td>1</td>\n",
       "      <td>2</td>\n",
       "      <td>0.0</td>\n",
       "      <td>0</td>\n",
       "      <td>HB</td>\n",
       "      <td>PRT</td>\n",
       "      <td>Groups</td>\n",
       "      <td>Direct</td>\n",
       "      <td>D</td>\n",
       "      <td>0</td>\n",
       "      <td>Non Refund</td>\n",
       "      <td>0</td>\n",
       "      <td>Transient</td>\n",
       "      <td>0</td>\n",
       "      <td>0</td>\n",
       "    </tr>\n",
       "    <tr>\n",
       "      <th>4997</th>\n",
       "      <td>1</td>\n",
       "      <td>2</td>\n",
       "      <td>0.0</td>\n",
       "      <td>0</td>\n",
       "      <td>HB</td>\n",
       "      <td>PRT</td>\n",
       "      <td>Groups</td>\n",
       "      <td>Direct</td>\n",
       "      <td>A</td>\n",
       "      <td>0</td>\n",
       "      <td>Non Refund</td>\n",
       "      <td>0</td>\n",
       "      <td>Transient</td>\n",
       "      <td>0</td>\n",
       "      <td>0</td>\n",
       "    </tr>\n",
       "    <tr>\n",
       "      <th>4998</th>\n",
       "      <td>1</td>\n",
       "      <td>2</td>\n",
       "      <td>0.0</td>\n",
       "      <td>0</td>\n",
       "      <td>HB</td>\n",
       "      <td>PRT</td>\n",
       "      <td>Groups</td>\n",
       "      <td>Direct</td>\n",
       "      <td>A</td>\n",
       "      <td>0</td>\n",
       "      <td>Non Refund</td>\n",
       "      <td>0</td>\n",
       "      <td>Transient</td>\n",
       "      <td>0</td>\n",
       "      <td>0</td>\n",
       "    </tr>\n",
       "    <tr>\n",
       "      <th>4999</th>\n",
       "      <td>1</td>\n",
       "      <td>2</td>\n",
       "      <td>0.0</td>\n",
       "      <td>0</td>\n",
       "      <td>HB</td>\n",
       "      <td>PRT</td>\n",
       "      <td>Groups</td>\n",
       "      <td>Direct</td>\n",
       "      <td>D</td>\n",
       "      <td>0</td>\n",
       "      <td>Non Refund</td>\n",
       "      <td>0</td>\n",
       "      <td>Transient</td>\n",
       "      <td>0</td>\n",
       "      <td>0</td>\n",
       "    </tr>\n",
       "  </tbody>\n",
       "</table>\n",
       "<p>4902 rows × 15 columns</p>\n",
       "</div>"
      ],
      "text/plain": [
       "      is_canceled  adults  children  babies meal country market_segment  \\\n",
       "0               0       2       0.0       0   BB     PRT         Direct   \n",
       "1               0       2       0.0       0   BB     PRT         Direct   \n",
       "2               0       1       0.0       0   BB     GBR         Direct   \n",
       "3               0       1       0.0       0   BB     GBR      Corporate   \n",
       "4               0       2       0.0       0   BB     GBR      Online TA   \n",
       "...           ...     ...       ...     ...  ...     ...            ...   \n",
       "4995            1       2       0.0       0   HB     PRT         Groups   \n",
       "4996            1       2       0.0       0   HB     PRT         Groups   \n",
       "4997            1       2       0.0       0   HB     PRT         Groups   \n",
       "4998            1       2       0.0       0   HB     PRT         Groups   \n",
       "4999            1       2       0.0       0   HB     PRT         Groups   \n",
       "\n",
       "     distribution_channel reserved_room_type  booking_changes deposit_type  \\\n",
       "0                  Direct                  C                3   No Deposit   \n",
       "1                  Direct                  C                4   No Deposit   \n",
       "2                  Direct                  A                0   No Deposit   \n",
       "3               Corporate                  A                0   No Deposit   \n",
       "4                   TA/TO                  A                0   No Deposit   \n",
       "...                   ...                ...              ...          ...   \n",
       "4995               Direct                  D                0   Non Refund   \n",
       "4996               Direct                  D                0   Non Refund   \n",
       "4997               Direct                  A                0   Non Refund   \n",
       "4998               Direct                  A                0   Non Refund   \n",
       "4999               Direct                  D                0   Non Refund   \n",
       "\n",
       "      days_in_waiting_list customer_type  required_car_parking_spaces  \\\n",
       "0                        0     Transient                            0   \n",
       "1                        0     Transient                            0   \n",
       "2                        0     Transient                            0   \n",
       "3                        0     Transient                            0   \n",
       "4                        0     Transient                            0   \n",
       "...                    ...           ...                          ...   \n",
       "4995                     0     Transient                            0   \n",
       "4996                     0     Transient                            0   \n",
       "4997                     0     Transient                            0   \n",
       "4998                     0     Transient                            0   \n",
       "4999                     0     Transient                            0   \n",
       "\n",
       "      total_of_special_requests  \n",
       "0                             0  \n",
       "1                             0  \n",
       "2                             0  \n",
       "3                             0  \n",
       "4                             1  \n",
       "...                         ...  \n",
       "4995                          0  \n",
       "4996                          0  \n",
       "4997                          0  \n",
       "4998                          0  \n",
       "4999                          0  \n",
       "\n",
       "[4902 rows x 15 columns]"
      ]
     },
     "execution_count": 177,
     "metadata": {},
     "output_type": "execute_result"
    }
   ],
   "source": [
    "dfcountry=df.loc[df['country'].isin(list(tab2['country']))]\n",
    "dfcountry"
   ]
  },
  {
   "cell_type": "code",
   "execution_count": 178,
   "id": "164a1b4b",
   "metadata": {
    "ExecuteTime": {
     "end_time": "2022-03-30T07:46:45.398828Z",
     "start_time": "2022-03-30T07:46:44.920919Z"
    }
   },
   "outputs": [
    {
     "data": {
      "image/png": "[encoded data removed]",
      "text/plain": [
       "<Figure size 432x288 with 1 Axes>"
      ]
     },
     "metadata": {
      "needs_background": "light"
     },
     "output_type": "display_data"
    }
   ],
   "source": [
    "sns.countplot(data=dfcountry,x='country',hue='is_canceled')\n",
    "plt.legend(loc='upper right')\n",
    "plt.xticks(rotation=45)\n",
    "plt.show()"
   ]
  },
  {
   "cell_type": "code",
   "execution_count": 179,
   "id": "4c80fcbd",
   "metadata": {
    "ExecuteTime": {
     "end_time": "2022-03-30T07:46:45.567259Z",
     "start_time": "2022-03-30T07:46:45.526335Z"
    }
   },
   "outputs": [
    {
     "data": {
      "text/html": [
       "<div>\n",
       "<style scoped>\n",
       "    .dataframe tbody tr th:only-of-type {\n",
       "        vertical-align: middle;\n",
       "    }\n",
       "\n",
       "    .dataframe tbody tr th {\n",
       "        vertical-align: top;\n",
       "    }\n",
       "\n",
       "    .dataframe thead th {\n",
       "        text-align: right;\n",
       "    }\n",
       "</style>\n",
       "<table border=\"1\" class=\"dataframe\">\n",
       "  <thead>\n",
       "    <tr style=\"text-align: right;\">\n",
       "      <th>country</th>\n",
       "      <th>AUT</th>\n",
       "      <th>BEL</th>\n",
       "      <th>BRA</th>\n",
       "      <th>CHE</th>\n",
       "      <th>CN</th>\n",
       "      <th>DEU</th>\n",
       "      <th>ESP</th>\n",
       "      <th>FRA</th>\n",
       "      <th>GBR</th>\n",
       "      <th>IRL</th>\n",
       "      <th>ITA</th>\n",
       "      <th>LUX</th>\n",
       "      <th>NLD</th>\n",
       "      <th>POL</th>\n",
       "      <th>PRT</th>\n",
       "      <th>ROU</th>\n",
       "      <th>RUS</th>\n",
       "      <th>USA</th>\n",
       "    </tr>\n",
       "    <tr>\n",
       "      <th>is_canceled</th>\n",
       "      <th></th>\n",
       "      <th></th>\n",
       "      <th></th>\n",
       "      <th></th>\n",
       "      <th></th>\n",
       "      <th></th>\n",
       "      <th></th>\n",
       "      <th></th>\n",
       "      <th></th>\n",
       "      <th></th>\n",
       "      <th></th>\n",
       "      <th></th>\n",
       "      <th></th>\n",
       "      <th></th>\n",
       "      <th></th>\n",
       "      <th></th>\n",
       "      <th></th>\n",
       "      <th></th>\n",
       "    </tr>\n",
       "  </thead>\n",
       "  <tbody>\n",
       "    <tr>\n",
       "      <th>0</th>\n",
       "      <td>12</td>\n",
       "      <td>29</td>\n",
       "      <td>18</td>\n",
       "      <td>26</td>\n",
       "      <td>20</td>\n",
       "      <td>86</td>\n",
       "      <td>506</td>\n",
       "      <td>111</td>\n",
       "      <td>467</td>\n",
       "      <td>167</td>\n",
       "      <td>20</td>\n",
       "      <td>10</td>\n",
       "      <td>55</td>\n",
       "      <td>28</td>\n",
       "      <td>986</td>\n",
       "      <td>12</td>\n",
       "      <td>23</td>\n",
       "      <td>28</td>\n",
       "    </tr>\n",
       "    <tr>\n",
       "      <th>1</th>\n",
       "      <td>0</td>\n",
       "      <td>0</td>\n",
       "      <td>0</td>\n",
       "      <td>0</td>\n",
       "      <td>13</td>\n",
       "      <td>3</td>\n",
       "      <td>44</td>\n",
       "      <td>2</td>\n",
       "      <td>38</td>\n",
       "      <td>5</td>\n",
       "      <td>3</td>\n",
       "      <td>0</td>\n",
       "      <td>0</td>\n",
       "      <td>0</td>\n",
       "      <td>2190</td>\n",
       "      <td>0</td>\n",
       "      <td>0</td>\n",
       "      <td>0</td>\n",
       "    </tr>\n",
       "  </tbody>\n",
       "</table>\n",
       "</div>"
      ],
      "text/plain": [
       "country      AUT  BEL  BRA  CHE  CN  DEU  ESP  FRA  GBR  IRL  ITA  LUX  NLD  \\\n",
       "is_canceled                                                                   \n",
       "0             12   29   18   26  20   86  506  111  467  167   20   10   55   \n",
       "1              0    0    0    0  13    3   44    2   38    5    3    0    0   \n",
       "\n",
       "country      POL   PRT  ROU  RUS  USA  \n",
       "is_canceled                            \n",
       "0             28   986   12   23   28  \n",
       "1              0  2190    0    0    0  "
      ]
     },
     "execution_count": 179,
     "metadata": {},
     "output_type": "execute_result"
    }
   ],
   "source": [
    "pd.crosstab(dfcountry['is_canceled'],dfcountry['country'])"
   ]
  },
  {
   "cell_type": "code",
   "execution_count": 180,
   "id": "ca040d24",
   "metadata": {
    "ExecuteTime": {
     "end_time": "2022-03-30T07:46:45.818396Z",
     "start_time": "2022-03-30T07:46:45.764803Z"
    }
   },
   "outputs": [
    {
     "data": {
      "text/html": [
       "<div>\n",
       "<style scoped>\n",
       "    .dataframe tbody tr th:only-of-type {\n",
       "        vertical-align: middle;\n",
       "    }\n",
       "\n",
       "    .dataframe tbody tr th {\n",
       "        vertical-align: top;\n",
       "    }\n",
       "\n",
       "    .dataframe thead th {\n",
       "        text-align: right;\n",
       "    }\n",
       "</style>\n",
       "<table border=\"1\" class=\"dataframe\">\n",
       "  <thead>\n",
       "    <tr style=\"text-align: right;\">\n",
       "      <th>country</th>\n",
       "      <th>AUT</th>\n",
       "      <th>BEL</th>\n",
       "      <th>BRA</th>\n",
       "      <th>CHE</th>\n",
       "      <th>CN</th>\n",
       "      <th>DEU</th>\n",
       "      <th>ESP</th>\n",
       "      <th>FRA</th>\n",
       "      <th>GBR</th>\n",
       "      <th>IRL</th>\n",
       "      <th>ITA</th>\n",
       "      <th>LUX</th>\n",
       "      <th>NLD</th>\n",
       "      <th>POL</th>\n",
       "      <th>PRT</th>\n",
       "      <th>ROU</th>\n",
       "      <th>RUS</th>\n",
       "      <th>USA</th>\n",
       "    </tr>\n",
       "    <tr>\n",
       "      <th>is_canceled</th>\n",
       "      <th></th>\n",
       "      <th></th>\n",
       "      <th></th>\n",
       "      <th></th>\n",
       "      <th></th>\n",
       "      <th></th>\n",
       "      <th></th>\n",
       "      <th></th>\n",
       "      <th></th>\n",
       "      <th></th>\n",
       "      <th></th>\n",
       "      <th></th>\n",
       "      <th></th>\n",
       "      <th></th>\n",
       "      <th></th>\n",
       "      <th></th>\n",
       "      <th></th>\n",
       "      <th></th>\n",
       "    </tr>\n",
       "  </thead>\n",
       "  <tbody>\n",
       "    <tr>\n",
       "      <th>0</th>\n",
       "      <td>1.0</td>\n",
       "      <td>1.0</td>\n",
       "      <td>1.0</td>\n",
       "      <td>1.0</td>\n",
       "      <td>0.606061</td>\n",
       "      <td>0.966292</td>\n",
       "      <td>0.92</td>\n",
       "      <td>0.982301</td>\n",
       "      <td>0.924752</td>\n",
       "      <td>0.97093</td>\n",
       "      <td>0.869565</td>\n",
       "      <td>1.0</td>\n",
       "      <td>1.0</td>\n",
       "      <td>1.0</td>\n",
       "      <td>0.310453</td>\n",
       "      <td>1.0</td>\n",
       "      <td>1.0</td>\n",
       "      <td>1.0</td>\n",
       "    </tr>\n",
       "    <tr>\n",
       "      <th>1</th>\n",
       "      <td>0.0</td>\n",
       "      <td>0.0</td>\n",
       "      <td>0.0</td>\n",
       "      <td>0.0</td>\n",
       "      <td>0.393939</td>\n",
       "      <td>0.033708</td>\n",
       "      <td>0.08</td>\n",
       "      <td>0.017699</td>\n",
       "      <td>0.075248</td>\n",
       "      <td>0.02907</td>\n",
       "      <td>0.130435</td>\n",
       "      <td>0.0</td>\n",
       "      <td>0.0</td>\n",
       "      <td>0.0</td>\n",
       "      <td>0.689547</td>\n",
       "      <td>0.0</td>\n",
       "      <td>0.0</td>\n",
       "      <td>0.0</td>\n",
       "    </tr>\n",
       "  </tbody>\n",
       "</table>\n",
       "</div>"
      ],
      "text/plain": [
       "country      AUT  BEL  BRA  CHE        CN       DEU   ESP       FRA       GBR  \\\n",
       "is_canceled                                                                     \n",
       "0            1.0  1.0  1.0  1.0  0.606061  0.966292  0.92  0.982301  0.924752   \n",
       "1            0.0  0.0  0.0  0.0  0.393939  0.033708  0.08  0.017699  0.075248   \n",
       "\n",
       "country          IRL       ITA  LUX  NLD  POL       PRT  ROU  RUS  USA  \n",
       "is_canceled                                                             \n",
       "0            0.97093  0.869565  1.0  1.0  1.0  0.310453  1.0  1.0  1.0  \n",
       "1            0.02907  0.130435  0.0  0.0  0.0  0.689547  0.0  0.0  0.0  "
      ]
     },
     "execution_count": 180,
     "metadata": {},
     "output_type": "execute_result"
    }
   ],
   "source": [
    "pd.crosstab(dfcountry['is_canceled'],dfcountry['country'],normalize='columns')"
   ]
  },
  {
   "cell_type": "markdown",
   "id": "89e4d9fd",
   "metadata": {},
   "source": [
    "Booking cancelation rate in PRT was much higher compared to other country."
   ]
  },
  {
   "cell_type": "markdown",
   "id": "4575484a",
   "metadata": {},
   "source": [
    "# Splitting Data"
   ]
  },
  {
   "cell_type": "code",
   "execution_count": 181,
   "id": "e75a358c",
   "metadata": {
    "ExecuteTime": {
     "end_time": "2022-03-30T07:46:57.142287Z",
     "start_time": "2022-03-30T07:46:46.300375Z"
    }
   },
   "outputs": [],
   "source": [
    "from sklearn.model_selection import train_test_split"
   ]
  },
  {
   "cell_type": "code",
   "execution_count": 182,
   "id": "09fd327f",
   "metadata": {
    "ExecuteTime": {
     "end_time": "2022-03-30T07:46:57.279468Z",
     "start_time": "2022-03-30T07:46:57.270708Z"
    }
   },
   "outputs": [],
   "source": [
    "x=df[['adults', 'children', 'babies', 'meal', 'country', 'market_segment', 'distribution_channel', 'reserved_room_type', \n",
    "     'booking_changes', 'deposit_type', 'days_in_waiting_list', 'customer_type', 'required_car_parking_spaces', \n",
    "     'total_of_special_requests']]\n",
    "y=df['is_canceled']"
   ]
  },
  {
   "cell_type": "code",
   "execution_count": 183,
   "id": "a4a7f3e1",
   "metadata": {
    "ExecuteTime": {
     "end_time": "2022-03-30T07:46:57.447854Z",
     "start_time": "2022-03-30T07:46:57.431304Z"
    }
   },
   "outputs": [],
   "source": [
    "x_train, x_test, y_train, y_test=train_test_split(x,y,stratify=y,test_size=0.2,random_state=2020)"
   ]
  },
  {
   "cell_type": "markdown",
   "id": "8623bad5",
   "metadata": {},
   "source": [
    "# Preprocessing"
   ]
  },
  {
   "cell_type": "code",
   "execution_count": 184,
   "id": "241280eb",
   "metadata": {
    "ExecuteTime": {
     "end_time": "2022-03-30T07:46:58.114582Z",
     "start_time": "2022-03-30T07:46:57.645437Z"
    }
   },
   "outputs": [],
   "source": [
    "from sklearn.compose import ColumnTransformer\n",
    "from sklearn.pipeline import Pipeline\n",
    "\n",
    "import category_encoders as ce\n",
    "from sklearn.preprocessing import OneHotEncoder\n",
    "from sklearn.preprocessing import RobustScaler"
   ]
  },
  {
   "cell_type": "code",
   "execution_count": 185,
   "id": "d39a2e89",
   "metadata": {
    "ExecuteTime": {
     "end_time": "2022-03-30T07:46:58.364784Z",
     "start_time": "2022-03-30T07:46:58.316062Z"
    }
   },
   "outputs": [
    {
     "data": {
      "text/html": [
       "<div>\n",
       "<style scoped>\n",
       "    .dataframe tbody tr th:only-of-type {\n",
       "        vertical-align: middle;\n",
       "    }\n",
       "\n",
       "    .dataframe tbody tr th {\n",
       "        vertical-align: top;\n",
       "    }\n",
       "\n",
       "    .dataframe thead th {\n",
       "        text-align: right;\n",
       "    }\n",
       "</style>\n",
       "<table border=\"1\" class=\"dataframe\">\n",
       "  <thead>\n",
       "    <tr style=\"text-align: right;\">\n",
       "      <th></th>\n",
       "      <th>is_canceled</th>\n",
       "      <th>adults</th>\n",
       "      <th>children</th>\n",
       "      <th>babies</th>\n",
       "      <th>booking_changes</th>\n",
       "      <th>days_in_waiting_list</th>\n",
       "      <th>required_car_parking_spaces</th>\n",
       "      <th>total_of_special_requests</th>\n",
       "    </tr>\n",
       "  </thead>\n",
       "  <tbody>\n",
       "    <tr>\n",
       "      <th>count</th>\n",
       "      <td>5000.000000</td>\n",
       "      <td>5000.000000</td>\n",
       "      <td>5000.000000</td>\n",
       "      <td>5000.000000</td>\n",
       "      <td>5000.000000</td>\n",
       "      <td>5000.000000</td>\n",
       "      <td>5000.000000</td>\n",
       "      <td>5000.000000</td>\n",
       "    </tr>\n",
       "    <tr>\n",
       "      <th>mean</th>\n",
       "      <td>0.459600</td>\n",
       "      <td>1.971800</td>\n",
       "      <td>0.115600</td>\n",
       "      <td>0.014800</td>\n",
       "      <td>0.207200</td>\n",
       "      <td>1.772000</td>\n",
       "      <td>0.093800</td>\n",
       "      <td>0.602000</td>\n",
       "    </tr>\n",
       "    <tr>\n",
       "      <th>std</th>\n",
       "      <td>0.498415</td>\n",
       "      <td>1.565086</td>\n",
       "      <td>0.444833</td>\n",
       "      <td>0.122409</td>\n",
       "      <td>0.612489</td>\n",
       "      <td>13.545358</td>\n",
       "      <td>0.292948</td>\n",
       "      <td>0.823245</td>\n",
       "    </tr>\n",
       "    <tr>\n",
       "      <th>min</th>\n",
       "      <td>0.000000</td>\n",
       "      <td>0.000000</td>\n",
       "      <td>0.000000</td>\n",
       "      <td>0.000000</td>\n",
       "      <td>0.000000</td>\n",
       "      <td>0.000000</td>\n",
       "      <td>0.000000</td>\n",
       "      <td>0.000000</td>\n",
       "    </tr>\n",
       "    <tr>\n",
       "      <th>25%</th>\n",
       "      <td>0.000000</td>\n",
       "      <td>2.000000</td>\n",
       "      <td>0.000000</td>\n",
       "      <td>0.000000</td>\n",
       "      <td>0.000000</td>\n",
       "      <td>0.000000</td>\n",
       "      <td>0.000000</td>\n",
       "      <td>0.000000</td>\n",
       "    </tr>\n",
       "    <tr>\n",
       "      <th>50%</th>\n",
       "      <td>0.000000</td>\n",
       "      <td>2.000000</td>\n",
       "      <td>0.000000</td>\n",
       "      <td>0.000000</td>\n",
       "      <td>0.000000</td>\n",
       "      <td>0.000000</td>\n",
       "      <td>0.000000</td>\n",
       "      <td>0.000000</td>\n",
       "    </tr>\n",
       "    <tr>\n",
       "      <th>75%</th>\n",
       "      <td>1.000000</td>\n",
       "      <td>2.000000</td>\n",
       "      <td>0.000000</td>\n",
       "      <td>0.000000</td>\n",
       "      <td>0.000000</td>\n",
       "      <td>0.000000</td>\n",
       "      <td>0.000000</td>\n",
       "      <td>1.000000</td>\n",
       "    </tr>\n",
       "    <tr>\n",
       "      <th>max</th>\n",
       "      <td>1.000000</td>\n",
       "      <td>55.000000</td>\n",
       "      <td>10.000000</td>\n",
       "      <td>2.000000</td>\n",
       "      <td>17.000000</td>\n",
       "      <td>122.000000</td>\n",
       "      <td>2.000000</td>\n",
       "      <td>4.000000</td>\n",
       "    </tr>\n",
       "  </tbody>\n",
       "</table>\n",
       "</div>"
      ],
      "text/plain": [
       "       is_canceled       adults     children       babies  booking_changes  \\\n",
       "count  5000.000000  5000.000000  5000.000000  5000.000000      5000.000000   \n",
       "mean      0.459600     1.971800     0.115600     0.014800         0.207200   \n",
       "std       0.498415     1.565086     0.444833     0.122409         0.612489   \n",
       "min       0.000000     0.000000     0.000000     0.000000         0.000000   \n",
       "25%       0.000000     2.000000     0.000000     0.000000         0.000000   \n",
       "50%       0.000000     2.000000     0.000000     0.000000         0.000000   \n",
       "75%       1.000000     2.000000     0.000000     0.000000         0.000000   \n",
       "max       1.000000    55.000000    10.000000     2.000000        17.000000   \n",
       "\n",
       "       days_in_waiting_list  required_car_parking_spaces  \\\n",
       "count           5000.000000                  5000.000000   \n",
       "mean               1.772000                     0.093800   \n",
       "std               13.545358                     0.292948   \n",
       "min                0.000000                     0.000000   \n",
       "25%                0.000000                     0.000000   \n",
       "50%                0.000000                     0.000000   \n",
       "75%                0.000000                     0.000000   \n",
       "max              122.000000                     2.000000   \n",
       "\n",
       "       total_of_special_requests  \n",
       "count                5000.000000  \n",
       "mean                    0.602000  \n",
       "std                     0.823245  \n",
       "min                     0.000000  \n",
       "25%                     0.000000  \n",
       "50%                     0.000000  \n",
       "75%                     1.000000  \n",
       "max                     4.000000  "
      ]
     },
     "execution_count": 185,
     "metadata": {},
     "output_type": "execute_result"
    }
   ],
   "source": [
    "df.describe()"
   ]
  },
  {
   "cell_type": "markdown",
   "id": "04fd9108",
   "metadata": {},
   "source": [
    "**Robust scaling**: adults, booking_changes, days_in_waiting_list"
   ]
  },
  {
   "cell_type": "code",
   "execution_count": 186,
   "id": "c3f94172",
   "metadata": {
    "ExecuteTime": {
     "end_time": "2022-03-30T07:46:58.606114Z",
     "start_time": "2022-03-30T07:46:58.565233Z"
    }
   },
   "outputs": [
    {
     "data": {
      "text/html": [
       "<div>\n",
       "<style scoped>\n",
       "    .dataframe tbody tr th:only-of-type {\n",
       "        vertical-align: middle;\n",
       "    }\n",
       "\n",
       "    .dataframe tbody tr th {\n",
       "        vertical-align: top;\n",
       "    }\n",
       "\n",
       "    .dataframe thead th {\n",
       "        text-align: right;\n",
       "    }\n",
       "</style>\n",
       "<table border=\"1\" class=\"dataframe\">\n",
       "  <thead>\n",
       "    <tr style=\"text-align: right;\">\n",
       "      <th></th>\n",
       "      <th>meal</th>\n",
       "      <th>country</th>\n",
       "      <th>market_segment</th>\n",
       "      <th>distribution_channel</th>\n",
       "      <th>reserved_room_type</th>\n",
       "      <th>deposit_type</th>\n",
       "      <th>customer_type</th>\n",
       "    </tr>\n",
       "  </thead>\n",
       "  <tbody>\n",
       "    <tr>\n",
       "      <th>count</th>\n",
       "      <td>5000</td>\n",
       "      <td>5000</td>\n",
       "      <td>5000</td>\n",
       "      <td>5000</td>\n",
       "      <td>5000</td>\n",
       "      <td>5000</td>\n",
       "      <td>5000</td>\n",
       "    </tr>\n",
       "    <tr>\n",
       "      <th>unique</th>\n",
       "      <td>5</td>\n",
       "      <td>56</td>\n",
       "      <td>6</td>\n",
       "      <td>3</td>\n",
       "      <td>9</td>\n",
       "      <td>3</td>\n",
       "      <td>4</td>\n",
       "    </tr>\n",
       "    <tr>\n",
       "      <th>top</th>\n",
       "      <td>BB</td>\n",
       "      <td>PRT</td>\n",
       "      <td>Online TA</td>\n",
       "      <td>TA/TO</td>\n",
       "      <td>A</td>\n",
       "      <td>No Deposit</td>\n",
       "      <td>Transient</td>\n",
       "    </tr>\n",
       "    <tr>\n",
       "      <th>freq</th>\n",
       "      <td>3418</td>\n",
       "      <td>3176</td>\n",
       "      <td>2167</td>\n",
       "      <td>3657</td>\n",
       "      <td>3167</td>\n",
       "      <td>4461</td>\n",
       "      <td>3708</td>\n",
       "    </tr>\n",
       "  </tbody>\n",
       "</table>\n",
       "</div>"
      ],
      "text/plain": [
       "        meal country market_segment distribution_channel reserved_room_type  \\\n",
       "count   5000    5000           5000                 5000               5000   \n",
       "unique     5      56              6                    3                  9   \n",
       "top       BB     PRT      Online TA                TA/TO                  A   \n",
       "freq    3418    3176           2167                 3657               3167   \n",
       "\n",
       "       deposit_type customer_type  \n",
       "count          5000          5000  \n",
       "unique            3             4  \n",
       "top      No Deposit     Transient  \n",
       "freq           4461          3708  "
      ]
     },
     "execution_count": 186,
     "metadata": {},
     "output_type": "execute_result"
    }
   ],
   "source": [
    "df.describe(include='object')"
   ]
  },
  {
   "cell_type": "markdown",
   "id": "baf1e2d0",
   "metadata": {},
   "source": [
    "**Binary encoding**: meal, country, market_segment, reserved_room_type  \n",
    "**One hot encoding**: distribution_channel, deposit_type, customer_type"
   ]
  },
  {
   "cell_type": "code",
   "execution_count": 187,
   "id": "3e9aafea",
   "metadata": {
    "ExecuteTime": {
     "end_time": "2022-03-30T07:46:58.817329Z",
     "start_time": "2022-03-30T07:46:58.810512Z"
    }
   },
   "outputs": [],
   "source": [
    "transformer = ColumnTransformer([\n",
    "    ('one hot',OneHotEncoder(drop='first'),['distribution_channel','deposit_type','customer_type']),\n",
    "    ('binary', ce.BinaryEncoder(), ['meal','country','market_segment','reserved_room_type']),\n",
    "    ('robust', RobustScaler(), ['adults','booking_changes','days_in_waiting_list'])\n",
    "], remainder = 'passthrough')"
   ]
  },
  {
   "cell_type": "code",
   "execution_count": 188,
   "id": "a1a0b3a0",
   "metadata": {
    "ExecuteTime": {
     "end_time": "2022-03-30T07:46:59.066526Z",
     "start_time": "2022-03-30T07:46:59.042171Z"
    }
   },
   "outputs": [
    {
     "data": {
      "text/html": [
       "<div>\n",
       "<style scoped>\n",
       "    .dataframe tbody tr th:only-of-type {\n",
       "        vertical-align: middle;\n",
       "    }\n",
       "\n",
       "    .dataframe tbody tr th {\n",
       "        vertical-align: top;\n",
       "    }\n",
       "\n",
       "    .dataframe thead th {\n",
       "        text-align: right;\n",
       "    }\n",
       "</style>\n",
       "<table border=\"1\" class=\"dataframe\">\n",
       "  <thead>\n",
       "    <tr style=\"text-align: right;\">\n",
       "      <th></th>\n",
       "      <th>is_canceled</th>\n",
       "      <th>adults</th>\n",
       "      <th>children</th>\n",
       "      <th>babies</th>\n",
       "      <th>meal</th>\n",
       "      <th>country</th>\n",
       "      <th>market_segment</th>\n",
       "      <th>distribution_channel</th>\n",
       "      <th>reserved_room_type</th>\n",
       "      <th>booking_changes</th>\n",
       "      <th>deposit_type</th>\n",
       "      <th>days_in_waiting_list</th>\n",
       "      <th>customer_type</th>\n",
       "      <th>required_car_parking_spaces</th>\n",
       "      <th>total_of_special_requests</th>\n",
       "    </tr>\n",
       "  </thead>\n",
       "  <tbody>\n",
       "    <tr>\n",
       "      <th>0</th>\n",
       "      <td>0</td>\n",
       "      <td>2</td>\n",
       "      <td>0.0</td>\n",
       "      <td>0</td>\n",
       "      <td>BB</td>\n",
       "      <td>PRT</td>\n",
       "      <td>Direct</td>\n",
       "      <td>Direct</td>\n",
       "      <td>C</td>\n",
       "      <td>3</td>\n",
       "      <td>No Deposit</td>\n",
       "      <td>0</td>\n",
       "      <td>Transient</td>\n",
       "      <td>0</td>\n",
       "      <td>0</td>\n",
       "    </tr>\n",
       "    <tr>\n",
       "      <th>1</th>\n",
       "      <td>0</td>\n",
       "      <td>2</td>\n",
       "      <td>0.0</td>\n",
       "      <td>0</td>\n",
       "      <td>BB</td>\n",
       "      <td>PRT</td>\n",
       "      <td>Direct</td>\n",
       "      <td>Direct</td>\n",
       "      <td>C</td>\n",
       "      <td>4</td>\n",
       "      <td>No Deposit</td>\n",
       "      <td>0</td>\n",
       "      <td>Transient</td>\n",
       "      <td>0</td>\n",
       "      <td>0</td>\n",
       "    </tr>\n",
       "    <tr>\n",
       "      <th>2</th>\n",
       "      <td>0</td>\n",
       "      <td>1</td>\n",
       "      <td>0.0</td>\n",
       "      <td>0</td>\n",
       "      <td>BB</td>\n",
       "      <td>GBR</td>\n",
       "      <td>Direct</td>\n",
       "      <td>Direct</td>\n",
       "      <td>A</td>\n",
       "      <td>0</td>\n",
       "      <td>No Deposit</td>\n",
       "      <td>0</td>\n",
       "      <td>Transient</td>\n",
       "      <td>0</td>\n",
       "      <td>0</td>\n",
       "    </tr>\n",
       "    <tr>\n",
       "      <th>3</th>\n",
       "      <td>0</td>\n",
       "      <td>1</td>\n",
       "      <td>0.0</td>\n",
       "      <td>0</td>\n",
       "      <td>BB</td>\n",
       "      <td>GBR</td>\n",
       "      <td>Corporate</td>\n",
       "      <td>Corporate</td>\n",
       "      <td>A</td>\n",
       "      <td>0</td>\n",
       "      <td>No Deposit</td>\n",
       "      <td>0</td>\n",
       "      <td>Transient</td>\n",
       "      <td>0</td>\n",
       "      <td>0</td>\n",
       "    </tr>\n",
       "    <tr>\n",
       "      <th>4</th>\n",
       "      <td>0</td>\n",
       "      <td>2</td>\n",
       "      <td>0.0</td>\n",
       "      <td>0</td>\n",
       "      <td>BB</td>\n",
       "      <td>GBR</td>\n",
       "      <td>Online TA</td>\n",
       "      <td>TA/TO</td>\n",
       "      <td>A</td>\n",
       "      <td>0</td>\n",
       "      <td>No Deposit</td>\n",
       "      <td>0</td>\n",
       "      <td>Transient</td>\n",
       "      <td>0</td>\n",
       "      <td>1</td>\n",
       "    </tr>\n",
       "  </tbody>\n",
       "</table>\n",
       "</div>"
      ],
      "text/plain": [
       "   is_canceled  adults  children  babies meal country market_segment  \\\n",
       "0            0       2       0.0       0   BB     PRT         Direct   \n",
       "1            0       2       0.0       0   BB     PRT         Direct   \n",
       "2            0       1       0.0       0   BB     GBR         Direct   \n",
       "3            0       1       0.0       0   BB     GBR      Corporate   \n",
       "4            0       2       0.0       0   BB     GBR      Online TA   \n",
       "\n",
       "  distribution_channel reserved_room_type  booking_changes deposit_type  \\\n",
       "0               Direct                  C                3   No Deposit   \n",
       "1               Direct                  C                4   No Deposit   \n",
       "2               Direct                  A                0   No Deposit   \n",
       "3            Corporate                  A                0   No Deposit   \n",
       "4                TA/TO                  A                0   No Deposit   \n",
       "\n",
       "   days_in_waiting_list customer_type  required_car_parking_spaces  \\\n",
       "0                     0     Transient                            0   \n",
       "1                     0     Transient                            0   \n",
       "2                     0     Transient                            0   \n",
       "3                     0     Transient                            0   \n",
       "4                     0     Transient                            0   \n",
       "\n",
       "   total_of_special_requests  \n",
       "0                          0  \n",
       "1                          0  \n",
       "2                          0  \n",
       "3                          0  \n",
       "4                          1  "
      ]
     },
     "execution_count": 188,
     "metadata": {},
     "output_type": "execute_result"
    }
   ],
   "source": [
    "df.head()"
   ]
  },
  {
   "cell_type": "code",
   "execution_count": 189,
   "id": "db24464c",
   "metadata": {
    "ExecuteTime": {
     "end_time": "2022-03-30T07:46:59.291340Z",
     "start_time": "2022-03-30T07:46:59.282579Z"
    }
   },
   "outputs": [],
   "source": [
    "x=df[['adults', 'children', 'babies', 'meal', 'country', 'market_segment', 'distribution_channel', 'reserved_room_type', \n",
    "     'booking_changes', 'deposit_type', 'days_in_waiting_list', 'customer_type', 'required_car_parking_spaces', \n",
    "     'total_of_special_requests']]"
   ]
  },
  {
   "cell_type": "markdown",
   "id": "3aa4526c",
   "metadata": {},
   "source": [
    "# Evaluation Metric"
   ]
  },
  {
   "cell_type": "markdown",
   "id": "b51030a7",
   "metadata": {},
   "source": [
    "Hotel is a service-oriented business. Thus, by predicting which person who will certainly check-in will help the managers to prepare for the arrival of the customers.  \n",
    "\n",
    "Cancelled order as our target, thus:\n",
    "1. True Positive: Predicted Cancelled, Actual Cancelled.\n",
    "2. True Negative: Predicted Check-in, Actual Check-in.\n",
    "3. False Positive: Predicted Cancelled, Actual Check-in.\n",
    "4. False Negative: Predicted Check-in, Actual Cancelled.\n",
    "\n",
    "In short term POV, false negative of booking cancellation prediction is more likely resulting in profit-loss because of unnecessary preparation of the hotel towards non-existent customer. But in the long term POV, failing to prepare for the customer's arrival also will reduce our customer's experience, resulting in unseen profit/opportunity-loss in the future (false positive). So, minimizing the false negative (**Recall**) or balancing false positive and false negative (**F1 score**) can work for this prediction model building."
   ]
  },
  {
   "cell_type": "markdown",
   "id": "3d3c9486",
   "metadata": {},
   "source": [
    "# Method Selection"
   ]
  },
  {
   "cell_type": "code",
   "execution_count": 190,
   "id": "84fe2b82",
   "metadata": {
    "ExecuteTime": {
     "end_time": "2022-03-30T07:47:07.249493Z",
     "start_time": "2022-03-30T07:46:59.507421Z"
    }
   },
   "outputs": [],
   "source": [
    "from sklearn.tree import DecisionTreeClassifier, plot_tree\n",
    "from sklearn.neighbors import KNeighborsClassifier\n",
    "from sklearn.linear_model import LogisticRegression\n",
    "from sklearn.ensemble import AdaBoostClassifier, GradientBoostingClassifier,RandomForestClassifier\n",
    "from xgboost.sklearn import XGBClassifier\n",
    "\n",
    "from sklearn.model_selection import GridSearchCV, StratifiedKFold\n",
    "from sklearn.metrics import classification_report\n",
    "from sklearn.model_selection import cross_val_score"
   ]
  },
  {
   "cell_type": "code",
   "execution_count": 191,
   "id": "8d0b6f77",
   "metadata": {
    "ExecuteTime": {
     "end_time": "2022-03-30T07:47:07.480117Z",
     "start_time": "2022-03-30T07:47:07.472331Z"
    }
   },
   "outputs": [],
   "source": [
    "model_logreg = LogisticRegression(solver='liblinear',random_state=10)\n",
    "model_knn= KNeighborsClassifier()\n",
    "model_tree= DecisionTreeClassifier(random_state=10)\n",
    "model_rfc = RandomForestClassifier(random_state=10)\n",
    "model_ada= AdaBoostClassifier(random_state=10)\n",
    "model_gbc= GradientBoostingClassifier(random_state=10)\n",
    "model_xgbc= XGBClassifier(random_state=10)"
   ]
  },
  {
   "cell_type": "code",
   "execution_count": 192,
   "id": "acef5926",
   "metadata": {
    "ExecuteTime": {
     "end_time": "2022-03-30T07:47:07.712743Z",
     "start_time": "2022-03-30T07:47:07.706905Z"
    }
   },
   "outputs": [],
   "source": [
    "estimator=Pipeline([\n",
    "    ('preprocess',transformer),\n",
    "    ('model',model_tree)\n",
    "])"
   ]
  },
  {
   "cell_type": "code",
   "execution_count": 193,
   "id": "770a4278",
   "metadata": {
    "ExecuteTime": {
     "end_time": "2022-03-30T07:47:07.988200Z",
     "start_time": "2022-03-30T07:47:07.983330Z"
    }
   },
   "outputs": [],
   "source": [
    "hyperparam_space={\n",
    "    'model':[model_tree,model_knn,model_tree,model_rfc,model_ada,model_gbc,model_xgbc]\n",
    "}"
   ]
  },
  {
   "cell_type": "code",
   "execution_count": 194,
   "id": "3711152a",
   "metadata": {
    "ExecuteTime": {
     "end_time": "2022-03-30T07:47:08.275340Z",
     "start_time": "2022-03-30T07:47:08.268515Z"
    }
   },
   "outputs": [],
   "source": [
    "skfold=StratifiedKFold(n_splits=5)\n",
    "grid=GridSearchCV(\n",
    "    estimator,\n",
    "    param_grid=hyperparam_space,\n",
    "    cv=skfold,\n",
    "    scoring='f1',\n",
    "    n_jobs=-1\n",
    ")"
   ]
  },
  {
   "cell_type": "code",
   "execution_count": 195,
   "id": "19e7eb60",
   "metadata": {
    "ExecuteTime": {
     "end_time": "2022-03-30T07:47:17.828592Z",
     "start_time": "2022-03-30T07:47:08.683155Z"
    }
   },
   "outputs": [
    {
     "data": {
      "text/plain": [
       "GridSearchCV(cv=StratifiedKFold(n_splits=5, random_state=None, shuffle=False),\n",
       "             estimator=Pipeline(steps=[('preprocess',\n",
       "                                        ColumnTransformer(remainder='passthrough',\n",
       "                                                          transformers=[('one '\n",
       "                                                                         'hot',\n",
       "                                                                         OneHotEncoder(drop='first'),\n",
       "                                                                         ['distribution_channel',\n",
       "                                                                          'deposit_type',\n",
       "                                                                          'customer_type']),\n",
       "                                                                        ('binary',\n",
       "                                                                         BinaryEncoder(),\n",
       "                                                                         ['meal',\n",
       "                                                                          'country',\n",
       "                                                                          'market_segment',\n",
       "                                                                          'reserved_room_type'...\n",
       "                                                 interaction_constraints=None,\n",
       "                                                 learning_rate=None,\n",
       "                                                 max_delta_step=None,\n",
       "                                                 max_depth=None,\n",
       "                                                 min_child_weight=None,\n",
       "                                                 missing=nan,\n",
       "                                                 monotone_constraints=None,\n",
       "                                                 n_estimators=100, n_jobs=None,\n",
       "                                                 num_parallel_tree=None,\n",
       "                                                 predictor=None,\n",
       "                                                 random_state=10,\n",
       "                                                 reg_alpha=None,\n",
       "                                                 reg_lambda=None,\n",
       "                                                 scale_pos_weight=None,\n",
       "                                                 subsample=None,\n",
       "                                                 tree_method=None,\n",
       "                                                 validate_parameters=None,\n",
       "                                                 verbosity=None)]},\n",
       "             scoring='f1')"
      ]
     },
     "execution_count": 195,
     "metadata": {},
     "output_type": "execute_result"
    }
   ],
   "source": [
    "grid.fit(x_train,y_train)"
   ]
  },
  {
   "cell_type": "code",
   "execution_count": 196,
   "id": "891f83ce",
   "metadata": {
    "ExecuteTime": {
     "end_time": "2022-03-30T07:47:18.270482Z",
     "start_time": "2022-03-30T07:47:18.239336Z"
    },
    "scrolled": true
   },
   "outputs": [
    {
     "data": {
      "text/html": [
       "<div>\n",
       "<style scoped>\n",
       "    .dataframe tbody tr th:only-of-type {\n",
       "        vertical-align: middle;\n",
       "    }\n",
       "\n",
       "    .dataframe tbody tr th {\n",
       "        vertical-align: top;\n",
       "    }\n",
       "\n",
       "    .dataframe thead th {\n",
       "        text-align: right;\n",
       "    }\n",
       "</style>\n",
       "<table border=\"1\" class=\"dataframe\">\n",
       "  <thead>\n",
       "    <tr style=\"text-align: right;\">\n",
       "      <th></th>\n",
       "      <th>params</th>\n",
       "      <th>mean_test_score</th>\n",
       "      <th>std_test_score</th>\n",
       "      <th>rank_test_score</th>\n",
       "    </tr>\n",
       "  </thead>\n",
       "  <tbody>\n",
       "    <tr>\n",
       "      <th>0</th>\n",
       "      <td>{'model': DecisionTreeClassifier(random_state=...</td>\n",
       "      <td>0.850731</td>\n",
       "      <td>0.013533</td>\n",
       "      <td>5</td>\n",
       "    </tr>\n",
       "    <tr>\n",
       "      <th>1</th>\n",
       "      <td>{'model': KNeighborsClassifier()}</td>\n",
       "      <td>0.810721</td>\n",
       "      <td>0.018066</td>\n",
       "      <td>7</td>\n",
       "    </tr>\n",
       "    <tr>\n",
       "      <th>2</th>\n",
       "      <td>{'model': DecisionTreeClassifier(random_state=...</td>\n",
       "      <td>0.850731</td>\n",
       "      <td>0.013533</td>\n",
       "      <td>5</td>\n",
       "    </tr>\n",
       "    <tr>\n",
       "      <th>3</th>\n",
       "      <td>{'model': RandomForestClassifier(random_state=...</td>\n",
       "      <td>0.860214</td>\n",
       "      <td>0.012437</td>\n",
       "      <td>3</td>\n",
       "    </tr>\n",
       "    <tr>\n",
       "      <th>4</th>\n",
       "      <td>{'model': AdaBoostClassifier(random_state=10)}</td>\n",
       "      <td>0.854298</td>\n",
       "      <td>0.012674</td>\n",
       "      <td>4</td>\n",
       "    </tr>\n",
       "    <tr>\n",
       "      <th>5</th>\n",
       "      <td>{'model': GradientBoostingClassifier(random_st...</td>\n",
       "      <td>0.862410</td>\n",
       "      <td>0.012971</td>\n",
       "      <td>1</td>\n",
       "    </tr>\n",
       "    <tr>\n",
       "      <th>6</th>\n",
       "      <td>{'model': XGBClassifier(base_score=None, boost...</td>\n",
       "      <td>0.860702</td>\n",
       "      <td>0.009606</td>\n",
       "      <td>2</td>\n",
       "    </tr>\n",
       "  </tbody>\n",
       "</table>\n",
       "</div>"
      ],
      "text/plain": [
       "                                              params  mean_test_score  \\\n",
       "0  {'model': DecisionTreeClassifier(random_state=...         0.850731   \n",
       "1                  {'model': KNeighborsClassifier()}         0.810721   \n",
       "2  {'model': DecisionTreeClassifier(random_state=...         0.850731   \n",
       "3  {'model': RandomForestClassifier(random_state=...         0.860214   \n",
       "4     {'model': AdaBoostClassifier(random_state=10)}         0.854298   \n",
       "5  {'model': GradientBoostingClassifier(random_st...         0.862410   \n",
       "6  {'model': XGBClassifier(base_score=None, boost...         0.860702   \n",
       "\n",
       "   std_test_score  rank_test_score  \n",
       "0        0.013533                5  \n",
       "1        0.018066                7  \n",
       "2        0.013533                5  \n",
       "3        0.012437                3  \n",
       "4        0.012674                4  \n",
       "5        0.012971                1  \n",
       "6        0.009606                2  "
      ]
     },
     "execution_count": 196,
     "metadata": {},
     "output_type": "execute_result"
    }
   ],
   "source": [
    "pd.DataFrame(grid.cv_results_)[['params','mean_test_score','std_test_score','rank_test_score']]"
   ]
  },
  {
   "cell_type": "markdown",
   "id": "3ffc5261",
   "metadata": {},
   "source": [
    "Gradient boosting had the highest score. But, considering the standard deviation, XGBClassifier model was chosen for prediction model building."
   ]
  },
  {
   "cell_type": "markdown",
   "id": "b5c432a5",
   "metadata": {},
   "source": [
    "# Base Model"
   ]
  },
  {
   "cell_type": "code",
   "execution_count": 215,
   "id": "8bb72271",
   "metadata": {
    "ExecuteTime": {
     "end_time": "2022-03-30T08:11:26.500950Z",
     "start_time": "2022-03-30T08:11:26.340574Z"
    }
   },
   "outputs": [
    {
     "name": "stdout",
     "output_type": "stream",
     "text": [
      "[15:11:26] WARNING: C:/Users/Administrator/workspace/xgboost-win64_release_1.5.1/src/learner.cc:576: \n",
      "Parameters: { \"scoring\" } might not be used.\n",
      "\n",
      "  This could be a false alarm, with some parameters getting used by language bindings but\n",
      "  then being mistakenly passed down to XGBoost core, or some parameter actually being used\n",
      "  but getting flagged wrongly here. Please open an issue if you find any such cases.\n",
      "\n",
      "\n",
      "[15:11:26] WARNING: C:/Users/Administrator/workspace/xgboost-win64_release_1.5.1/src/learner.cc:1115: Starting in XGBoost 1.3.0, the default evaluation metric used with the objective 'binary:logistic' was changed from 'error' to 'logloss'. Explicitly set eval_metric if you'd like to restore the old behavior.\n"
     ]
    },
    {
     "data": {
      "text/plain": [
       "Pipeline(steps=[('preprocessing',\n",
       "                 ColumnTransformer(remainder='passthrough',\n",
       "                                   transformers=[('one hot',\n",
       "                                                  OneHotEncoder(drop='first'),\n",
       "                                                  ['distribution_channel',\n",
       "                                                   'deposit_type',\n",
       "                                                   'customer_type']),\n",
       "                                                 ('binary', BinaryEncoder(),\n",
       "                                                  ['meal', 'country',\n",
       "                                                   'market_segment',\n",
       "                                                   'reserved_room_type']),\n",
       "                                                 ('robust', RobustScaler(),\n",
       "                                                  ['adults', 'booking_changes',\n",
       "                                                   'days_in_waiting_list'])])),\n",
       "                (...\n",
       "                               interaction_constraints='',\n",
       "                               learning_rate=0.300000012, max_delta_step=0,\n",
       "                               max_depth=6, min_child_weight=1, missing=nan,\n",
       "                               monotone_constraints='()', n_estimators=100,\n",
       "                               n_jobs=16, num_parallel_tree=1, predictor='auto',\n",
       "                               random_state=10, reg_alpha=0, reg_lambda=1,\n",
       "                               scale_pos_weight=1, scoring='f1', subsample=1,\n",
       "                               tree_method='exact', use_label_encoder=False,\n",
       "                               validate_parameters=1, verbosity=None))])"
      ]
     },
     "execution_count": 215,
     "metadata": {},
     "output_type": "execute_result"
    }
   ],
   "source": [
    "best_model= XGBClassifier(random_state=10, use_label_encoder=False, scoring='f1')\n",
    "\n",
    "estimator = Pipeline([\n",
    "        ('preprocessing', transformer),\n",
    "        ('model', best_model)])\n",
    "\n",
    "estimator.fit(x_train,y_train)"
   ]
  },
  {
   "cell_type": "code",
   "execution_count": 216,
   "id": "75d9f4dd",
   "metadata": {
    "ExecuteTime": {
     "end_time": "2022-03-30T08:11:27.963061Z",
     "start_time": "2022-03-30T08:11:27.942622Z"
    }
   },
   "outputs": [
    {
     "name": "stdout",
     "output_type": "stream",
     "text": [
      "              precision    recall  f1-score   support\n",
      "\n",
      "           0       0.90      0.84      0.87       540\n",
      "           1       0.83      0.89      0.86       460\n",
      "\n",
      "    accuracy                           0.86      1000\n",
      "   macro avg       0.86      0.86      0.86      1000\n",
      "weighted avg       0.87      0.86      0.86      1000\n",
      "\n"
     ]
    }
   ],
   "source": [
    "y_pred=estimator.predict(x_test)\n",
    "print(classification_report(y_test,y_pred))"
   ]
  },
  {
   "cell_type": "markdown",
   "id": "3fc6277a",
   "metadata": {},
   "source": [
    "Can we improve the model performance?"
   ]
  },
  {
   "cell_type": "markdown",
   "id": "4bdc3b95",
   "metadata": {},
   "source": [
    "# Hyperparameter Tuning"
   ]
  },
  {
   "cell_type": "code",
   "execution_count": 217,
   "id": "e6384b40",
   "metadata": {
    "ExecuteTime": {
     "end_time": "2022-03-30T08:11:31.555679Z",
     "start_time": "2022-03-30T08:11:31.551786Z"
    }
   },
   "outputs": [],
   "source": [
    "model_xgbc= XGBClassifier(random_state=10)\n",
    "estimator=Pipeline([\n",
    "    ('preprocess',transformer),\n",
    "    ('model',model_xgbc)\n",
    "])"
   ]
  },
  {
   "cell_type": "code",
   "execution_count": 201,
   "id": "5fc021d6",
   "metadata": {
    "ExecuteTime": {
     "end_time": "2022-03-30T07:53:43.092268Z",
     "start_time": "2022-03-30T07:53:43.063078Z"
    },
    "scrolled": false
   },
   "outputs": [
    {
     "data": {
      "text/plain": [
       "{'memory': None,\n",
       " 'steps': [('preprocess',\n",
       "   ColumnTransformer(remainder='passthrough',\n",
       "                     transformers=[('one hot', OneHotEncoder(drop='first'),\n",
       "                                    ['distribution_channel', 'deposit_type',\n",
       "                                     'customer_type']),\n",
       "                                   ('binary', BinaryEncoder(),\n",
       "                                    ['meal', 'country', 'market_segment',\n",
       "                                     'reserved_room_type']),\n",
       "                                   ('robust', RobustScaler(),\n",
       "                                    ['adults', 'booking_changes',\n",
       "                                     'days_in_waiting_list'])])),\n",
       "  ('model',\n",
       "   XGBClassifier(base_score=None, booster=None, colsample_bylevel=None,\n",
       "                 colsample_bynode=None, colsample_bytree=None,\n",
       "                 enable_categorical=False, gamma=None, gpu_id=None,\n",
       "                 importance_type=None, interaction_constraints=None,\n",
       "                 learning_rate=None, max_delta_step=None, max_depth=None,\n",
       "                 min_child_weight=None, missing=nan, monotone_constraints=None,\n",
       "                 n_estimators=100, n_jobs=None, num_parallel_tree=None,\n",
       "                 predictor=None, random_state=10, reg_alpha=None, reg_lambda=None,\n",
       "                 scale_pos_weight=None, subsample=None, tree_method=None,\n",
       "                 validate_parameters=None, verbosity=None))],\n",
       " 'verbose': False,\n",
       " 'preprocess': ColumnTransformer(remainder='passthrough',\n",
       "                   transformers=[('one hot', OneHotEncoder(drop='first'),\n",
       "                                  ['distribution_channel', 'deposit_type',\n",
       "                                   'customer_type']),\n",
       "                                 ('binary', BinaryEncoder(),\n",
       "                                  ['meal', 'country', 'market_segment',\n",
       "                                   'reserved_room_type']),\n",
       "                                 ('robust', RobustScaler(),\n",
       "                                  ['adults', 'booking_changes',\n",
       "                                   'days_in_waiting_list'])]),\n",
       " 'model': XGBClassifier(base_score=None, booster=None, colsample_bylevel=None,\n",
       "               colsample_bynode=None, colsample_bytree=None,\n",
       "               enable_categorical=False, gamma=None, gpu_id=None,\n",
       "               importance_type=None, interaction_constraints=None,\n",
       "               learning_rate=None, max_delta_step=None, max_depth=None,\n",
       "               min_child_weight=None, missing=nan, monotone_constraints=None,\n",
       "               n_estimators=100, n_jobs=None, num_parallel_tree=None,\n",
       "               predictor=None, random_state=10, reg_alpha=None, reg_lambda=None,\n",
       "               scale_pos_weight=None, subsample=None, tree_method=None,\n",
       "               validate_parameters=None, verbosity=None),\n",
       " 'preprocess__n_jobs': None,\n",
       " 'preprocess__remainder': 'passthrough',\n",
       " 'preprocess__sparse_threshold': 0.3,\n",
       " 'preprocess__transformer_weights': None,\n",
       " 'preprocess__transformers': [('one hot',\n",
       "   OneHotEncoder(drop='first'),\n",
       "   ['distribution_channel', 'deposit_type', 'customer_type']),\n",
       "  ('binary',\n",
       "   BinaryEncoder(),\n",
       "   ['meal', 'country', 'market_segment', 'reserved_room_type']),\n",
       "  ('robust',\n",
       "   RobustScaler(),\n",
       "   ['adults', 'booking_changes', 'days_in_waiting_list'])],\n",
       " 'preprocess__verbose': False,\n",
       " 'preprocess__verbose_feature_names_out': True,\n",
       " 'preprocess__one hot': OneHotEncoder(drop='first'),\n",
       " 'preprocess__binary': BinaryEncoder(),\n",
       " 'preprocess__robust': RobustScaler(),\n",
       " 'preprocess__one hot__categories': 'auto',\n",
       " 'preprocess__one hot__drop': 'first',\n",
       " 'preprocess__one hot__dtype': numpy.float64,\n",
       " 'preprocess__one hot__handle_unknown': 'error',\n",
       " 'preprocess__one hot__sparse': True,\n",
       " 'preprocess__binary__cols': None,\n",
       " 'preprocess__binary__drop_invariant': False,\n",
       " 'preprocess__binary__handle_missing': 'value',\n",
       " 'preprocess__binary__handle_unknown': 'value',\n",
       " 'preprocess__binary__mapping': None,\n",
       " 'preprocess__binary__return_df': True,\n",
       " 'preprocess__binary__verbose': 0,\n",
       " 'preprocess__robust__copy': True,\n",
       " 'preprocess__robust__quantile_range': (25.0, 75.0),\n",
       " 'preprocess__robust__unit_variance': False,\n",
       " 'preprocess__robust__with_centering': True,\n",
       " 'preprocess__robust__with_scaling': True,\n",
       " 'model__objective': 'binary:logistic',\n",
       " 'model__use_label_encoder': True,\n",
       " 'model__base_score': None,\n",
       " 'model__booster': None,\n",
       " 'model__colsample_bylevel': None,\n",
       " 'model__colsample_bynode': None,\n",
       " 'model__colsample_bytree': None,\n",
       " 'model__enable_categorical': False,\n",
       " 'model__gamma': None,\n",
       " 'model__gpu_id': None,\n",
       " 'model__importance_type': None,\n",
       " 'model__interaction_constraints': None,\n",
       " 'model__learning_rate': None,\n",
       " 'model__max_delta_step': None,\n",
       " 'model__max_depth': None,\n",
       " 'model__min_child_weight': None,\n",
       " 'model__missing': nan,\n",
       " 'model__monotone_constraints': None,\n",
       " 'model__n_estimators': 100,\n",
       " 'model__n_jobs': None,\n",
       " 'model__num_parallel_tree': None,\n",
       " 'model__predictor': None,\n",
       " 'model__random_state': 10,\n",
       " 'model__reg_alpha': None,\n",
       " 'model__reg_lambda': None,\n",
       " 'model__scale_pos_weight': None,\n",
       " 'model__subsample': None,\n",
       " 'model__tree_method': None,\n",
       " 'model__validate_parameters': None,\n",
       " 'model__verbosity': None}"
      ]
     },
     "execution_count": 201,
     "metadata": {},
     "output_type": "execute_result"
    }
   ],
   "source": [
    "estimator.get_params()"
   ]
  },
  {
   "cell_type": "code",
   "execution_count": 202,
   "id": "a24af5ee",
   "metadata": {
    "ExecuteTime": {
     "end_time": "2022-03-30T07:53:43.519559Z",
     "start_time": "2022-03-30T07:53:43.512750Z"
    }
   },
   "outputs": [],
   "source": [
    "hyperparam_space={\n",
    "    'model__max_depth':[2,3,4,5,6,7,8],\n",
    "    'model__n_estimators':[20,40,60,80,100],\n",
    "    'model__learning_rate':[0.001,0.01,0.1,0.2,0.3],\n",
    "    'model__eval_metric':['error','logloss']\n",
    "}"
   ]
  },
  {
   "cell_type": "code",
   "execution_count": 203,
   "id": "04889ba1",
   "metadata": {
    "ExecuteTime": {
     "end_time": "2022-03-30T07:53:43.937119Z",
     "start_time": "2022-03-30T07:53:43.930310Z"
    }
   },
   "outputs": [],
   "source": [
    "skfold=StratifiedKFold(n_splits=5)\n",
    "grid_search=GridSearchCV(\n",
    "    estimator,\n",
    "    param_grid=hyperparam_space,\n",
    "    cv=skfold,\n",
    "    scoring='f1',\n",
    "    n_jobs=-1\n",
    ")"
   ]
  },
  {
   "cell_type": "code",
   "execution_count": 204,
   "id": "b3e10520",
   "metadata": {
    "ExecuteTime": {
     "end_time": "2022-03-30T07:58:20.427883Z",
     "start_time": "2022-03-30T07:53:44.431576Z"
    }
   },
   "outputs": [
    {
     "name": "stderr",
     "output_type": "stream",
     "text": [
      "C:\\Anaconda\\lib\\site-packages\\xgboost\\sklearn.py:1224: UserWarning: The use of label encoder in XGBClassifier is deprecated and will be removed in a future release. To remove this warning, do the following: 1) Pass option use_label_encoder=False when constructing XGBClassifier object; and 2) Encode your labels (y) as integers starting with 0, i.e. 0, 1, 2, ..., [num_class - 1].\n",
      "  warnings.warn(label_encoder_deprecation_msg, UserWarning)\n"
     ]
    },
    {
     "data": {
      "text/plain": [
       "GridSearchCV(cv=StratifiedKFold(n_splits=5, random_state=None, shuffle=False),\n",
       "             estimator=Pipeline(steps=[('preprocess',\n",
       "                                        ColumnTransformer(remainder='passthrough',\n",
       "                                                          transformers=[('one '\n",
       "                                                                         'hot',\n",
       "                                                                         OneHotEncoder(drop='first'),\n",
       "                                                                         ['distribution_channel',\n",
       "                                                                          'deposit_type',\n",
       "                                                                          'customer_type']),\n",
       "                                                                        ('binary',\n",
       "                                                                         BinaryEncoder(),\n",
       "                                                                         ['meal',\n",
       "                                                                          'country',\n",
       "                                                                          'market_segment',\n",
       "                                                                          'reserved_room_type'...\n",
       "                                                      predictor=None,\n",
       "                                                      random_state=10,\n",
       "                                                      reg_alpha=None,\n",
       "                                                      reg_lambda=None,\n",
       "                                                      scale_pos_weight=None,\n",
       "                                                      subsample=None,\n",
       "                                                      tree_method=None,\n",
       "                                                      validate_parameters=None,\n",
       "                                                      verbosity=None))]),\n",
       "             n_jobs=-1,\n",
       "             param_grid={'model__eval_metric': ['error', 'logloss'],\n",
       "                         'model__learning_rate': [0.001, 0.01, 0.1, 0.2, 0.3],\n",
       "                         'model__max_depth': [2, 3, 4, 5, 6, 7, 8],\n",
       "                         'model__n_estimators': [20, 40, 60, 80, 100]},\n",
       "             scoring='f1')"
      ]
     },
     "execution_count": 204,
     "metadata": {},
     "output_type": "execute_result"
    }
   ],
   "source": [
    "grid_search.fit(x_train,y_train)"
   ]
  },
  {
   "cell_type": "code",
   "execution_count": 205,
   "id": "3480bd65",
   "metadata": {
    "ExecuteTime": {
     "end_time": "2022-03-30T07:58:21.066849Z",
     "start_time": "2022-03-30T07:58:21.060038Z"
    }
   },
   "outputs": [
    {
     "name": "stdout",
     "output_type": "stream",
     "text": [
      "0.8695425025209577\n",
      "{'model__eval_metric': 'error', 'model__learning_rate': 0.2, 'model__max_depth': 8, 'model__n_estimators': 20}\n"
     ]
    }
   ],
   "source": [
    "print(grid_search.best_score_)\n",
    "print(grid_search.best_params_)"
   ]
  },
  {
   "cell_type": "markdown",
   "id": "1fc931bd",
   "metadata": {},
   "source": [
    "# Test Dataset"
   ]
  },
  {
   "cell_type": "code",
   "execution_count": 218,
   "id": "050a4e0e",
   "metadata": {
    "ExecuteTime": {
     "end_time": "2022-03-30T08:11:46.089340Z",
     "start_time": "2022-03-30T08:11:46.000774Z"
    }
   },
   "outputs": [
    {
     "name": "stdout",
     "output_type": "stream",
     "text": [
      "[15:11:46] WARNING: C:/Users/Administrator/workspace/xgboost-win64_release_1.5.1/src/learner.cc:576: \n",
      "Parameters: { \"scoring\" } might not be used.\n",
      "\n",
      "  This could be a false alarm, with some parameters getting used by language bindings but\n",
      "  then being mistakenly passed down to XGBoost core, or some parameter actually being used\n",
      "  but getting flagged wrongly here. Please open an issue if you find any such cases.\n",
      "\n",
      "\n"
     ]
    },
    {
     "data": {
      "text/plain": [
       "Pipeline(steps=[('preprocessing',\n",
       "                 ColumnTransformer(remainder='passthrough',\n",
       "                                   transformers=[('one hot',\n",
       "                                                  OneHotEncoder(drop='first'),\n",
       "                                                  ['distribution_channel',\n",
       "                                                   'deposit_type',\n",
       "                                                   'customer_type']),\n",
       "                                                 ('binary', BinaryEncoder(),\n",
       "                                                  ['meal', 'country',\n",
       "                                                   'market_segment',\n",
       "                                                   'reserved_room_type']),\n",
       "                                                 ('robust', RobustScaler(),\n",
       "                                                  ['adults', 'booking_changes',\n",
       "                                                   'days_in_waiting_list'])])),\n",
       "                (...\n",
       "                               importance_type=None, interaction_constraints='',\n",
       "                               learning_rate=0.2, max_delta_step=0, max_depth=8,\n",
       "                               min_child_weight=1, missing=nan,\n",
       "                               monotone_constraints='()', n_estimators=20,\n",
       "                               n_jobs=16, num_parallel_tree=1, predictor='auto',\n",
       "                               random_state=10, reg_alpha=0, reg_lambda=1,\n",
       "                               scale_pos_weight=1, scoring='f1', subsample=1,\n",
       "                               tree_method='exact', use_label_encoder=False,\n",
       "                               validate_parameters=1, ...))])"
      ]
     },
     "execution_count": 218,
     "metadata": {},
     "output_type": "execute_result"
    }
   ],
   "source": [
    "best_model=model_xgbc= XGBClassifier(n_estimators=20,learning_rate=0.2,\n",
    "                        random_state=10,max_depth=8, eval_metric='error', use_label_encoder=False, scoring='f1')\n",
    "estimator = Pipeline([\n",
    "        ('preprocessing', transformer),\n",
    "        ('model', best_model)])\n",
    "\n",
    "estimator.fit(x_train,y_train)"
   ]
  },
  {
   "cell_type": "code",
   "execution_count": 219,
   "id": "51c2ec82",
   "metadata": {
    "ExecuteTime": {
     "end_time": "2022-03-30T08:11:46.774459Z",
     "start_time": "2022-03-30T08:11:46.754021Z"
    }
   },
   "outputs": [
    {
     "name": "stdout",
     "output_type": "stream",
     "text": [
      "              precision    recall  f1-score   support\n",
      "\n",
      "           0       0.92      0.80      0.86       540\n",
      "           1       0.80      0.92      0.85       460\n",
      "\n",
      "    accuracy                           0.86      1000\n",
      "   macro avg       0.86      0.86      0.86      1000\n",
      "weighted avg       0.87      0.86      0.86      1000\n",
      "\n"
     ]
    }
   ],
   "source": [
    "y_pred=estimator.predict(x_test)\n",
    "print(classification_report(y_test,y_pred))"
   ]
  },
  {
   "cell_type": "markdown",
   "id": "8e0bb274",
   "metadata": {},
   "source": [
    "Hyperparameter tuning didn't improve the model performance."
   ]
  },
  {
   "cell_type": "markdown",
   "id": "1ca4d5d7",
   "metadata": {},
   "source": [
    "# Features Importances"
   ]
  },
  {
   "cell_type": "code",
   "execution_count": 208,
   "id": "6be2d68a",
   "metadata": {
    "ExecuteTime": {
     "end_time": "2022-03-30T07:58:23.011256Z",
     "start_time": "2022-03-30T07:58:23.001524Z"
    }
   },
   "outputs": [
    {
     "data": {
      "text/plain": [
       "['distribution_channel_Direct',\n",
       " 'distribution_channel_TA/TO',\n",
       " 'deposit_type_Non Refund',\n",
       " 'deposit_type_Refundable',\n",
       " 'customer_type_Group',\n",
       " 'customer_type_Transient',\n",
       " 'customer_type_Transient-Party',\n",
       " 'meal_0',\n",
       " 'meal_1',\n",
       " 'meal_2',\n",
       " 'country_0',\n",
       " 'country_1',\n",
       " 'country_2',\n",
       " 'country_3',\n",
       " 'country_4',\n",
       " 'country_5',\n",
       " 'market_segment_0',\n",
       " 'market_segment_1',\n",
       " 'market_segment_2',\n",
       " 'reserved_room_type_0',\n",
       " 'reserved_room_type_1',\n",
       " 'reserved_room_type_2',\n",
       " 'reserved_room_type_3',\n",
       " 'adults',\n",
       " 'booking_changes',\n",
       " 'days_in_waiting_list',\n",
       " 'children',\n",
       " 'babies',\n",
       " 'required_car_parking_spaces',\n",
       " 'total_of_special_requests']"
      ]
     },
     "execution_count": 208,
     "metadata": {},
     "output_type": "execute_result"
    }
   ],
   "source": [
    "features=list(transformer.transformers_[0][1].get_feature_names_out())+transformer.transformers_[1][1].get_feature_names()+['adults','booking_changes','days_in_waiting_list','children','babies','required_car_parking_spaces','total_of_special_requests']\n",
    "features"
   ]
  },
  {
   "cell_type": "code",
   "execution_count": 209,
   "id": "d71caeb0",
   "metadata": {
    "ExecuteTime": {
     "end_time": "2022-03-30T07:58:23.585385Z",
     "start_time": "2022-03-30T07:58:23.563000Z"
    }
   },
   "outputs": [
    {
     "data": {
      "text/html": [
       "<div>\n",
       "<style scoped>\n",
       "    .dataframe tbody tr th:only-of-type {\n",
       "        vertical-align: middle;\n",
       "    }\n",
       "\n",
       "    .dataframe tbody tr th {\n",
       "        vertical-align: top;\n",
       "    }\n",
       "\n",
       "    .dataframe thead th {\n",
       "        text-align: right;\n",
       "    }\n",
       "</style>\n",
       "<table border=\"1\" class=\"dataframe\">\n",
       "  <thead>\n",
       "    <tr style=\"text-align: right;\">\n",
       "      <th></th>\n",
       "      <th>imp</th>\n",
       "    </tr>\n",
       "  </thead>\n",
       "  <tbody>\n",
       "    <tr>\n",
       "      <th>country_4</th>\n",
       "      <td>0.452858</td>\n",
       "    </tr>\n",
       "    <tr>\n",
       "      <th>required_car_parking_spaces</th>\n",
       "      <td>0.095445</td>\n",
       "    </tr>\n",
       "    <tr>\n",
       "      <th>deposit_type_Non Refund</th>\n",
       "      <td>0.060972</td>\n",
       "    </tr>\n",
       "    <tr>\n",
       "      <th>country_1</th>\n",
       "      <td>0.055014</td>\n",
       "    </tr>\n",
       "    <tr>\n",
       "      <th>days_in_waiting_list</th>\n",
       "      <td>0.050099</td>\n",
       "    </tr>\n",
       "    <tr>\n",
       "      <th>market_segment_2</th>\n",
       "      <td>0.040319</td>\n",
       "    </tr>\n",
       "    <tr>\n",
       "      <th>country_2</th>\n",
       "      <td>0.037704</td>\n",
       "    </tr>\n",
       "    <tr>\n",
       "      <th>meal_0</th>\n",
       "      <td>0.030468</td>\n",
       "    </tr>\n",
       "    <tr>\n",
       "      <th>distribution_channel_TA/TO</th>\n",
       "      <td>0.028754</td>\n",
       "    </tr>\n",
       "    <tr>\n",
       "      <th>country_5</th>\n",
       "      <td>0.018305</td>\n",
       "    </tr>\n",
       "    <tr>\n",
       "      <th>booking_changes</th>\n",
       "      <td>0.014431</td>\n",
       "    </tr>\n",
       "    <tr>\n",
       "      <th>country_0</th>\n",
       "      <td>0.014062</td>\n",
       "    </tr>\n",
       "    <tr>\n",
       "      <th>country_3</th>\n",
       "      <td>0.012994</td>\n",
       "    </tr>\n",
       "    <tr>\n",
       "      <th>babies</th>\n",
       "      <td>0.010425</td>\n",
       "    </tr>\n",
       "    <tr>\n",
       "      <th>customer_type_Transient-Party</th>\n",
       "      <td>0.009709</td>\n",
       "    </tr>\n",
       "    <tr>\n",
       "      <th>customer_type_Transient</th>\n",
       "      <td>0.009669</td>\n",
       "    </tr>\n",
       "    <tr>\n",
       "      <th>customer_type_Group</th>\n",
       "      <td>0.009357</td>\n",
       "    </tr>\n",
       "    <tr>\n",
       "      <th>reserved_room_type_1</th>\n",
       "      <td>0.007356</td>\n",
       "    </tr>\n",
       "    <tr>\n",
       "      <th>market_segment_1</th>\n",
       "      <td>0.007111</td>\n",
       "    </tr>\n",
       "    <tr>\n",
       "      <th>market_segment_0</th>\n",
       "      <td>0.006810</td>\n",
       "    </tr>\n",
       "    <tr>\n",
       "      <th>meal_1</th>\n",
       "      <td>0.005145</td>\n",
       "    </tr>\n",
       "    <tr>\n",
       "      <th>adults</th>\n",
       "      <td>0.005062</td>\n",
       "    </tr>\n",
       "    <tr>\n",
       "      <th>total_of_special_requests</th>\n",
       "      <td>0.004227</td>\n",
       "    </tr>\n",
       "    <tr>\n",
       "      <th>meal_2</th>\n",
       "      <td>0.003613</td>\n",
       "    </tr>\n",
       "    <tr>\n",
       "      <th>reserved_room_type_3</th>\n",
       "      <td>0.003521</td>\n",
       "    </tr>\n",
       "    <tr>\n",
       "      <th>children</th>\n",
       "      <td>0.003023</td>\n",
       "    </tr>\n",
       "    <tr>\n",
       "      <th>reserved_room_type_2</th>\n",
       "      <td>0.002362</td>\n",
       "    </tr>\n",
       "    <tr>\n",
       "      <th>distribution_channel_Direct</th>\n",
       "      <td>0.001186</td>\n",
       "    </tr>\n",
       "    <tr>\n",
       "      <th>reserved_room_type_0</th>\n",
       "      <td>0.000000</td>\n",
       "    </tr>\n",
       "    <tr>\n",
       "      <th>deposit_type_Refundable</th>\n",
       "      <td>0.000000</td>\n",
       "    </tr>\n",
       "  </tbody>\n",
       "</table>\n",
       "</div>"
      ],
      "text/plain": [
       "                                    imp\n",
       "country_4                      0.452858\n",
       "required_car_parking_spaces    0.095445\n",
       "deposit_type_Non Refund        0.060972\n",
       "country_1                      0.055014\n",
       "days_in_waiting_list           0.050099\n",
       "market_segment_2               0.040319\n",
       "country_2                      0.037704\n",
       "meal_0                         0.030468\n",
       "distribution_channel_TA/TO     0.028754\n",
       "country_5                      0.018305\n",
       "booking_changes                0.014431\n",
       "country_0                      0.014062\n",
       "country_3                      0.012994\n",
       "babies                         0.010425\n",
       "customer_type_Transient-Party  0.009709\n",
       "customer_type_Transient        0.009669\n",
       "customer_type_Group            0.009357\n",
       "reserved_room_type_1           0.007356\n",
       "market_segment_1               0.007111\n",
       "market_segment_0               0.006810\n",
       "meal_1                         0.005145\n",
       "adults                         0.005062\n",
       "total_of_special_requests      0.004227\n",
       "meal_2                         0.003613\n",
       "reserved_room_type_3           0.003521\n",
       "children                       0.003023\n",
       "reserved_room_type_2           0.002362\n",
       "distribution_channel_Direct    0.001186\n",
       "reserved_room_type_0           0.000000\n",
       "deposit_type_Refundable        0.000000"
      ]
     },
     "execution_count": 209,
     "metadata": {},
     "output_type": "execute_result"
    }
   ],
   "source": [
    "pd.DataFrame({'imp':best_model.feature_importances_},index=features).sort_values('imp', ascending=False)"
   ]
  }
 ],
 "metadata": {
  "kernelspec": {
   "display_name": "Python 3 (ipykernel)",
   "language": "python",
   "name": "python3"
  },
  "language_info": {
   "codemirror_mode": {
    "name": "ipython",
    "version": 3
   },
   "file_extension": ".py",
   "mimetype": "text/x-python",
   "name": "python",
   "nbconvert_exporter": "python",
   "pygments_lexer": "ipython3",
   "version": "3.9.7"
  },
  "toc": {
   "base_numbering": 1,
   "nav_menu": {},
   "number_sections": true,
   "sideBar": true,
   "skip_h1_title": false,
   "title_cell": "Table of Contents",
   "title_sidebar": "Contents",
   "toc_cell": false,
   "toc_position": {
    "height": "calc(100% - 180px)",
    "left": "10px",
    "top": "150px",
    "width": "303.837px"
   },
   "toc_section_display": true,
   "toc_window_display": true
  },
  "varInspector": {
   "cols": {
    "lenName": 16,
    "lenType": 16,
    "lenVar": 40
   },
   "kernels_config": {
    "python": {
     "delete_cmd_postfix": "",
     "delete_cmd_prefix": "del ",
     "library": "var_list.py",
     "varRefreshCmd": "print(var_dic_list())"
    },
    "r": {
     "delete_cmd_postfix": ") ",
     "delete_cmd_prefix": "rm(",
     "library": "var_list.r",
     "varRefreshCmd": "cat(var_dic_list()) "
    }
   },
   "types_to_exclude": [
    "module",
    "function",
    "builtin_function_or_method",
    "instance",
    "_Feature"
   ],
   "window_display": false
  }
 },
 "nbformat": 4,
 "nbformat_minor": 5
}
